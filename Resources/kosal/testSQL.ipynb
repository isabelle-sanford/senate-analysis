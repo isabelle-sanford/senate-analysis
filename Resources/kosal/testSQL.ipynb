{
 "cells": [
  {
   "cell_type": "code",
   "execution_count": 1,
   "metadata": {},
   "outputs": [],
   "source": [
    "import pandas as pd\n",
    "from sqlalchemy import create_engine\n",
    "from sqlalchemy import Column, Integer, String, Float\n",
    "\n",
    "from sqlalchemy.ext.declarative import declarative_base\n",
    "Base = declarative_base()"
   ]
  },
  {
   "cell_type": "code",
   "execution_count": null,
   "metadata": {},
   "outputs": [],
   "source": [
    "# Create Database Connection to postgres\n",
    "username = 'postgres'\n",
    "password = '320820'\n",
    "database = 'Senate_final'\n",
    "connection_string = f\"{username}:{password}@localhost:5432/{database}\"\n",
    "engine = create_engine(f'postgresql://{connection_string}')\n",
    "Base.metadata.create_all(engine)"
   ]
  },
  {
   "cell_type": "code",
   "execution_count": 2,
   "metadata": {},
   "outputs": [],
   "source": [
    "# # Create Database Connection\n",
    "# connection_string = \"postgres:320820@localhost:5432/Senate_final\"\n",
    "# engine = create_engine(f'postgresql://{connection_string}')\n",
    "# Base.metadata.create_all(engine)"
   ]
  },
  {
   "cell_type": "code",
   "execution_count": 3,
   "metadata": {},
   "outputs": [
    {
     "data": {
      "text/plain": [
       "['state',\n",
       " 'division',\n",
       " 'population',\n",
       " 'sex',\n",
       " 'origin',\n",
       " 'race',\n",
       " 'age',\n",
       " 'senate',\n",
       " 'religious']"
      ]
     },
     "execution_count": 3,
     "metadata": {},
     "output_type": "execute_result"
    }
   ],
   "source": [
    "# Confirm tables\n",
    "engine.table_names()"
   ]
  },
  {
   "cell_type": "code",
   "execution_count": 4,
   "metadata": {},
   "outputs": [],
   "source": [
    "# create connection\n",
    "conn = engine.connect()"
   ]
  },
  {
   "cell_type": "code",
   "execution_count": 5,
   "metadata": {},
   "outputs": [],
   "source": [
    "senate = pd.read_sql(\"SELECT * FROM senate\", conn)"
   ]
  },
  {
   "cell_type": "code",
   "execution_count": 6,
   "metadata": {},
   "outputs": [
    {
     "data": {
      "text/html": [
       "<div>\n",
       "<style scoped>\n",
       "    .dataframe tbody tr th:only-of-type {\n",
       "        vertical-align: middle;\n",
       "    }\n",
       "\n",
       "    .dataframe tbody tr th {\n",
       "        vertical-align: top;\n",
       "    }\n",
       "\n",
       "    .dataframe thead th {\n",
       "        text-align: right;\n",
       "    }\n",
       "</style>\n",
       "<table border=\"1\" class=\"dataframe\">\n",
       "  <thead>\n",
       "    <tr style=\"text-align: right;\">\n",
       "      <th></th>\n",
       "      <th>key</th>\n",
       "      <th>st</th>\n",
       "      <th>state</th>\n",
       "      <th>senator</th>\n",
       "      <th>party</th>\n",
       "      <th>born</th>\n",
       "      <th>assumed_office</th>\n",
       "      <th>term_up</th>\n",
       "      <th>population</th>\n",
       "    </tr>\n",
       "  </thead>\n",
       "  <tbody>\n",
       "    <tr>\n",
       "      <th>0</th>\n",
       "      <td>1</td>\n",
       "      <td>st1</td>\n",
       "      <td>Alabama</td>\n",
       "      <td>Richard Shelby</td>\n",
       "      <td>Republican</td>\n",
       "      <td>86</td>\n",
       "      <td>1987-01-03</td>\n",
       "      <td>2022</td>\n",
       "      <td>4903185</td>\n",
       "    </tr>\n",
       "    <tr>\n",
       "      <th>1</th>\n",
       "      <td>2</td>\n",
       "      <td>st1</td>\n",
       "      <td>Alabama</td>\n",
       "      <td>Tommy Tuberville</td>\n",
       "      <td>Republican</td>\n",
       "      <td>66</td>\n",
       "      <td>2021-01-03</td>\n",
       "      <td>2026</td>\n",
       "      <td>4903185</td>\n",
       "    </tr>\n",
       "    <tr>\n",
       "      <th>2</th>\n",
       "      <td>3</td>\n",
       "      <td>st2</td>\n",
       "      <td>Alaska</td>\n",
       "      <td>Lisa Murkowski</td>\n",
       "      <td>Republican</td>\n",
       "      <td>63</td>\n",
       "      <td>2002-12-20</td>\n",
       "      <td>2022</td>\n",
       "      <td>731545</td>\n",
       "    </tr>\n",
       "    <tr>\n",
       "      <th>3</th>\n",
       "      <td>4</td>\n",
       "      <td>st2</td>\n",
       "      <td>Alaska</td>\n",
       "      <td>Dan Sullivan</td>\n",
       "      <td>Republican</td>\n",
       "      <td>56</td>\n",
       "      <td>2015-01-03</td>\n",
       "      <td>2026</td>\n",
       "      <td>731545</td>\n",
       "    </tr>\n",
       "    <tr>\n",
       "      <th>4</th>\n",
       "      <td>5</td>\n",
       "      <td>st3</td>\n",
       "      <td>Arizona</td>\n",
       "      <td>Kyrsten Sinema</td>\n",
       "      <td>Democratic</td>\n",
       "      <td>44</td>\n",
       "      <td>2019-01-03</td>\n",
       "      <td>2024</td>\n",
       "      <td>7278717</td>\n",
       "    </tr>\n",
       "  </tbody>\n",
       "</table>\n",
       "</div>"
      ],
      "text/plain": [
       "   key   st    state           senator       party  born assumed_office  \\\n",
       "0    1  st1  Alabama    Richard Shelby  Republican    86     1987-01-03   \n",
       "1    2  st1  Alabama  Tommy Tuberville  Republican    66     2021-01-03   \n",
       "2    3  st2   Alaska    Lisa Murkowski  Republican    63     2002-12-20   \n",
       "3    4  st2   Alaska      Dan Sullivan  Republican    56     2015-01-03   \n",
       "4    5  st3  Arizona    Kyrsten Sinema  Democratic    44     2019-01-03   \n",
       "\n",
       "   term_up  population  \n",
       "0     2022     4903185  \n",
       "1     2026     4903185  \n",
       "2     2022      731545  \n",
       "3     2026      731545  \n",
       "4     2024     7278717  "
      ]
     },
     "execution_count": 6,
     "metadata": {},
     "output_type": "execute_result"
    }
   ],
   "source": [
    "senate.head()"
   ]
  },
  {
   "cell_type": "code",
   "execution_count": 8,
   "metadata": {},
   "outputs": [],
   "source": [
    "def mars_fac ():\n",
    "\n",
    "    # url_fac = \"https://space-facts.com/mars/\"\n",
    "\n",
    "    # Use panda to read HTML page\n",
    "    # tables = pd.read_html(url_fac)\n",
    "    # create proper mars dataFrames\n",
    "    df_mars = pd.read_sql(\"SELECT * FROM senate\", conn)\n",
    "    # df_mars.columns=[\"description\", \"value\"]\n",
    "\n",
    "    # convert dataFrames to HTML tables\n",
    "    mars_html_table = df_mars.to_html(index = False)\n",
    "\n",
    "    return mars_html_table"
   ]
  },
  {
   "cell_type": "code",
   "execution_count": 9,
   "metadata": {},
   "outputs": [],
   "source": [
    "def scrape():\n",
    "    scrape_data = {}\n",
    "    # marsNews = mars_news()\n",
    "    # scrape_data['news_title'] = marsNews['news_title']\n",
    "    # scrape_data['news_paragraph'] = marsNews['new_p']\n",
    "    # scrape_data['mars_img'] = mars_img()\n",
    "    scrape_data['mars_fac'] = mars_fac()\n",
    "    # scrape_data['mars_hemi'] = mars_hemi()\n",
    "\n",
    "    return scrape_data"
   ]
  },
  {
   "cell_type": "code",
   "execution_count": 11,
   "metadata": {},
   "outputs": [],
   "source": [
    "scrape_data = scrape()"
   ]
  },
  {
   "cell_type": "code",
   "execution_count": 12,
   "metadata": {},
   "outputs": [
    {
     "data": {
      "text/plain": [
       "{'mars_fac': '<table border=\"1\" class=\"dataframe\">\\n  <thead>\\n    <tr style=\"text-align: right;\">\\n      <th>key</th>\\n      <th>st</th>\\n      <th>state</th>\\n      <th>senator</th>\\n      <th>party</th>\\n      <th>born</th>\\n      <th>assumed_office</th>\\n      <th>term_up</th>\\n      <th>population</th>\\n    </tr>\\n  </thead>\\n  <tbody>\\n    <tr>\\n      <td>1</td>\\n      <td>st1</td>\\n      <td>Alabama</td>\\n      <td>Richard Shelby</td>\\n      <td>Republican</td>\\n      <td>86</td>\\n      <td>1987-01-03</td>\\n      <td>2022</td>\\n      <td>4903185</td>\\n    </tr>\\n    <tr>\\n      <td>2</td>\\n      <td>st1</td>\\n      <td>Alabama</td>\\n      <td>Tommy Tuberville</td>\\n      <td>Republican</td>\\n      <td>66</td>\\n      <td>2021-01-03</td>\\n      <td>2026</td>\\n      <td>4903185</td>\\n    </tr>\\n    <tr>\\n      <td>3</td>\\n      <td>st2</td>\\n      <td>Alaska</td>\\n      <td>Lisa Murkowski</td>\\n      <td>Republican</td>\\n      <td>63</td>\\n      <td>2002-12-20</td>\\n      <td>2022</td>\\n      <td>731545</td>\\n    </tr>\\n    <tr>\\n      <td>4</td>\\n      <td>st2</td>\\n      <td>Alaska</td>\\n      <td>Dan Sullivan</td>\\n      <td>Republican</td>\\n      <td>56</td>\\n      <td>2015-01-03</td>\\n      <td>2026</td>\\n      <td>731545</td>\\n    </tr>\\n    <tr>\\n      <td>5</td>\\n      <td>st3</td>\\n      <td>Arizona</td>\\n      <td>Kyrsten Sinema</td>\\n      <td>Democratic</td>\\n      <td>44</td>\\n      <td>2019-01-03</td>\\n      <td>2024</td>\\n      <td>7278717</td>\\n    </tr>\\n    <tr>\\n      <td>6</td>\\n      <td>st3</td>\\n      <td>Arizona</td>\\n      <td>Mark Kelly</td>\\n      <td>Democratic</td>\\n      <td>56</td>\\n      <td>2020-12-02</td>\\n      <td>2022</td>\\n      <td>7278717</td>\\n    </tr>\\n    <tr>\\n      <td>7</td>\\n      <td>st4</td>\\n      <td>Arkansas</td>\\n      <td>John Boozman</td>\\n      <td>Republican</td>\\n      <td>70</td>\\n      <td>2011-01-03</td>\\n      <td>2022</td>\\n      <td>3017804</td>\\n    </tr>\\n    <tr>\\n      <td>8</td>\\n      <td>st4</td>\\n      <td>Arkansas</td>\\n      <td>Tom Cotton</td>\\n      <td>Republican</td>\\n      <td>43</td>\\n      <td>2015-01-03</td>\\n      <td>2026</td>\\n      <td>3017804</td>\\n    </tr>\\n    <tr>\\n      <td>9</td>\\n      <td>st5</td>\\n      <td>California</td>\\n      <td>Dianne Feinstein</td>\\n      <td>Democratic</td>\\n      <td>87</td>\\n      <td>1992-11-10</td>\\n      <td>2024</td>\\n      <td>39512223</td>\\n    </tr>\\n    <tr>\\n      <td>10</td>\\n      <td>st5</td>\\n      <td>California</td>\\n      <td>Alex Padilla</td>\\n      <td>Democratic</td>\\n      <td>47</td>\\n      <td>2021-01-20</td>\\n      <td>2022</td>\\n      <td>39512223</td>\\n    </tr>\\n    <tr>\\n      <td>11</td>\\n      <td>st6</td>\\n      <td>Colorado</td>\\n      <td>Michael Bennet</td>\\n      <td>Democratic</td>\\n      <td>56</td>\\n      <td>2009-01-21</td>\\n      <td>2022</td>\\n      <td>5758736</td>\\n    </tr>\\n    <tr>\\n      <td>12</td>\\n      <td>st6</td>\\n      <td>Colorado</td>\\n      <td>John Hickenlooper</td>\\n      <td>Democratic</td>\\n      <td>68</td>\\n      <td>2021-01-03</td>\\n      <td>2026</td>\\n      <td>5758736</td>\\n    </tr>\\n    <tr>\\n      <td>13</td>\\n      <td>st7</td>\\n      <td>Connecticut</td>\\n      <td>Richard Blumenthal</td>\\n      <td>Democratic</td>\\n      <td>74</td>\\n      <td>2011-01-03</td>\\n      <td>2022</td>\\n      <td>3565287</td>\\n    </tr>\\n    <tr>\\n      <td>14</td>\\n      <td>st7</td>\\n      <td>Connecticut</td>\\n      <td>Chris Murphy</td>\\n      <td>Democratic</td>\\n      <td>47</td>\\n      <td>2013-01-03</td>\\n      <td>2024</td>\\n      <td>3565287</td>\\n    </tr>\\n    <tr>\\n      <td>15</td>\\n      <td>st8</td>\\n      <td>Delaware</td>\\n      <td>Tom Carper</td>\\n      <td>Democratic</td>\\n      <td>74</td>\\n      <td>2001-01-03</td>\\n      <td>2024</td>\\n      <td>973764</td>\\n    </tr>\\n    <tr>\\n      <td>16</td>\\n      <td>st8</td>\\n      <td>Delaware</td>\\n      <td>Chris Coons</td>\\n      <td>Democratic</td>\\n      <td>57</td>\\n      <td>2010-11-15</td>\\n      <td>2026</td>\\n      <td>973764</td>\\n    </tr>\\n    <tr>\\n      <td>17</td>\\n      <td>st10</td>\\n      <td>Florida</td>\\n      <td>Marco Rubio</td>\\n      <td>Republican</td>\\n      <td>49</td>\\n      <td>2011-01-03</td>\\n      <td>2022</td>\\n      <td>21477737</td>\\n    </tr>\\n    <tr>\\n      <td>18</td>\\n      <td>st10</td>\\n      <td>Florida</td>\\n      <td>Rick Scott</td>\\n      <td>Republican</td>\\n      <td>68</td>\\n      <td>2019-01-08</td>\\n      <td>2024</td>\\n      <td>21477737</td>\\n    </tr>\\n    <tr>\\n      <td>19</td>\\n      <td>st11</td>\\n      <td>Georgia</td>\\n      <td>Jon Ossoff</td>\\n      <td>Democratic</td>\\n      <td>33</td>\\n      <td>2021-01-20</td>\\n      <td>2026</td>\\n      <td>10617423</td>\\n    </tr>\\n    <tr>\\n      <td>20</td>\\n      <td>st11</td>\\n      <td>Georgia</td>\\n      <td>Raphael Warnock</td>\\n      <td>Democratic</td>\\n      <td>51</td>\\n      <td>2021-01-20</td>\\n      <td>2022</td>\\n      <td>10617423</td>\\n    </tr>\\n    <tr>\\n      <td>21</td>\\n      <td>st12</td>\\n      <td>Hawaii</td>\\n      <td>Brian Schatz</td>\\n      <td>Democratic</td>\\n      <td>48</td>\\n      <td>2012-12-26</td>\\n      <td>2022</td>\\n      <td>1415872</td>\\n    </tr>\\n    <tr>\\n      <td>22</td>\\n      <td>st12</td>\\n      <td>Hawaii</td>\\n      <td>Mazie Hirono</td>\\n      <td>Democratic</td>\\n      <td>73</td>\\n      <td>2013-01-03</td>\\n      <td>2024</td>\\n      <td>1415872</td>\\n    </tr>\\n    <tr>\\n      <td>23</td>\\n      <td>st13</td>\\n      <td>Idaho</td>\\n      <td>Mike Crapo</td>\\n      <td>Republican</td>\\n      <td>69</td>\\n      <td>1999-01-03</td>\\n      <td>2022</td>\\n      <td>1787065</td>\\n    </tr>\\n    <tr>\\n      <td>24</td>\\n      <td>st13</td>\\n      <td>Idaho</td>\\n      <td>Jim Risch</td>\\n      <td>Republican</td>\\n      <td>77</td>\\n      <td>2009-01-03</td>\\n      <td>2026</td>\\n      <td>1787065</td>\\n    </tr>\\n    <tr>\\n      <td>25</td>\\n      <td>st14</td>\\n      <td>Illinois</td>\\n      <td>Dick Durbin</td>\\n      <td>Democratic</td>\\n      <td>76</td>\\n      <td>1997-01-03</td>\\n      <td>2026</td>\\n      <td>12671821</td>\\n    </tr>\\n    <tr>\\n      <td>26</td>\\n      <td>st14</td>\\n      <td>Illinois</td>\\n      <td>Tammy Duckworth</td>\\n      <td>Democratic</td>\\n      <td>52</td>\\n      <td>2017-01-03</td>\\n      <td>2022</td>\\n      <td>12671821</td>\\n    </tr>\\n    <tr>\\n      <td>27</td>\\n      <td>st15</td>\\n      <td>Indiana</td>\\n      <td>Todd Young</td>\\n      <td>Republican</td>\\n      <td>48</td>\\n      <td>2017-01-03</td>\\n      <td>2022</td>\\n      <td>6732219</td>\\n    </tr>\\n    <tr>\\n      <td>28</td>\\n      <td>st15</td>\\n      <td>Indiana</td>\\n      <td>Mike Braun</td>\\n      <td>Republican</td>\\n      <td>66</td>\\n      <td>2019-01-03</td>\\n      <td>2024</td>\\n      <td>6732219</td>\\n    </tr>\\n    <tr>\\n      <td>29</td>\\n      <td>st16</td>\\n      <td>Iowa</td>\\n      <td>Chuck Grassley</td>\\n      <td>Republican</td>\\n      <td>87</td>\\n      <td>1981-01-03</td>\\n      <td>2022</td>\\n      <td>3155070</td>\\n    </tr>\\n    <tr>\\n      <td>30</td>\\n      <td>st16</td>\\n      <td>Iowa</td>\\n      <td>Joni Ernst</td>\\n      <td>Republican</td>\\n      <td>50</td>\\n      <td>2015-01-03</td>\\n      <td>2026</td>\\n      <td>3155070</td>\\n    </tr>\\n    <tr>\\n      <td>31</td>\\n      <td>st17</td>\\n      <td>Kansas</td>\\n      <td>Jerry Moran</td>\\n      <td>Republican</td>\\n      <td>66</td>\\n      <td>2011-01-03</td>\\n      <td>2022</td>\\n      <td>2913314</td>\\n    </tr>\\n    <tr>\\n      <td>32</td>\\n      <td>st17</td>\\n      <td>Kansas</td>\\n      <td>Roger Marshall</td>\\n      <td>Republican</td>\\n      <td>60</td>\\n      <td>2021-01-03</td>\\n      <td>2026</td>\\n      <td>2913314</td>\\n    </tr>\\n    <tr>\\n      <td>33</td>\\n      <td>st18</td>\\n      <td>Kentucky</td>\\n      <td>Mitch McConnell</td>\\n      <td>Republican</td>\\n      <td>78</td>\\n      <td>1985-01-03</td>\\n      <td>2026</td>\\n      <td>4467673</td>\\n    </tr>\\n    <tr>\\n      <td>34</td>\\n      <td>st18</td>\\n      <td>Kentucky</td>\\n      <td>Rand Paul</td>\\n      <td>Republican</td>\\n      <td>58</td>\\n      <td>2011-01-03</td>\\n      <td>2022</td>\\n      <td>4467673</td>\\n    </tr>\\n    <tr>\\n      <td>35</td>\\n      <td>st19</td>\\n      <td>Louisiana</td>\\n      <td>Bill Cassidy</td>\\n      <td>Republican</td>\\n      <td>63</td>\\n      <td>2015-01-03</td>\\n      <td>2026</td>\\n      <td>4648794</td>\\n    </tr>\\n    <tr>\\n      <td>36</td>\\n      <td>st19</td>\\n      <td>Louisiana</td>\\n      <td>John Kennedy</td>\\n      <td>Republican</td>\\n      <td>69</td>\\n      <td>2017-01-03</td>\\n      <td>2022</td>\\n      <td>4648794</td>\\n    </tr>\\n    <tr>\\n      <td>37</td>\\n      <td>st20</td>\\n      <td>Maine</td>\\n      <td>Susan Collins</td>\\n      <td>Republican</td>\\n      <td>68</td>\\n      <td>1997-01-03</td>\\n      <td>2026</td>\\n      <td>1344212</td>\\n    </tr>\\n    <tr>\\n      <td>38</td>\\n      <td>st20</td>\\n      <td>Maine</td>\\n      <td>Angus King</td>\\n      <td>Independent</td>\\n      <td>76</td>\\n      <td>2013-01-03</td>\\n      <td>2024</td>\\n      <td>1344212</td>\\n    </tr>\\n    <tr>\\n      <td>39</td>\\n      <td>st21</td>\\n      <td>Maryland</td>\\n      <td>Ben Cardin</td>\\n      <td>Democratic</td>\\n      <td>77</td>\\n      <td>2007-01-03</td>\\n      <td>2024</td>\\n      <td>6045680</td>\\n    </tr>\\n    <tr>\\n      <td>40</td>\\n      <td>st21</td>\\n      <td>Maryland</td>\\n      <td>Chris Van Hollen</td>\\n      <td>Democratic</td>\\n      <td>62</td>\\n      <td>2017-01-03</td>\\n      <td>2022</td>\\n      <td>6045680</td>\\n    </tr>\\n    <tr>\\n      <td>41</td>\\n      <td>st22</td>\\n      <td>Massachusetts</td>\\n      <td>Elizabeth Warren</td>\\n      <td>Democratic</td>\\n      <td>71</td>\\n      <td>2013-01-03</td>\\n      <td>2024</td>\\n      <td>6892503</td>\\n    </tr>\\n    <tr>\\n      <td>42</td>\\n      <td>st22</td>\\n      <td>Massachusetts</td>\\n      <td>Ed Markey</td>\\n      <td>Democratic</td>\\n      <td>74</td>\\n      <td>2013-07-16</td>\\n      <td>2026</td>\\n      <td>6892503</td>\\n    </tr>\\n    <tr>\\n      <td>43</td>\\n      <td>st23</td>\\n      <td>Michigan</td>\\n      <td>Debbie Stabenow</td>\\n      <td>Democratic</td>\\n      <td>70</td>\\n      <td>2001-01-03</td>\\n      <td>2024</td>\\n      <td>9986857</td>\\n    </tr>\\n    <tr>\\n      <td>44</td>\\n      <td>st23</td>\\n      <td>Michigan</td>\\n      <td>Gary Peters</td>\\n      <td>Democratic</td>\\n      <td>62</td>\\n      <td>2015-01-03</td>\\n      <td>2026</td>\\n      <td>9986857</td>\\n    </tr>\\n    <tr>\\n      <td>45</td>\\n      <td>st24</td>\\n      <td>Minnesota</td>\\n      <td>Amy Klobuchar</td>\\n      <td>Democratic</td>\\n      <td>60</td>\\n      <td>2007-01-03</td>\\n      <td>2024</td>\\n      <td>5639632</td>\\n    </tr>\\n    <tr>\\n      <td>46</td>\\n      <td>st24</td>\\n      <td>Minnesota</td>\\n      <td>Tina Smith</td>\\n      <td>Democratic</td>\\n      <td>62</td>\\n      <td>2018-01-03</td>\\n      <td>2026</td>\\n      <td>5639632</td>\\n    </tr>\\n    <tr>\\n      <td>47</td>\\n      <td>st25</td>\\n      <td>Mississippi</td>\\n      <td>Roger Wicker</td>\\n      <td>Republican</td>\\n      <td>69</td>\\n      <td>2007-12-31</td>\\n      <td>2024</td>\\n      <td>2976149</td>\\n    </tr>\\n    <tr>\\n      <td>48</td>\\n      <td>st25</td>\\n      <td>Mississippi</td>\\n      <td>Cindy Hyde-Smith</td>\\n      <td>Republican</td>\\n      <td>61</td>\\n      <td>2018-04-09</td>\\n      <td>2026</td>\\n      <td>2976149</td>\\n    </tr>\\n    <tr>\\n      <td>49</td>\\n      <td>st26</td>\\n      <td>Missouri</td>\\n      <td>Roy Blunt</td>\\n      <td>Republican</td>\\n      <td>71</td>\\n      <td>2011-01-03</td>\\n      <td>2022</td>\\n      <td>6137428</td>\\n    </tr>\\n    <tr>\\n      <td>50</td>\\n      <td>st26</td>\\n      <td>Missouri</td>\\n      <td>Josh Hawley</td>\\n      <td>Republican</td>\\n      <td>41</td>\\n      <td>2019-01-03</td>\\n      <td>2024</td>\\n      <td>6137428</td>\\n    </tr>\\n    <tr>\\n      <td>51</td>\\n      <td>st27</td>\\n      <td>Montana</td>\\n      <td>Jon Tester</td>\\n      <td>Democratic</td>\\n      <td>64</td>\\n      <td>2007-01-03</td>\\n      <td>2024</td>\\n      <td>1068778</td>\\n    </tr>\\n    <tr>\\n      <td>52</td>\\n      <td>st27</td>\\n      <td>Montana</td>\\n      <td>Steve Daines</td>\\n      <td>Republican</td>\\n      <td>58</td>\\n      <td>2015-01-03</td>\\n      <td>2026</td>\\n      <td>1068778</td>\\n    </tr>\\n    <tr>\\n      <td>53</td>\\n      <td>st28</td>\\n      <td>Nebraska</td>\\n      <td>Deb Fischer</td>\\n      <td>Republican</td>\\n      <td>69</td>\\n      <td>2013-01-03</td>\\n      <td>2024</td>\\n      <td>1934408</td>\\n    </tr>\\n    <tr>\\n      <td>54</td>\\n      <td>st28</td>\\n      <td>Nebraska</td>\\n      <td>Ben Sasse</td>\\n      <td>Republican</td>\\n      <td>48</td>\\n      <td>2015-01-03</td>\\n      <td>2026</td>\\n      <td>1934408</td>\\n    </tr>\\n    <tr>\\n      <td>55</td>\\n      <td>st29</td>\\n      <td>Nevada</td>\\n      <td>Catherine Cortez Masto</td>\\n      <td>Democratic</td>\\n      <td>56</td>\\n      <td>2017-01-03</td>\\n      <td>2022</td>\\n      <td>3080156</td>\\n    </tr>\\n    <tr>\\n      <td>56</td>\\n      <td>st29</td>\\n      <td>Nevada</td>\\n      <td>Jacky Rosen</td>\\n      <td>Democratic</td>\\n      <td>63</td>\\n      <td>2019-01-03</td>\\n      <td>2024</td>\\n      <td>3080156</td>\\n    </tr>\\n    <tr>\\n      <td>57</td>\\n      <td>st30</td>\\n      <td>New Hampshire</td>\\n      <td>Jeanne Shaheen</td>\\n      <td>Democratic</td>\\n      <td>74</td>\\n      <td>2009-01-03</td>\\n      <td>2026</td>\\n      <td>1359711</td>\\n    </tr>\\n    <tr>\\n      <td>58</td>\\n      <td>st30</td>\\n      <td>New Hampshire</td>\\n      <td>Maggie Hassan</td>\\n      <td>Democratic</td>\\n      <td>62</td>\\n      <td>2017-01-03</td>\\n      <td>2022</td>\\n      <td>1359711</td>\\n    </tr>\\n    <tr>\\n      <td>59</td>\\n      <td>st31</td>\\n      <td>New Jersey</td>\\n      <td>Bob Menendez</td>\\n      <td>Democratic</td>\\n      <td>67</td>\\n      <td>2006-01-17</td>\\n      <td>2024</td>\\n      <td>8882190</td>\\n    </tr>\\n    <tr>\\n      <td>60</td>\\n      <td>st31</td>\\n      <td>New Jersey</td>\\n      <td>Cory Booker</td>\\n      <td>Democratic</td>\\n      <td>51</td>\\n      <td>2013-10-31</td>\\n      <td>2026</td>\\n      <td>8882190</td>\\n    </tr>\\n    <tr>\\n      <td>61</td>\\n      <td>st32</td>\\n      <td>New Mexico</td>\\n      <td>Martin Heinrich</td>\\n      <td>Democratic</td>\\n      <td>49</td>\\n      <td>2013-01-03</td>\\n      <td>2024</td>\\n      <td>2096829</td>\\n    </tr>\\n    <tr>\\n      <td>62</td>\\n      <td>st32</td>\\n      <td>New Mexico</td>\\n      <td>Ben Ray Luján</td>\\n      <td>Democratic</td>\\n      <td>48</td>\\n      <td>2021-01-03</td>\\n      <td>2026</td>\\n      <td>2096829</td>\\n    </tr>\\n    <tr>\\n      <td>63</td>\\n      <td>st33</td>\\n      <td>New York</td>\\n      <td>Chuck Schumer</td>\\n      <td>Democratic</td>\\n      <td>70</td>\\n      <td>1999-01-03</td>\\n      <td>2022</td>\\n      <td>19453561</td>\\n    </tr>\\n    <tr>\\n      <td>64</td>\\n      <td>st33</td>\\n      <td>New York</td>\\n      <td>Kirsten Gillibrand</td>\\n      <td>Democratic</td>\\n      <td>54</td>\\n      <td>2009-01-26</td>\\n      <td>2024</td>\\n      <td>19453561</td>\\n    </tr>\\n    <tr>\\n      <td>65</td>\\n      <td>st34</td>\\n      <td>North Carolina</td>\\n      <td>Richard Burr</td>\\n      <td>Republican</td>\\n      <td>65</td>\\n      <td>2005-01-03</td>\\n      <td>2022</td>\\n      <td>10488084</td>\\n    </tr>\\n    <tr>\\n      <td>66</td>\\n      <td>st34</td>\\n      <td>North Carolina</td>\\n      <td>Thom Tillis</td>\\n      <td>Republican</td>\\n      <td>60</td>\\n      <td>2015-01-03</td>\\n      <td>2026</td>\\n      <td>10488084</td>\\n    </tr>\\n    <tr>\\n      <td>67</td>\\n      <td>st35</td>\\n      <td>North Dakota</td>\\n      <td>John Hoeven</td>\\n      <td>Republican</td>\\n      <td>63</td>\\n      <td>2011-01-03</td>\\n      <td>2022</td>\\n      <td>762062</td>\\n    </tr>\\n    <tr>\\n      <td>68</td>\\n      <td>st35</td>\\n      <td>North Dakota</td>\\n      <td>Kevin Cramer</td>\\n      <td>Republican</td>\\n      <td>60</td>\\n      <td>2019-01-03</td>\\n      <td>2024</td>\\n      <td>762062</td>\\n    </tr>\\n    <tr>\\n      <td>69</td>\\n      <td>st36</td>\\n      <td>Ohio</td>\\n      <td>Sherrod Brown</td>\\n      <td>Democratic</td>\\n      <td>68</td>\\n      <td>2007-01-03</td>\\n      <td>2024</td>\\n      <td>11689100</td>\\n    </tr>\\n    <tr>\\n      <td>70</td>\\n      <td>st36</td>\\n      <td>Ohio</td>\\n      <td>Rob Portman</td>\\n      <td>Republican</td>\\n      <td>65</td>\\n      <td>2011-01-03</td>\\n      <td>2022</td>\\n      <td>11689100</td>\\n    </tr>\\n    <tr>\\n      <td>71</td>\\n      <td>st37</td>\\n      <td>Oklahoma</td>\\n      <td>Jim Inhofe</td>\\n      <td>Republican</td>\\n      <td>86</td>\\n      <td>1994-11-16</td>\\n      <td>2026</td>\\n      <td>3956971</td>\\n    </tr>\\n    <tr>\\n      <td>72</td>\\n      <td>st37</td>\\n      <td>Oklahoma</td>\\n      <td>James Lankford</td>\\n      <td>Republican</td>\\n      <td>52</td>\\n      <td>2015-01-03</td>\\n      <td>2022</td>\\n      <td>3956971</td>\\n    </tr>\\n    <tr>\\n      <td>73</td>\\n      <td>st38</td>\\n      <td>Oregon</td>\\n      <td>Ron Wyden</td>\\n      <td>Democratic</td>\\n      <td>71</td>\\n      <td>1996-02-05</td>\\n      <td>2022</td>\\n      <td>4217737</td>\\n    </tr>\\n    <tr>\\n      <td>74</td>\\n      <td>st38</td>\\n      <td>Oregon</td>\\n      <td>Jeff Merkley</td>\\n      <td>Democratic</td>\\n      <td>64</td>\\n      <td>2009-01-03</td>\\n      <td>2026</td>\\n      <td>4217737</td>\\n    </tr>\\n    <tr>\\n      <td>75</td>\\n      <td>st39</td>\\n      <td>Pennsylvania</td>\\n      <td>Bob Casey Jr.</td>\\n      <td>Democratic</td>\\n      <td>60</td>\\n      <td>2007-01-03</td>\\n      <td>2024</td>\\n      <td>12801989</td>\\n    </tr>\\n    <tr>\\n      <td>76</td>\\n      <td>st39</td>\\n      <td>Pennsylvania</td>\\n      <td>Pat Toomey</td>\\n      <td>Republican</td>\\n      <td>59</td>\\n      <td>2011-01-03</td>\\n      <td>2022</td>\\n      <td>12801989</td>\\n    </tr>\\n    <tr>\\n      <td>77</td>\\n      <td>st40</td>\\n      <td>Rhode Island</td>\\n      <td>Jack Reed</td>\\n      <td>Democratic</td>\\n      <td>71</td>\\n      <td>1997-01-03</td>\\n      <td>2026</td>\\n      <td>1059361</td>\\n    </tr>\\n    <tr>\\n      <td>78</td>\\n      <td>st40</td>\\n      <td>Rhode Island</td>\\n      <td>Sheldon Whitehouse</td>\\n      <td>Democratic</td>\\n      <td>65</td>\\n      <td>2007-01-03</td>\\n      <td>2024</td>\\n      <td>1059361</td>\\n    </tr>\\n    <tr>\\n      <td>79</td>\\n      <td>st41</td>\\n      <td>South Carolina</td>\\n      <td>Lindsey Graham</td>\\n      <td>Republican</td>\\n      <td>65</td>\\n      <td>2003-01-03</td>\\n      <td>2026</td>\\n      <td>5148714</td>\\n    </tr>\\n    <tr>\\n      <td>80</td>\\n      <td>st41</td>\\n      <td>South Carolina</td>\\n      <td>Tim Scott</td>\\n      <td>Republican</td>\\n      <td>55</td>\\n      <td>2013-01-03</td>\\n      <td>2022</td>\\n      <td>5148714</td>\\n    </tr>\\n    <tr>\\n      <td>81</td>\\n      <td>st42</td>\\n      <td>South Dakota</td>\\n      <td>John Thune</td>\\n      <td>Republican</td>\\n      <td>60</td>\\n      <td>2005-01-03</td>\\n      <td>2022</td>\\n      <td>884659</td>\\n    </tr>\\n    <tr>\\n      <td>82</td>\\n      <td>st42</td>\\n      <td>South Dakota</td>\\n      <td>Mike Rounds</td>\\n      <td>Republican</td>\\n      <td>66</td>\\n      <td>2015-01-03</td>\\n      <td>2026</td>\\n      <td>884659</td>\\n    </tr>\\n    <tr>\\n      <td>83</td>\\n      <td>st43</td>\\n      <td>Tennessee</td>\\n      <td>Marsha Blackburn</td>\\n      <td>Republican</td>\\n      <td>68</td>\\n      <td>2019-01-03</td>\\n      <td>2024</td>\\n      <td>6829174</td>\\n    </tr>\\n    <tr>\\n      <td>84</td>\\n      <td>st43</td>\\n      <td>Tennessee</td>\\n      <td>Bill Hagerty</td>\\n      <td>Republican</td>\\n      <td>61</td>\\n      <td>2021-01-03</td>\\n      <td>2026</td>\\n      <td>6829174</td>\\n    </tr>\\n    <tr>\\n      <td>85</td>\\n      <td>st44</td>\\n      <td>Texas</td>\\n      <td>John Cornyn</td>\\n      <td>Republican</td>\\n      <td>68</td>\\n      <td>2002-12-02</td>\\n      <td>2026</td>\\n      <td>28995881</td>\\n    </tr>\\n    <tr>\\n      <td>86</td>\\n      <td>st44</td>\\n      <td>Texas</td>\\n      <td>Ted Cruz</td>\\n      <td>Republican</td>\\n      <td>50</td>\\n      <td>2013-01-03</td>\\n      <td>2024</td>\\n      <td>28995881</td>\\n    </tr>\\n    <tr>\\n      <td>87</td>\\n      <td>st45</td>\\n      <td>Utah</td>\\n      <td>Mike Lee</td>\\n      <td>Republican</td>\\n      <td>49</td>\\n      <td>2011-01-03</td>\\n      <td>2022</td>\\n      <td>3205958</td>\\n    </tr>\\n    <tr>\\n      <td>88</td>\\n      <td>st45</td>\\n      <td>Utah</td>\\n      <td>Mitt Romney</td>\\n      <td>Republican</td>\\n      <td>73</td>\\n      <td>2019-01-03</td>\\n      <td>2024</td>\\n      <td>3205958</td>\\n    </tr>\\n    <tr>\\n      <td>89</td>\\n      <td>st46</td>\\n      <td>Vermont</td>\\n      <td>Patrick Leahy</td>\\n      <td>Democratic</td>\\n      <td>80</td>\\n      <td>1975-01-03</td>\\n      <td>2022</td>\\n      <td>623989</td>\\n    </tr>\\n    <tr>\\n      <td>90</td>\\n      <td>st46</td>\\n      <td>Vermont</td>\\n      <td>Bernie Sanders</td>\\n      <td>Independent</td>\\n      <td>79</td>\\n      <td>2007-01-03</td>\\n      <td>2024</td>\\n      <td>623989</td>\\n    </tr>\\n    <tr>\\n      <td>91</td>\\n      <td>st47</td>\\n      <td>Virginia</td>\\n      <td>Mark Warner</td>\\n      <td>Democratic</td>\\n      <td>66</td>\\n      <td>2009-01-03</td>\\n      <td>2026</td>\\n      <td>8535519</td>\\n    </tr>\\n    <tr>\\n      <td>92</td>\\n      <td>st47</td>\\n      <td>Virginia</td>\\n      <td>Tim Kaine</td>\\n      <td>Democratic</td>\\n      <td>62</td>\\n      <td>2013-01-03</td>\\n      <td>2024</td>\\n      <td>8535519</td>\\n    </tr>\\n    <tr>\\n      <td>93</td>\\n      <td>st48</td>\\n      <td>Washington</td>\\n      <td>Patty Murray</td>\\n      <td>Democratic</td>\\n      <td>70</td>\\n      <td>1993-01-03</td>\\n      <td>2022</td>\\n      <td>7614893</td>\\n    </tr>\\n    <tr>\\n      <td>94</td>\\n      <td>st48</td>\\n      <td>Washington</td>\\n      <td>Maria Cantwell</td>\\n      <td>Democratic</td>\\n      <td>62</td>\\n      <td>2001-01-03</td>\\n      <td>2024</td>\\n      <td>7614893</td>\\n    </tr>\\n    <tr>\\n      <td>95</td>\\n      <td>st49</td>\\n      <td>West Virginia</td>\\n      <td>Joe Manchin</td>\\n      <td>Democratic</td>\\n      <td>73</td>\\n      <td>2010-11-15</td>\\n      <td>2024</td>\\n      <td>1792147</td>\\n    </tr>\\n    <tr>\\n      <td>96</td>\\n      <td>st49</td>\\n      <td>West Virginia</td>\\n      <td>Shelley Moore Capito</td>\\n      <td>Republican</td>\\n      <td>67</td>\\n      <td>2015-01-03</td>\\n      <td>2026</td>\\n      <td>1792147</td>\\n    </tr>\\n    <tr>\\n      <td>97</td>\\n      <td>st50</td>\\n      <td>Wisconsin</td>\\n      <td>Ron Johnson</td>\\n      <td>Republican</td>\\n      <td>65</td>\\n      <td>2011-01-03</td>\\n      <td>2022</td>\\n      <td>5822434</td>\\n    </tr>\\n    <tr>\\n      <td>98</td>\\n      <td>st50</td>\\n      <td>Wisconsin</td>\\n      <td>Tammy Baldwin</td>\\n      <td>Democratic</td>\\n      <td>58</td>\\n      <td>2013-01-03</td>\\n      <td>2024</td>\\n      <td>5822434</td>\\n    </tr>\\n    <tr>\\n      <td>99</td>\\n      <td>st51</td>\\n      <td>Wyoming</td>\\n      <td>John Barrasso</td>\\n      <td>Republican</td>\\n      <td>68</td>\\n      <td>2007-06-25</td>\\n      <td>2024</td>\\n      <td>578759</td>\\n    </tr>\\n    <tr>\\n      <td>100</td>\\n      <td>st51</td>\\n      <td>Wyoming</td>\\n      <td>Cynthia Lummis</td>\\n      <td>Republican</td>\\n      <td>66</td>\\n      <td>2021-01-03</td>\\n      <td>2026</td>\\n      <td>578759</td>\\n    </tr>\\n  </tbody>\\n</table>'}"
      ]
     },
     "execution_count": 12,
     "metadata": {},
     "output_type": "execute_result"
    }
   ],
   "source": [
    "scrape_data"
   ]
  },
  {
   "cell_type": "code",
   "execution_count": null,
   "metadata": {},
   "outputs": [],
   "source": []
  }
 ],
 "metadata": {
  "kernelspec": {
   "display_name": "Python 3",
   "language": "python",
   "name": "python3"
  },
  "language_info": {
   "codemirror_mode": {
    "name": "ipython",
    "version": 3
   },
   "file_extension": ".py",
   "mimetype": "text/x-python",
   "name": "python",
   "nbconvert_exporter": "python",
   "pygments_lexer": "ipython3",
   "version": "3.8.3"
  }
 },
 "nbformat": 4,
 "nbformat_minor": 4
}
