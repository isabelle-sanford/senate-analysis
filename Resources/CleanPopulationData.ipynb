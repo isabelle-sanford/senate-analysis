{
 "cells": [
  {
   "cell_type": "markdown",
   "metadata": {},
   "source": [
    "### Import of data & packages"
   ]
  },
  {
   "cell_type": "code",
   "execution_count": 18,
   "metadata": {},
   "outputs": [],
   "source": [
    "# import pandas for data cleaning and plotly for graphing\n",
    "from plotly.subplots import make_subplots\n",
    "import pandas as pd\n",
    "import plotly.graph_objects as go"
   ]
  },
  {
   "cell_type": "markdown",
   "metadata": {},
   "source": [
    "### Get census data"
   ]
  },
  {
   "cell_type": "code",
   "execution_count": 19,
   "metadata": {
    "scrolled": true
   },
   "outputs": [
    {
     "output_type": "execute_result",
     "data": {
      "text/plain": [
       "   SUMLEV  REGION  DIVISION  STATE  COUNTY   STNAME         CTYNAME  \\\n",
       "0      40       3         6      1       0  Alabama         Alabama   \n",
       "1      50       3         6      1       1  Alabama  Autauga County   \n",
       "2      50       3         6      1       3  Alabama  Baldwin County   \n",
       "3      50       3         6      1       5  Alabama  Barbour County   \n",
       "4      50       3         6      1       7  Alabama     Bibb County   \n",
       "\n",
       "   CENSUS2010POP  ESTIMATESBASE2010  POPESTIMATE2010  ...  RDOMESTICMIG2019  \\\n",
       "0        4779736            4780125          4785437  ...          1.917501   \n",
       "1          54571              54597            54773  ...          4.847310   \n",
       "2         182265             182265           183112  ...         24.017829   \n",
       "3          27457              27455            27327  ...         -5.690302   \n",
       "4          22915              22915            22870  ...          1.385134   \n",
       "\n",
       "   RNETMIG2011  RNETMIG2012  RNETMIG2013  RNETMIG2014  RNETMIG2015  \\\n",
       "0     0.578434     1.186314     1.522549     0.563489     0.626357   \n",
       "1     6.018182    -6.226119    -3.902226     1.970443    -1.712875   \n",
       "2    16.641870    17.488579    22.751474    20.184334    17.725964   \n",
       "3     0.292676    -6.897817    -8.132185    -5.140431   -15.724575   \n",
       "4    -4.998356    -3.787545    -5.797999     1.331144     1.329817   \n",
       "\n",
       "   RNETMIG2016  RNETMIG2017  RNETMIG2018  RNETMIG2019  \n",
       "0     0.745172     1.090366     1.773786     2.483744  \n",
       "1     4.777171     0.849656     0.540916     4.560062  \n",
       "2    21.279291    22.398256    24.727215    24.380567  \n",
       "3   -18.238016   -24.998528    -8.754922    -5.165664  \n",
       "4    -0.708717    -3.234669    -6.857092     1.831952  \n",
       "\n",
       "[5 rows x 164 columns]"
      ],
      "text/html": "<div>\n<style scoped>\n    .dataframe tbody tr th:only-of-type {\n        vertical-align: middle;\n    }\n\n    .dataframe tbody tr th {\n        vertical-align: top;\n    }\n\n    .dataframe thead th {\n        text-align: right;\n    }\n</style>\n<table border=\"1\" class=\"dataframe\">\n  <thead>\n    <tr style=\"text-align: right;\">\n      <th></th>\n      <th>SUMLEV</th>\n      <th>REGION</th>\n      <th>DIVISION</th>\n      <th>STATE</th>\n      <th>COUNTY</th>\n      <th>STNAME</th>\n      <th>CTYNAME</th>\n      <th>CENSUS2010POP</th>\n      <th>ESTIMATESBASE2010</th>\n      <th>POPESTIMATE2010</th>\n      <th>...</th>\n      <th>RDOMESTICMIG2019</th>\n      <th>RNETMIG2011</th>\n      <th>RNETMIG2012</th>\n      <th>RNETMIG2013</th>\n      <th>RNETMIG2014</th>\n      <th>RNETMIG2015</th>\n      <th>RNETMIG2016</th>\n      <th>RNETMIG2017</th>\n      <th>RNETMIG2018</th>\n      <th>RNETMIG2019</th>\n    </tr>\n  </thead>\n  <tbody>\n    <tr>\n      <th>0</th>\n      <td>40</td>\n      <td>3</td>\n      <td>6</td>\n      <td>1</td>\n      <td>0</td>\n      <td>Alabama</td>\n      <td>Alabama</td>\n      <td>4779736</td>\n      <td>4780125</td>\n      <td>4785437</td>\n      <td>...</td>\n      <td>1.917501</td>\n      <td>0.578434</td>\n      <td>1.186314</td>\n      <td>1.522549</td>\n      <td>0.563489</td>\n      <td>0.626357</td>\n      <td>0.745172</td>\n      <td>1.090366</td>\n      <td>1.773786</td>\n      <td>2.483744</td>\n    </tr>\n    <tr>\n      <th>1</th>\n      <td>50</td>\n      <td>3</td>\n      <td>6</td>\n      <td>1</td>\n      <td>1</td>\n      <td>Alabama</td>\n      <td>Autauga County</td>\n      <td>54571</td>\n      <td>54597</td>\n      <td>54773</td>\n      <td>...</td>\n      <td>4.847310</td>\n      <td>6.018182</td>\n      <td>-6.226119</td>\n      <td>-3.902226</td>\n      <td>1.970443</td>\n      <td>-1.712875</td>\n      <td>4.777171</td>\n      <td>0.849656</td>\n      <td>0.540916</td>\n      <td>4.560062</td>\n    </tr>\n    <tr>\n      <th>2</th>\n      <td>50</td>\n      <td>3</td>\n      <td>6</td>\n      <td>1</td>\n      <td>3</td>\n      <td>Alabama</td>\n      <td>Baldwin County</td>\n      <td>182265</td>\n      <td>182265</td>\n      <td>183112</td>\n      <td>...</td>\n      <td>24.017829</td>\n      <td>16.641870</td>\n      <td>17.488579</td>\n      <td>22.751474</td>\n      <td>20.184334</td>\n      <td>17.725964</td>\n      <td>21.279291</td>\n      <td>22.398256</td>\n      <td>24.727215</td>\n      <td>24.380567</td>\n    </tr>\n    <tr>\n      <th>3</th>\n      <td>50</td>\n      <td>3</td>\n      <td>6</td>\n      <td>1</td>\n      <td>5</td>\n      <td>Alabama</td>\n      <td>Barbour County</td>\n      <td>27457</td>\n      <td>27455</td>\n      <td>27327</td>\n      <td>...</td>\n      <td>-5.690302</td>\n      <td>0.292676</td>\n      <td>-6.897817</td>\n      <td>-8.132185</td>\n      <td>-5.140431</td>\n      <td>-15.724575</td>\n      <td>-18.238016</td>\n      <td>-24.998528</td>\n      <td>-8.754922</td>\n      <td>-5.165664</td>\n    </tr>\n    <tr>\n      <th>4</th>\n      <td>50</td>\n      <td>3</td>\n      <td>6</td>\n      <td>1</td>\n      <td>7</td>\n      <td>Alabama</td>\n      <td>Bibb County</td>\n      <td>22915</td>\n      <td>22915</td>\n      <td>22870</td>\n      <td>...</td>\n      <td>1.385134</td>\n      <td>-4.998356</td>\n      <td>-3.787545</td>\n      <td>-5.797999</td>\n      <td>1.331144</td>\n      <td>1.329817</td>\n      <td>-0.708717</td>\n      <td>-3.234669</td>\n      <td>-6.857092</td>\n      <td>1.831952</td>\n    </tr>\n  </tbody>\n</table>\n<p>5 rows × 164 columns</p>\n</div>"
     },
     "metadata": {},
     "execution_count": 19
    }
   ],
   "source": [
    "# read in census data - notably not encoded in utf-8\n",
    "init = pd.read_csv('CensusPopData2019.csv', encoding = \"ISO-8859-1\")\n",
    "init.head()"
   ]
  },
  {
   "cell_type": "code",
   "execution_count": 20,
   "metadata": {},
   "outputs": [
    {
     "output_type": "execute_result",
     "data": {
      "text/plain": [
       "['SUMLEV',\n",
       " 'REGION',\n",
       " 'DIVISION',\n",
       " 'STATE',\n",
       " 'COUNTY',\n",
       " 'STNAME',\n",
       " 'CTYNAME',\n",
       " 'CENSUS2010POP',\n",
       " 'ESTIMATESBASE2010',\n",
       " 'POPESTIMATE2010',\n",
       " 'POPESTIMATE2011',\n",
       " 'POPESTIMATE2012',\n",
       " 'POPESTIMATE2013',\n",
       " 'POPESTIMATE2014',\n",
       " 'POPESTIMATE2015',\n",
       " 'POPESTIMATE2016',\n",
       " 'POPESTIMATE2017',\n",
       " 'POPESTIMATE2018',\n",
       " 'POPESTIMATE2019',\n",
       " 'NPOPCHG_2010',\n",
       " 'NPOPCHG_2011',\n",
       " 'NPOPCHG_2012',\n",
       " 'NPOPCHG_2013',\n",
       " 'NPOPCHG_2014',\n",
       " 'NPOPCHG_2015',\n",
       " 'NPOPCHG_2016',\n",
       " 'NPOPCHG_2017',\n",
       " 'NPOPCHG_2018',\n",
       " 'NPOPCHG_2019',\n",
       " 'BIRTHS2010',\n",
       " 'BIRTHS2011',\n",
       " 'BIRTHS2012',\n",
       " 'BIRTHS2013',\n",
       " 'BIRTHS2014',\n",
       " 'BIRTHS2015',\n",
       " 'BIRTHS2016',\n",
       " 'BIRTHS2017',\n",
       " 'BIRTHS2018',\n",
       " 'BIRTHS2019',\n",
       " 'DEATHS2010',\n",
       " 'DEATHS2011',\n",
       " 'DEATHS2012',\n",
       " 'DEATHS2013',\n",
       " 'DEATHS2014',\n",
       " 'DEATHS2015',\n",
       " 'DEATHS2016',\n",
       " 'DEATHS2017',\n",
       " 'DEATHS2018',\n",
       " 'DEATHS2019',\n",
       " 'NATURALINC2010',\n",
       " 'NATURALINC2011',\n",
       " 'NATURALINC2012',\n",
       " 'NATURALINC2013',\n",
       " 'NATURALINC2014',\n",
       " 'NATURALINC2015',\n",
       " 'NATURALINC2016',\n",
       " 'NATURALINC2017',\n",
       " 'NATURALINC2018',\n",
       " 'NATURALINC2019',\n",
       " 'INTERNATIONALMIG2010',\n",
       " 'INTERNATIONALMIG2011',\n",
       " 'INTERNATIONALMIG2012',\n",
       " 'INTERNATIONALMIG2013',\n",
       " 'INTERNATIONALMIG2014',\n",
       " 'INTERNATIONALMIG2015',\n",
       " 'INTERNATIONALMIG2016',\n",
       " 'INTERNATIONALMIG2017',\n",
       " 'INTERNATIONALMIG2018',\n",
       " 'INTERNATIONALMIG2019',\n",
       " 'DOMESTICMIG2010',\n",
       " 'DOMESTICMIG2011',\n",
       " 'DOMESTICMIG2012',\n",
       " 'DOMESTICMIG2013',\n",
       " 'DOMESTICMIG2014',\n",
       " 'DOMESTICMIG2015',\n",
       " 'DOMESTICMIG2016',\n",
       " 'DOMESTICMIG2017',\n",
       " 'DOMESTICMIG2018',\n",
       " 'DOMESTICMIG2019',\n",
       " 'NETMIG2010',\n",
       " 'NETMIG2011',\n",
       " 'NETMIG2012',\n",
       " 'NETMIG2013',\n",
       " 'NETMIG2014',\n",
       " 'NETMIG2015',\n",
       " 'NETMIG2016',\n",
       " 'NETMIG2017',\n",
       " 'NETMIG2018',\n",
       " 'NETMIG2019',\n",
       " 'RESIDUAL2010',\n",
       " 'RESIDUAL2011',\n",
       " 'RESIDUAL2012',\n",
       " 'RESIDUAL2013',\n",
       " 'RESIDUAL2014',\n",
       " 'RESIDUAL2015',\n",
       " 'RESIDUAL2016',\n",
       " 'RESIDUAL2017',\n",
       " 'RESIDUAL2018',\n",
       " 'RESIDUAL2019',\n",
       " 'GQESTIMATESBASE2010',\n",
       " 'GQESTIMATES2010',\n",
       " 'GQESTIMATES2011',\n",
       " 'GQESTIMATES2012',\n",
       " 'GQESTIMATES2013',\n",
       " 'GQESTIMATES2014',\n",
       " 'GQESTIMATES2015',\n",
       " 'GQESTIMATES2016',\n",
       " 'GQESTIMATES2017',\n",
       " 'GQESTIMATES2018',\n",
       " 'GQESTIMATES2019',\n",
       " 'RBIRTH2011',\n",
       " 'RBIRTH2012',\n",
       " 'RBIRTH2013',\n",
       " 'RBIRTH2014',\n",
       " 'RBIRTH2015',\n",
       " 'RBIRTH2016',\n",
       " 'RBIRTH2017',\n",
       " 'RBIRTH2018',\n",
       " 'RBIRTH2019',\n",
       " 'RDEATH2011',\n",
       " 'RDEATH2012',\n",
       " 'RDEATH2013',\n",
       " 'RDEATH2014',\n",
       " 'RDEATH2015',\n",
       " 'RDEATH2016',\n",
       " 'RDEATH2017',\n",
       " 'RDEATH2018',\n",
       " 'RDEATH2019',\n",
       " 'RNATURALINC2011',\n",
       " 'RNATURALINC2012',\n",
       " 'RNATURALINC2013',\n",
       " 'RNATURALINC2014',\n",
       " 'RNATURALINC2015',\n",
       " 'RNATURALINC2016',\n",
       " 'RNATURALINC2017',\n",
       " 'RNATURALINC2018',\n",
       " 'RNATURALINC2019',\n",
       " 'RINTERNATIONALMIG2011',\n",
       " 'RINTERNATIONALMIG2012',\n",
       " 'RINTERNATIONALMIG2013',\n",
       " 'RINTERNATIONALMIG2014',\n",
       " 'RINTERNATIONALMIG2015',\n",
       " 'RINTERNATIONALMIG2016',\n",
       " 'RINTERNATIONALMIG2017',\n",
       " 'RINTERNATIONALMIG2018',\n",
       " 'RINTERNATIONALMIG2019',\n",
       " 'RDOMESTICMIG2011',\n",
       " 'RDOMESTICMIG2012',\n",
       " 'RDOMESTICMIG2013',\n",
       " 'RDOMESTICMIG2014',\n",
       " 'RDOMESTICMIG2015',\n",
       " 'RDOMESTICMIG2016',\n",
       " 'RDOMESTICMIG2017',\n",
       " 'RDOMESTICMIG2018',\n",
       " 'RDOMESTICMIG2019',\n",
       " 'RNETMIG2011',\n",
       " 'RNETMIG2012',\n",
       " 'RNETMIG2013',\n",
       " 'RNETMIG2014',\n",
       " 'RNETMIG2015',\n",
       " 'RNETMIG2016',\n",
       " 'RNETMIG2017',\n",
       " 'RNETMIG2018',\n",
       " 'RNETMIG2019']"
      ]
     },
     "metadata": {},
     "execution_count": 20
    }
   ],
   "source": [
    "# need the list function or it only does the first and last few\n",
    "list(init.columns)"
   ]
  },
  {
   "cell_type": "code",
   "execution_count": 21,
   "metadata": {},
   "outputs": [],
   "source": [
    "# sumlev=40 means only state-level data and not county-level\n",
    "# this pulls pop of each state into a df that's a lot more manageable\n",
    "state_pops = init[init['SUMLEV'] == 40][['STNAME','POPESTIMATE2019']]\n"
   ]
  },
  {
   "cell_type": "markdown",
   "metadata": {},
   "source": [
    "### Get senator data"
   ]
  },
  {
   "cell_type": "code",
   "execution_count": 22,
   "metadata": {},
   "outputs": [],
   "source": [
    "# pull every table from the wikipedia page\n",
    "sen_scrape = pd.read_html('https://en.wikipedia.org/wiki/List_of_current_United_States_senators')"
   ]
  },
  {
   "cell_type": "code",
   "execution_count": 23,
   "metadata": {},
   "outputs": [],
   "source": [
    "# pull the first table of length 100; unlikely that there would ever be a prior table with a hundred entries\n",
    "for table in sen_scrape:\n",
    "    if (len(table) == 100):\n",
    "        sen_init = table\n",
    "        break\n",
    "\n",
    "# and pare it down to the columns we want\n",
    "sen_init = sen_init[['State', 'Senator', 'Party.1', 'Born', 'Assumed office', 'Term up']]\n",
    "\n",
    "\n",
    "state_abbrevs = pd.read_csv('kosal/States.csv')\n",
    "state_abbrevs.head()\n",
    "\n",
    "def myUpper(t):\n",
    "    return t.upper()\n",
    "\n",
    "sen_init['temp_upper'] = sen_init['State'].apply(myUpper)\n",
    "\n",
    "sen_init = sen_init.merge(state_abbrevs, how='left', left_on= 'temp_upper', right_on = 'states')\n",
    "# ANALYSIS NOTE: Occupation / previous office / residence possibly useful later?"
   ]
  },
  {
   "cell_type": "markdown",
   "metadata": {},
   "source": [
    "### Combine data & clean"
   ]
  },
  {
   "cell_type": "code",
   "execution_count": 24,
   "metadata": {},
   "outputs": [
    {
     "output_type": "execute_result",
     "data": {
      "text/plain": [
       "            State               Senator       party      Born  \\\n",
       "0         Alabama        Richard Shelby  Republican  (age 86)   \n",
       "1         Alabama      Tommy Tuberville  Republican  (age 66)   \n",
       "2          Alaska        Lisa Murkowski  Republican  (age 63)   \n",
       "3          Alaska          Dan Sullivan  Republican  (age 56)   \n",
       "4         Arizona        Kyrsten Sinema  Democratic  (age 44)   \n",
       "..            ...                   ...         ...       ...   \n",
       "95  West Virginia  Shelley Moore Capito  Republican  (age 67)   \n",
       "96      Wisconsin           Ron Johnson  Republican  (age 65)   \n",
       "97      Wisconsin         Tammy Baldwin  Democratic  (age 59)   \n",
       "98        Wyoming         John Barrasso  Republican  (age 68)   \n",
       "99        Wyoming        Cynthia Lummis  Republican  (age 66)   \n",
       "\n",
       "       assumed_office  term_up  st  population  \n",
       "0     January 3, 1987     2022  AL     4903185  \n",
       "1     January 3, 2021     2026  AL     4903185  \n",
       "2   December 20, 2002     2022  AK      731545  \n",
       "3     January 3, 2015     2026  AK      731545  \n",
       "4     January 3, 2019     2024  AZ     7278717  \n",
       "..                ...      ...  ..         ...  \n",
       "95    January 3, 2015     2026  WV     1792147  \n",
       "96    January 3, 2011     2022  WI     5822434  \n",
       "97    January 3, 2013     2024  WI     5822434  \n",
       "98      June 25, 2007     2024  WY      578759  \n",
       "99    January 3, 2021     2026  WY      578759  \n",
       "\n",
       "[100 rows x 8 columns]"
      ],
      "text/html": "<div>\n<style scoped>\n    .dataframe tbody tr th:only-of-type {\n        vertical-align: middle;\n    }\n\n    .dataframe tbody tr th {\n        vertical-align: top;\n    }\n\n    .dataframe thead th {\n        text-align: right;\n    }\n</style>\n<table border=\"1\" class=\"dataframe\">\n  <thead>\n    <tr style=\"text-align: right;\">\n      <th></th>\n      <th>State</th>\n      <th>Senator</th>\n      <th>party</th>\n      <th>Born</th>\n      <th>assumed_office</th>\n      <th>term_up</th>\n      <th>st</th>\n      <th>population</th>\n    </tr>\n  </thead>\n  <tbody>\n    <tr>\n      <th>0</th>\n      <td>Alabama</td>\n      <td>Richard Shelby</td>\n      <td>Republican</td>\n      <td>(age 86)</td>\n      <td>January 3, 1987</td>\n      <td>2022</td>\n      <td>AL</td>\n      <td>4903185</td>\n    </tr>\n    <tr>\n      <th>1</th>\n      <td>Alabama</td>\n      <td>Tommy Tuberville</td>\n      <td>Republican</td>\n      <td>(age 66)</td>\n      <td>January 3, 2021</td>\n      <td>2026</td>\n      <td>AL</td>\n      <td>4903185</td>\n    </tr>\n    <tr>\n      <th>2</th>\n      <td>Alaska</td>\n      <td>Lisa Murkowski</td>\n      <td>Republican</td>\n      <td>(age 63)</td>\n      <td>December 20, 2002</td>\n      <td>2022</td>\n      <td>AK</td>\n      <td>731545</td>\n    </tr>\n    <tr>\n      <th>3</th>\n      <td>Alaska</td>\n      <td>Dan Sullivan</td>\n      <td>Republican</td>\n      <td>(age 56)</td>\n      <td>January 3, 2015</td>\n      <td>2026</td>\n      <td>AK</td>\n      <td>731545</td>\n    </tr>\n    <tr>\n      <th>4</th>\n      <td>Arizona</td>\n      <td>Kyrsten Sinema</td>\n      <td>Democratic</td>\n      <td>(age 44)</td>\n      <td>January 3, 2019</td>\n      <td>2024</td>\n      <td>AZ</td>\n      <td>7278717</td>\n    </tr>\n    <tr>\n      <th>...</th>\n      <td>...</td>\n      <td>...</td>\n      <td>...</td>\n      <td>...</td>\n      <td>...</td>\n      <td>...</td>\n      <td>...</td>\n      <td>...</td>\n    </tr>\n    <tr>\n      <th>95</th>\n      <td>West Virginia</td>\n      <td>Shelley Moore Capito</td>\n      <td>Republican</td>\n      <td>(age 67)</td>\n      <td>January 3, 2015</td>\n      <td>2026</td>\n      <td>WV</td>\n      <td>1792147</td>\n    </tr>\n    <tr>\n      <th>96</th>\n      <td>Wisconsin</td>\n      <td>Ron Johnson</td>\n      <td>Republican</td>\n      <td>(age 65)</td>\n      <td>January 3, 2011</td>\n      <td>2022</td>\n      <td>WI</td>\n      <td>5822434</td>\n    </tr>\n    <tr>\n      <th>97</th>\n      <td>Wisconsin</td>\n      <td>Tammy Baldwin</td>\n      <td>Democratic</td>\n      <td>(age 59)</td>\n      <td>January 3, 2013</td>\n      <td>2024</td>\n      <td>WI</td>\n      <td>5822434</td>\n    </tr>\n    <tr>\n      <th>98</th>\n      <td>Wyoming</td>\n      <td>John Barrasso</td>\n      <td>Republican</td>\n      <td>(age 68)</td>\n      <td>June 25, 2007</td>\n      <td>2024</td>\n      <td>WY</td>\n      <td>578759</td>\n    </tr>\n    <tr>\n      <th>99</th>\n      <td>Wyoming</td>\n      <td>Cynthia Lummis</td>\n      <td>Republican</td>\n      <td>(age 66)</td>\n      <td>January 3, 2021</td>\n      <td>2026</td>\n      <td>WY</td>\n      <td>578759</td>\n    </tr>\n  </tbody>\n</table>\n<p>100 rows × 8 columns</p>\n</div>"
     },
     "metadata": {},
     "execution_count": 24
    }
   ],
   "source": [
    "# merge census data with senate data by state to get a final dataframe of info\n",
    "sen_with_pop = sen_init.merge(state_pops, how='left', left_on='State', right_on='STNAME')\n",
    "\n",
    "# removes all footnotes (of the form [a]) with regex\n",
    "sen_with_pop.replace(\"\\[\\w*\\]\",\"\", inplace = True, regex = True)\n",
    "\n",
    "# rename columns and remove duplicate\n",
    "sen_with_pop.rename({'Party.1': 'party', \n",
    "                     'POPESTIMATE2019':'population', \n",
    "                     'Assumed office':'assumed_office',\n",
    "                     'Term up': 'term_up'}, inplace = True, axis=1)\n",
    "sen_with_pop.drop(['STNAME', 'states', 'temp_upper'], axis=1, inplace=True)\n",
    "sen_with_pop"
   ]
  },
  {
   "cell_type": "code",
   "execution_count": 25,
   "metadata": {},
   "outputs": [],
   "source": [
    "\n",
    "#sen_with_pop.to_csv('SPopulation.csv', index=False) # Read into a csv so can pull from that later"
   ]
  },
  {
   "cell_type": "code",
   "execution_count": 26,
   "metadata": {},
   "outputs": [
    {
     "output_type": "execute_result",
     "data": {
      "text/plain": [
       "  117th Senators           Religion  Gender Birth Year\n",
       "0   Alex Padilla           Catholic    male  3/22/1973\n",
       "1  Amy Klobuchar  Congregationalist  female  5/25/1960\n",
       "2     Angus King       Episcopalian    male  3/31/1944\n",
       "3     Ben Cardin             Jewish    male  10/5/1943\n",
       "4  Ben Ray Luján           Catholic    male   6/7/1972"
      ],
      "text/html": "<div>\n<style scoped>\n    .dataframe tbody tr th:only-of-type {\n        vertical-align: middle;\n    }\n\n    .dataframe tbody tr th {\n        vertical-align: top;\n    }\n\n    .dataframe thead th {\n        text-align: right;\n    }\n</style>\n<table border=\"1\" class=\"dataframe\">\n  <thead>\n    <tr style=\"text-align: right;\">\n      <th></th>\n      <th>117th Senators</th>\n      <th>Religion</th>\n      <th>Gender</th>\n      <th>Birth Year</th>\n    </tr>\n  </thead>\n  <tbody>\n    <tr>\n      <th>0</th>\n      <td>Alex Padilla</td>\n      <td>Catholic</td>\n      <td>male</td>\n      <td>3/22/1973</td>\n    </tr>\n    <tr>\n      <th>1</th>\n      <td>Amy Klobuchar</td>\n      <td>Congregationalist</td>\n      <td>female</td>\n      <td>5/25/1960</td>\n    </tr>\n    <tr>\n      <th>2</th>\n      <td>Angus King</td>\n      <td>Episcopalian</td>\n      <td>male</td>\n      <td>3/31/1944</td>\n    </tr>\n    <tr>\n      <th>3</th>\n      <td>Ben Cardin</td>\n      <td>Jewish</td>\n      <td>male</td>\n      <td>10/5/1943</td>\n    </tr>\n    <tr>\n      <th>4</th>\n      <td>Ben Ray Luján</td>\n      <td>Catholic</td>\n      <td>male</td>\n      <td>6/7/1972</td>\n    </tr>\n  </tbody>\n</table>\n</div>"
     },
     "metadata": {},
     "execution_count": 26
    }
   ],
   "source": [
    "more_sen = pd.read_csv('../SSSalamanders_RevA.csv')\n",
    "\n",
    "select_more_sen = more_sen[['117th Senators', 'Religion', 'Gender', 'Birth Year']]\n",
    "select_more_sen.head()"
   ]
  },
  {
   "cell_type": "code",
   "execution_count": 27,
   "metadata": {},
   "outputs": [
    {
     "output_type": "execute_result",
     "data": {
      "text/plain": [
       "array(['Catholic', 'Congregationalist', 'Episcopalian', 'Jewish',\n",
       "       'Presbyterian', 'Evangelical', 'Protestant', 'Baptist', 'Lutheran',\n",
       "       'Methodist', 'Restorationist', 'Quaker', 'Holiness',\n",
       "       'Unaffiliated', 'Buddhist', 'Unknown', 'Latter-day Saint'],\n",
       "      dtype=object)"
      ]
     },
     "metadata": {},
     "execution_count": 27
    }
   ],
   "source": [
    "select_more_sen['Religion'].unique()"
   ]
  },
  {
   "cell_type": "code",
   "execution_count": 28,
   "metadata": {},
   "outputs": [
    {
     "output_type": "execute_result",
     "data": {
      "text/plain": [
       "Index(['117th Senators', 'State', 'Party', 'Title', 'Religion', 'Gender',\n",
       "       'Birth Year', 'Assumed Office', 'WSJ', '538', 'Am Conservative Union',\n",
       "       'Abortion', 'immigrants' rights', 'filibuster', 'Right to Life'],\n",
       "      dtype='object')"
      ]
     },
     "metadata": {},
     "execution_count": 28
    }
   ],
   "source": [
    "more_sen.columns"
   ]
  },
  {
   "cell_type": "code",
   "execution_count": 29,
   "metadata": {},
   "outputs": [
    {
     "output_type": "execute_result",
     "data": {
      "text/plain": [
       "     State           Senator       party      Born     assumed_office  \\\n",
       "0  Alabama    Richard Shelby  Republican  (age 86)    January 3, 1987   \n",
       "1  Alabama  Tommy Tuberville  Republican  (age 66)    January 3, 2021   \n",
       "2   Alaska    Lisa Murkowski  Republican  (age 63)  December 20, 2002   \n",
       "3   Alaska      Dan Sullivan  Republican  (age 56)    January 3, 2015   \n",
       "4  Arizona    Kyrsten Sinema  Democratic  (age 44)    January 3, 2019   \n",
       "\n",
       "   term_up  st  population        Religion  \n",
       "0     2022  AL     4903185    Presbyterian  \n",
       "1     2026  AL     4903185  Restorationist  \n",
       "2     2022  AK      731545        Catholic  \n",
       "3     2026  AK      731545        Catholic  \n",
       "4     2024  AZ     7278717    Unaffiliated  "
      ],
      "text/html": "<div>\n<style scoped>\n    .dataframe tbody tr th:only-of-type {\n        vertical-align: middle;\n    }\n\n    .dataframe tbody tr th {\n        vertical-align: top;\n    }\n\n    .dataframe thead th {\n        text-align: right;\n    }\n</style>\n<table border=\"1\" class=\"dataframe\">\n  <thead>\n    <tr style=\"text-align: right;\">\n      <th></th>\n      <th>State</th>\n      <th>Senator</th>\n      <th>party</th>\n      <th>Born</th>\n      <th>assumed_office</th>\n      <th>term_up</th>\n      <th>st</th>\n      <th>population</th>\n      <th>Religion</th>\n    </tr>\n  </thead>\n  <tbody>\n    <tr>\n      <th>0</th>\n      <td>Alabama</td>\n      <td>Richard Shelby</td>\n      <td>Republican</td>\n      <td>(age 86)</td>\n      <td>January 3, 1987</td>\n      <td>2022</td>\n      <td>AL</td>\n      <td>4903185</td>\n      <td>Presbyterian</td>\n    </tr>\n    <tr>\n      <th>1</th>\n      <td>Alabama</td>\n      <td>Tommy Tuberville</td>\n      <td>Republican</td>\n      <td>(age 66)</td>\n      <td>January 3, 2021</td>\n      <td>2026</td>\n      <td>AL</td>\n      <td>4903185</td>\n      <td>Restorationist</td>\n    </tr>\n    <tr>\n      <th>2</th>\n      <td>Alaska</td>\n      <td>Lisa Murkowski</td>\n      <td>Republican</td>\n      <td>(age 63)</td>\n      <td>December 20, 2002</td>\n      <td>2022</td>\n      <td>AK</td>\n      <td>731545</td>\n      <td>Catholic</td>\n    </tr>\n    <tr>\n      <th>3</th>\n      <td>Alaska</td>\n      <td>Dan Sullivan</td>\n      <td>Republican</td>\n      <td>(age 56)</td>\n      <td>January 3, 2015</td>\n      <td>2026</td>\n      <td>AK</td>\n      <td>731545</td>\n      <td>Catholic</td>\n    </tr>\n    <tr>\n      <th>4</th>\n      <td>Arizona</td>\n      <td>Kyrsten Sinema</td>\n      <td>Democratic</td>\n      <td>(age 44)</td>\n      <td>January 3, 2019</td>\n      <td>2024</td>\n      <td>AZ</td>\n      <td>7278717</td>\n      <td>Unaffiliated</td>\n    </tr>\n  </tbody>\n</table>\n</div>"
     },
     "metadata": {},
     "execution_count": 29
    }
   ],
   "source": [
    "sen_data = sen_with_pop.merge(select_more_sen, how='left', left_on = 'Senator', right_on = '117th Senators')\n",
    "sen_data.drop(['Gender', 'Birth Year', '117th Senators'], axis=1, inplace = True)\n",
    "sen_data.head()"
   ]
  },
  {
   "cell_type": "code",
   "execution_count": null,
   "metadata": {},
   "outputs": [],
   "source": []
  },
  {
   "cell_type": "code",
   "execution_count": 30,
   "metadata": {},
   "outputs": [],
   "source": [
    "sen_names = sen_data['Senator']\n",
    "\n",
    "#sen_genders = []\n",
    "\n",
    "# for sen in sen_names: # 1 for male, 2 for female\n",
    "#     currsex = input(f\"{sen}: \")\n",
    "#     sen_genders.append(currsex)\n",
    "\n",
    "sen_genders = [1, 1, 2, 1, 2, 1, 1, 1, 2, 1, 1, 1, 1, 1, 1, 1, 1, 1, 1, 1, 1, 2, 1, 1, 1, 2, 1, 1, 1, 2, 1, 1, 1, 1, \n",
    " 1, 1, 2, 1, 1, 1, 2, 1, 2, 1, 2, 2, 1, 2, 1, 1, 1, 1, 2, 1, 2, 2, 2, 2, 1, 1, 1, 1, 1,2,1,1,1,1,1,1,1,\n",
    " 1,1,1,1,1,1,1,1,1,1,1,2,1,1,1,1,1,1,1,1,1,2,2,1,2,1,2,1,2]"
   ]
  },
  {
   "cell_type": "code",
   "execution_count": 31,
   "metadata": {},
   "outputs": [],
   "source": [
    "sen_genders = [str(i) for i in sen_genders]\n",
    "\n",
    "\n",
    "sen_data['gender'] = sen_genders\n",
    "sen_sex_ratio = list(sen_data['gender'].value_counts())\n",
    "\n"
   ]
  },
  {
   "cell_type": "code",
   "execution_count": 32,
   "metadata": {},
   "outputs": [
    {
     "output_type": "execute_result",
     "data": {
      "text/plain": [
       "         State          Senator       party      Born    assumed_office  \\\n",
       "68        Ohio    Sherrod Brown  Democratic  (age 68)   January 3, 2007   \n",
       "62    New York    Chuck Schumer  Democratic  (age 70)   January 3, 1999   \n",
       "61  New Mexico    Ben Ray Luján  Democratic  (age 48)   January 3, 2021   \n",
       "60  New Mexico  Martin Heinrich  Democratic  (age 49)   January 3, 2013   \n",
       "59  New Jersey      Cory Booker  Democratic  (age 51)  October 31, 2013   \n",
       "\n",
       "    term_up  st  population  Religion gender color sex_colors  \n",
       "68     2024  OH    11689100  Lutheran      1  blue     purple  \n",
       "62     2022  NY    19453561    Jewish      1  blue     purple  \n",
       "61     2026  NM     2096829  Catholic      1  blue     purple  \n",
       "60     2024  NM     2096829  Lutheran      1  blue     purple  \n",
       "59     2026  NJ     8882190   Baptist      1  blue     purple  "
      ],
      "text/html": "<div>\n<style scoped>\n    .dataframe tbody tr th:only-of-type {\n        vertical-align: middle;\n    }\n\n    .dataframe tbody tr th {\n        vertical-align: top;\n    }\n\n    .dataframe thead th {\n        text-align: right;\n    }\n</style>\n<table border=\"1\" class=\"dataframe\">\n  <thead>\n    <tr style=\"text-align: right;\">\n      <th></th>\n      <th>State</th>\n      <th>Senator</th>\n      <th>party</th>\n      <th>Born</th>\n      <th>assumed_office</th>\n      <th>term_up</th>\n      <th>st</th>\n      <th>population</th>\n      <th>Religion</th>\n      <th>gender</th>\n      <th>color</th>\n      <th>sex_colors</th>\n    </tr>\n  </thead>\n  <tbody>\n    <tr>\n      <th>68</th>\n      <td>Ohio</td>\n      <td>Sherrod Brown</td>\n      <td>Democratic</td>\n      <td>(age 68)</td>\n      <td>January 3, 2007</td>\n      <td>2024</td>\n      <td>OH</td>\n      <td>11689100</td>\n      <td>Lutheran</td>\n      <td>1</td>\n      <td>blue</td>\n      <td>purple</td>\n    </tr>\n    <tr>\n      <th>62</th>\n      <td>New York</td>\n      <td>Chuck Schumer</td>\n      <td>Democratic</td>\n      <td>(age 70)</td>\n      <td>January 3, 1999</td>\n      <td>2022</td>\n      <td>NY</td>\n      <td>19453561</td>\n      <td>Jewish</td>\n      <td>1</td>\n      <td>blue</td>\n      <td>purple</td>\n    </tr>\n    <tr>\n      <th>61</th>\n      <td>New Mexico</td>\n      <td>Ben Ray Luján</td>\n      <td>Democratic</td>\n      <td>(age 48)</td>\n      <td>January 3, 2021</td>\n      <td>2026</td>\n      <td>NM</td>\n      <td>2096829</td>\n      <td>Catholic</td>\n      <td>1</td>\n      <td>blue</td>\n      <td>purple</td>\n    </tr>\n    <tr>\n      <th>60</th>\n      <td>New Mexico</td>\n      <td>Martin Heinrich</td>\n      <td>Democratic</td>\n      <td>(age 49)</td>\n      <td>January 3, 2013</td>\n      <td>2024</td>\n      <td>NM</td>\n      <td>2096829</td>\n      <td>Lutheran</td>\n      <td>1</td>\n      <td>blue</td>\n      <td>purple</td>\n    </tr>\n    <tr>\n      <th>59</th>\n      <td>New Jersey</td>\n      <td>Cory Booker</td>\n      <td>Democratic</td>\n      <td>(age 51)</td>\n      <td>October 31, 2013</td>\n      <td>2026</td>\n      <td>NJ</td>\n      <td>8882190</td>\n      <td>Baptist</td>\n      <td>1</td>\n      <td>blue</td>\n      <td>purple</td>\n    </tr>\n  </tbody>\n</table>\n</div>"
     },
     "metadata": {},
     "execution_count": 32
    }
   ],
   "source": [
    "# Gender graph 2: Chamber style\n",
    "colordict = {'Republican': 'red', 'Democratic':'blue', 'Independent':'gray', 'Vacant':'purple'}\n",
    "colors = [colordict[k] for k in list(sen_data['party'])]\n",
    "sen_data['color'] = colors\n",
    "\n",
    "# setup\n",
    "\n",
    "sex_data = sen_data.sort_values(by='gender')\n",
    "\n",
    "\n",
    "sex_colordict = {'1': 'purple', '2': 'pink'}\n",
    "sex_colors = [sex_colordict[k] for k in list(sex_data['gender'])]\n",
    "sex_data['sex_colors'] = sex_colors\n",
    "\n",
    "\n",
    "\n",
    "# put coords in table?\n",
    "rep_coords = [(r, a*90 / (r+2)) for a in range(12) for r in range(max(5, a-2),10)]\n",
    "dem_coords = [(r, 180 - a*90 / (r+2)) for a in range(12) for r in range(max(5, a-2),10)]\n",
    "\n",
    "\n",
    "Ds_sex = sex_data[sex_data['party'] != 'Republican']\n",
    "Rs_sex = sex_data[sex_data['party'] == 'Republican']\n",
    "\n",
    "Ds_sex.head()\n"
   ]
  },
  {
   "cell_type": "code",
   "execution_count": 33,
   "metadata": {},
   "outputs": [],
   "source": [
    "sen_data['race'] = [1] * 100\n",
    "\n",
    "def rerace(senator, n):\n",
    "    sen_data.loc[sen_data['Senator'] == senator, ['race']] = n\n",
    "    return \"complete\"\n",
    "\n",
    "black = [\"Cory Booker\", 'Tim Scott', 'Raphael Warnock']\n",
    "asian = ['Mazie Hirono', 'Tammy Duckworth']\n",
    "\n",
    "[rerace(a, 2) for a in black]\n",
    "[rerace(b, 4) for b in asian]\n",
    "\n",
    "sen_data.to_csv('../resources/SPopulation.csv')"
   ]
  },
  {
   "cell_type": "markdown",
   "metadata": {},
   "source": [
    "African Americans: Cory Booker, Tim Scott, Raphael Warnock\n",
    "Asian Americans: Mazie Hirono, Tammy Duckworth\n",
    "Hispanic Americans: Robert Menendez, Marco Rubio, Ted Cruz, Catherine Cortez Masto, Ben Ray Lujan, Alex Padilla\n",
    "Source: https://www.senate.gov/senators/EthnicDiversityintheSenate.htm\n",
    "\n",
    "1 = White Alone\n",
    "2 = Black or African American Alone \n",
    "3 = American Indian or Alaska Native Alone\n",
    "4 = Asian Alone"
   ]
  },
  {
   "cell_type": "code",
   "execution_count": 34,
   "metadata": {},
   "outputs": [],
   "source": [
    "# NOTE: Should pull religion data from these tables: https://en.wikipedia.org/wiki/Religious_affiliation_in_the_United_States_Senate\n",
    "\n"
   ]
  }
 ],
 "metadata": {
  "kernelspec": {
   "display_name": "Python 3",
   "language": "python",
   "name": "python3"
  },
  "language_info": {
   "codemirror_mode": {
    "name": "ipython",
    "version": 3
   },
   "file_extension": ".py",
   "mimetype": "text/x-python",
   "name": "python",
   "nbconvert_exporter": "python",
   "pygments_lexer": "ipython3",
   "version": "3.8.3"
  }
 },
 "nbformat": 4,
 "nbformat_minor": 4
}