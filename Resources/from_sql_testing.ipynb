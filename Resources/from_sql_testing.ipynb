{
 "cells": [
  {
   "cell_type": "code",
   "execution_count": 60,
   "metadata": {},
   "outputs": [],
   "source": [
    "# import sqlalchemy\n",
    "from sqlalchemy.orm import Session\n",
    "from sqlalchemy import create_engine, inspect, func\n",
    "\n",
    "from sqlalchemy.ext.declarative import declarative_base\n",
    "from sqlalchemy import Column, Integer, String, Float, BigInteger\n",
    "Base = declarative_base()\n",
    "\n",
    "import json\n",
    "#import psycopg2"
   ]
  },
  {
   "cell_type": "code",
   "execution_count": 61,
   "metadata": {},
   "outputs": [],
   "source": [
    "# Set connection \n",
    "path = \"AllData.sqlite\"\n",
    "engine = create_engine(f\"sqlite:///{path}\")\n",
    "\n",
    "#conn = engine.connect()"
   ]
  },
  {
   "cell_type": "code",
   "execution_count": 62,
   "metadata": {},
   "outputs": [
    {
     "data": {
      "text/plain": [
       "['attributes', 'religion', 'senate']"
      ]
     },
     "execution_count": 62,
     "metadata": {},
     "output_type": "execute_result"
    }
   ],
   "source": [
    "# Inspect table \n",
    "# Use the Inspector to explore the database and print the table names\n",
    "inspector = inspect(engine)\n",
    "inspector.get_table_names()"
   ]
  },
  {
   "cell_type": "code",
   "execution_count": 64,
   "metadata": {},
   "outputs": [
    {
     "name": "stdout",
     "output_type": "stream",
     "text": [
      "level_0 BIGINT\n",
      "index BIGINT\n",
      "SUMLEV BIGINT\n",
      "REGION BIGINT\n",
      "DIVISION BIGINT\n",
      "STATE BIGINT\n",
      "NAME TEXT\n",
      "SEX BIGINT\n",
      "ORIGIN BIGINT\n",
      "RACE BIGINT\n",
      "AGE BIGINT\n",
      "CENSUS2010POP BIGINT\n",
      "ESTIMATESBASE2010 BIGINT\n",
      "POPESTIMATE2010 BIGINT\n",
      "POPESTIMATE2011 BIGINT\n",
      "POPESTIMATE2012 BIGINT\n",
      "POPESTIMATE2013 BIGINT\n",
      "POPESTIMATE2014 BIGINT\n",
      "POPESTIMATE2015 BIGINT\n",
      "POPESTIMATE2016 BIGINT\n",
      "POPESTIMATE2017 BIGINT\n",
      "POPESTIMATE2018 BIGINT\n",
      "POPESTIMATE2019 BIGINT\n"
     ]
    }
   ],
   "source": [
    "columns = inspector.get_columns('attributes')\n",
    "for c in columns:\n",
    "    print(c['name'], c[\"type\"])"
   ]
  },
  {
   "cell_type": "code",
   "execution_count": 52,
   "metadata": {},
   "outputs": [],
   "source": [
    "# TODO: class constructor function to pull from ^\n",
    "class Attributes(Base):\n",
    "    __tablename__ = 'attributes'\n",
    "    index = Column(BigInteger, primary_key = True)\n",
    "    SUMLEV = Column(Integer)\n",
    "    REGION = Column(Integer)\n",
    "    DIVISION = Column(Integer)\n",
    "    STATE = Column(Integer)\n",
    "    NAME = Column(BigInteger)\n",
    "    SEX = Column(Integer)\n",
    "    ORIGIN = Column(Integer)\n",
    "    RACE  = Column(Integer)\n",
    "    AGE = Column(Integer)\n",
    "    CENSUS2010POP = Column(BigInteger)\n",
    "    ESTIMATESBASE2010 = Column(BigInteger)\n",
    "    POPESTIMATE2010 = Column(BigInteger)\n",
    "    POPESTIMATE2011 = Column(BigInteger)\n",
    "    POPESTIMATE2012 = Column(BigInteger)\n",
    "    POPESTIMATE2013 = Column(BigInteger)\n",
    "    POPESTIMATE2014 = Column(BigInteger)\n",
    "    POPESTIMATE2015 = Column(BigInteger)\n",
    "    POPESTIMATE2016 = Column(BigInteger)\n",
    "    POPESTIMATE2017 = Column(BigInteger)\n",
    "    POPESTIMATE2018 = Column(BigInteger)\n",
    "    POPESTIMATE2019 = Column(BigInteger)\n",
    "\n",
    "Base.metadata.create_all(engine)"
   ]
  },
  {
   "cell_type": "code",
   "execution_count": 65,
   "metadata": {},
   "outputs": [],
   "source": [
    "session = Session(bind=engine)"
   ]
  },
  {
   "cell_type": "code",
   "execution_count": 69,
   "metadata": {},
   "outputs": [
    {
     "data": {
      "text/plain": [
       "[{'name': 'Attributes',\n",
       "  'type': __main__.Attributes,\n",
       "  'aliased': False,\n",
       "  'expr': __main__.Attributes,\n",
       "  'entity': __main__.Attributes}]"
      ]
     },
     "execution_count": 69,
     "metadata": {},
     "output_type": "execute_result"
    }
   ],
   "source": [
    "Query(Attributes).column_descriptions"
   ]
  },
  {
   "cell_type": "code",
   "execution_count": 73,
   "metadata": {},
   "outputs": [
    {
     "ename": "NameError",
     "evalue": "name 'NAME' is not defined",
     "output_type": "error",
     "traceback": [
      "\u001b[1;31m---------------------------------------------------------------------------\u001b[0m",
      "\u001b[1;31mNameError\u001b[0m                                 Traceback (most recent call last)",
      "\u001b[1;32m<ipython-input-73-1ab14f117ab1>\u001b[0m in \u001b[0;36m<module>\u001b[1;34m\u001b[0m\n\u001b[0;32m      3\u001b[0m     \u001b[0mQuery\u001b[0m\u001b[1;33m(\u001b[0m\u001b[0mAttributes\u001b[0m\u001b[1;33m)\u001b[0m\u001b[1;33m\u001b[0m\u001b[1;33m\u001b[0m\u001b[0m\n\u001b[0;32m      4\u001b[0m     \u001b[1;33m.\u001b[0m\u001b[0mwith_session\u001b[0m\u001b[1;33m(\u001b[0m\u001b[0msession\u001b[0m\u001b[1;33m)\u001b[0m\u001b[1;33m\u001b[0m\u001b[1;33m\u001b[0m\u001b[0m\n\u001b[1;32m----> 5\u001b[1;33m     \u001b[1;33m.\u001b[0m\u001b[0mwith_entities\u001b[0m\u001b[1;33m(\u001b[0m\u001b[0mNAME\u001b[0m\u001b[1;33m)\u001b[0m\u001b[1;33m\u001b[0m\u001b[1;33m\u001b[0m\u001b[0m\n\u001b[0m\u001b[0;32m      6\u001b[0m     \u001b[1;33m.\u001b[0m\u001b[0mfirst\u001b[0m\u001b[1;33m(\u001b[0m\u001b[1;33m)\u001b[0m\u001b[1;33m\u001b[0m\u001b[1;33m\u001b[0m\u001b[0m\n\u001b[0;32m      7\u001b[0m )\n",
      "\u001b[1;31mNameError\u001b[0m: name 'NAME' is not defined"
     ]
    }
   ],
   "source": [
    "from sqlalchemy.orm import Query\n",
    "attribute_rows = (\n",
    "    Query(Attributes)\n",
    "    .with_session(session)\n",
    "    .with_entities(Attributes.NAME)\n",
    "    .first()\n",
    ")\n",
    "attribute_rows"
   ]
  },
  {
   "cell_type": "code",
   "execution_count": null,
   "metadata": {},
   "outputs": [],
   "source": []
  },
  {
   "cell_type": "code",
   "execution_count": 59,
   "metadata": {},
   "outputs": [
    {
     "ename": "TypeError",
     "evalue": "'Attributes' object is not iterable",
     "output_type": "error",
     "traceback": [
      "\u001b[1;31m---------------------------------------------------------------------------\u001b[0m",
      "\u001b[1;31mTypeError\u001b[0m                                 Traceback (most recent call last)",
      "\u001b[1;32m<ipython-input-59-adfa9538bf5d>\u001b[0m in \u001b[0;36m<module>\u001b[1;34m\u001b[0m\n\u001b[0;32m      5\u001b[0m \u001b[1;31m# print([r for r in my_table])\u001b[0m\u001b[1;33m\u001b[0m\u001b[1;33m\u001b[0m\u001b[1;33m\u001b[0m\u001b[0m\n\u001b[0;32m      6\u001b[0m \u001b[1;33m\u001b[0m\u001b[0m\n\u001b[1;32m----> 7\u001b[1;33m \u001b[0mr\u001b[0m \u001b[1;33m=\u001b[0m \u001b[1;33m[\u001b[0m\u001b[0mdict\u001b[0m\u001b[1;33m(\u001b[0m\u001b[1;33m(\u001b[0m\u001b[0mcols\u001b[0m\u001b[1;33m[\u001b[0m\u001b[0mi\u001b[0m\u001b[1;33m]\u001b[0m\u001b[1;33m,\u001b[0m \u001b[0mvalue\u001b[0m\u001b[1;33m)\u001b[0m \u001b[1;32mfor\u001b[0m \u001b[0mi\u001b[0m\u001b[1;33m,\u001b[0m \u001b[0mvalue\u001b[0m \u001b[1;32min\u001b[0m \u001b[0menumerate\u001b[0m\u001b[1;33m(\u001b[0m\u001b[0mrow\u001b[0m\u001b[1;33m)\u001b[0m\u001b[1;33m)\u001b[0m \u001b[1;32mfor\u001b[0m \u001b[0mrow\u001b[0m \u001b[1;32min\u001b[0m \u001b[0mmy_table\u001b[0m\u001b[1;33m]\u001b[0m\u001b[1;33m\u001b[0m\u001b[1;33m\u001b[0m\u001b[0m\n\u001b[0m\u001b[0;32m      8\u001b[0m \u001b[1;33m\u001b[0m\u001b[0m\n\u001b[0;32m      9\u001b[0m \u001b[1;31m# print(r)\u001b[0m\u001b[1;33m\u001b[0m\u001b[1;33m\u001b[0m\u001b[1;33m\u001b[0m\u001b[0m\n",
      "\u001b[1;32m<ipython-input-59-adfa9538bf5d>\u001b[0m in \u001b[0;36m<listcomp>\u001b[1;34m(.0)\u001b[0m\n\u001b[0;32m      5\u001b[0m \u001b[1;31m# print([r for r in my_table])\u001b[0m\u001b[1;33m\u001b[0m\u001b[1;33m\u001b[0m\u001b[1;33m\u001b[0m\u001b[0m\n\u001b[0;32m      6\u001b[0m \u001b[1;33m\u001b[0m\u001b[0m\n\u001b[1;32m----> 7\u001b[1;33m \u001b[0mr\u001b[0m \u001b[1;33m=\u001b[0m \u001b[1;33m[\u001b[0m\u001b[0mdict\u001b[0m\u001b[1;33m(\u001b[0m\u001b[1;33m(\u001b[0m\u001b[0mcols\u001b[0m\u001b[1;33m[\u001b[0m\u001b[0mi\u001b[0m\u001b[1;33m]\u001b[0m\u001b[1;33m,\u001b[0m \u001b[0mvalue\u001b[0m\u001b[1;33m)\u001b[0m \u001b[1;32mfor\u001b[0m \u001b[0mi\u001b[0m\u001b[1;33m,\u001b[0m \u001b[0mvalue\u001b[0m \u001b[1;32min\u001b[0m \u001b[0menumerate\u001b[0m\u001b[1;33m(\u001b[0m\u001b[0mrow\u001b[0m\u001b[1;33m)\u001b[0m\u001b[1;33m)\u001b[0m \u001b[1;32mfor\u001b[0m \u001b[0mrow\u001b[0m \u001b[1;32min\u001b[0m \u001b[0mmy_table\u001b[0m\u001b[1;33m]\u001b[0m\u001b[1;33m\u001b[0m\u001b[1;33m\u001b[0m\u001b[0m\n\u001b[0m\u001b[0;32m      8\u001b[0m \u001b[1;33m\u001b[0m\u001b[0m\n\u001b[0;32m      9\u001b[0m \u001b[1;31m# print(r)\u001b[0m\u001b[1;33m\u001b[0m\u001b[1;33m\u001b[0m\u001b[1;33m\u001b[0m\u001b[0m\n",
      "\u001b[1;31mTypeError\u001b[0m: 'Attributes' object is not iterable"
     ]
    }
   ],
   "source": [
    "\n",
    "my_table = session.query(Attributes)\n",
    "# print(my_table)\n",
    "\n",
    "\n",
    "# print([r for r in my_table])\n",
    "\n",
    "r = [dict((cols[i], value) for i, value in enumerate(row)) for row in my_table]\n",
    "\n",
    "# print(r)"
   ]
  },
  {
   "cell_type": "code",
   "execution_count": null,
   "metadata": {},
   "outputs": [],
   "source": []
  },
  {
   "cell_type": "code",
   "execution_count": null,
   "metadata": {},
   "outputs": [],
   "source": []
  },
  {
   "cell_type": "code",
   "execution_count": null,
   "metadata": {},
   "outputs": [],
   "source": [
    "from sqlalchemy.dialects import sqlite\n",
    "usa = session.query(BaseballPlayer).filter(BaseballPlayer.birth_country == 'USA')\n",
    "print(usa.statement.compile(dialect=sqlite.dialect()))\n",
    "\n",
    "from sqlalchemy import Query\n",
    "\n",
    "year = (\n",
    "    Query(BaseballPlayer)\n",
    "    .filter(birth_year < 1990)\n",
    "    .with_session(session)\n",
    "    .all()\n",
    ")\n",
    "for player in year:\n",
    "    print(player.name_first)"
   ]
  },
  {
   "cell_type": "code",
   "execution_count": 41,
   "metadata": {},
   "outputs": [],
   "source": [
    "#engine.execute('SELECT * FROM attributes LIMIT 10').fetchall()"
   ]
  },
  {
   "cell_type": "code",
   "execution_count": 42,
   "metadata": {},
   "outputs": [],
   "source": [
    "# get column names\n",
    "#columns_dict = inspector.get_columns('attributes')\n",
    "#print(columns_dict)"
   ]
  },
  {
   "cell_type": "code",
   "execution_count": null,
   "metadata": {},
   "outputs": [],
   "source": []
  },
  {
   "cell_type": "code",
   "execution_count": null,
   "metadata": {},
   "outputs": [],
   "source": [
    "\n",
    "\n",
    "\n",
    "\n",
    "\n",
    "\n",
    "\n",
    "\n",
    "my_table = session.query(Senate).all()\n",
    "print(my_table)\n",
    "\n",
    "\n",
    "#print([r for r in my_table])\n",
    "\n",
    "# r = [dict((cols[i], value) for i, value in enumerate(row)) for row in my_table]\n",
    "\n",
    "# print(r)\n",
    "\n",
    "\n",
    "# inspector = inspect(engine)\n",
    "\n",
    "# tables = inspector.get_table_names()\n",
    "\n",
    "# for t in tables:\n",
    "#     my_table = session.query(t)\n",
    "#     columns_dict = inspector.get_columns(t)\n",
    "#     cols = [c['name'] for c in columns_dict]\n",
    "\n",
    "#     # for column in columns:\n",
    "#     #     print(column[\"name\"], column[\"type\"])\n",
    "\n",
    "#     r = [dict((cols[i], value) for i, value in enumerate(row)) for row in my_table]\n",
    "\n",
    "#     print(r)\n",
    "\n",
    "    # my_query = query_db(\"select * from senate\")\n",
    "\n",
    "    # json_output = json.dumps(my_query)"
   ]
  }
 ],
 "metadata": {
  "kernelspec": {
   "display_name": "Python 3",
   "language": "python",
   "name": "python3"
  },
  "language_info": {
   "codemirror_mode": {
    "name": "ipython",
    "version": 3
   },
   "file_extension": ".py",
   "mimetype": "text/x-python",
   "name": "python",
   "nbconvert_exporter": "python",
   "pygments_lexer": "ipython3",
   "version": "3.8.3"
  }
 },
 "nbformat": 4,
 "nbformat_minor": 4
}
