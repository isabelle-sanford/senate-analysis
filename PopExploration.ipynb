{
 "cells": [
  {
   "cell_type": "code",
   "execution_count": 1,
   "metadata": {},
   "outputs": [],
   "source": [
    "# import modules + data\n",
    "from plotly.subplots import make_subplots\n",
    "import pandas as pd\n",
    "import plotly.graph_objects as go\n",
    "\n"
   ]
  },
  {
   "cell_type": "code",
   "execution_count": null,
   "metadata": {},
   "outputs": [],
   "source": [
    "# graphing functions to make below less difficult\n",
    "def bubble(x, y, color, size, labels):\n",
    "    data = [go.Scatter (\n",
    "        x = x,\n",
    "        y = y,\n",
    "        text=labels,\n",
    "        mode = 'markers',\n",
    "        marker = dict(\n",
    "            color=color,\n",
    "            size=size,\n",
    "            sizemode='area',\n",
    "            sizeref=2.*max(size)/(45.**2),\n",
    "            sizemin=4))]\n",
    "    fig = go.Figure(data)\n",
    "    fig.show()\n",
    "\n",
    "def bar(x, y, colors):\n",
    "    trace1 = go.Bar(\n",
    "        x=x,\n",
    "        y=y,\n",
    "        marker_color=colors)\n",
    "    fig = go.Figure([trace1])\n",
    "    fig.show()\n",
    "    \n",
    "def barStack(labels, y1, y2):\n",
    "    trace1 = go.Bar(\n",
    "        x=labels,\n",
    "        y=y1)\n",
    "    trace2 = go.Bar(\n",
    "        x=labels,\n",
    "        y=y2)\n",
    "    fig = go.Figure([trace1, trace2])\n",
    "    fig.update_layout(barmode='stack')\n",
    "    fig.show()    \n"
   ]
  },
  {
   "cell_type": "code",
   "execution_count": null,
   "metadata": {},
   "outputs": [],
   "source": [
    "# check how many parties there are and what they are. and if any new footnotes are up\n",
    "pop_sorted_data['Party'].unique()\n",
    "\n",
    "# set up what party gets what colors and transform party column in data into a corresponding list of colors\n",
    "colordict = {'Republican': 'red', 'Democratic':'blue', 'Independent':'gray', 'Vacant':'purple'}\n",
    "colors = [colordict[k] for k in list(pop_sorted_data['Party'])]\n",
    "# NOTE - make this robust re footnotes\n"
   ]
  },
  {
   "cell_type": "code",
   "execution_count": null,
   "metadata": {},
   "outputs": [],
   "source": [
    "# @TODO: Make this unnecessary? Ideally would work for any # of parties with any names, just pull from one big dataset?\n",
    "# that might be easier if plotted in pandas instead of plotly tbf\n",
    "\n",
    "# Get lists of various variables so they can be easily plugged into plotly\n",
    "R_data = sen_with_pop[sen_with_pop['Party'] == 'Republican']\n",
    "R_data.head()\n",
    "R_pops = list(R_data['Population'])\n",
    "R_sen_list = list(R_data['Senator'])\n",
    "R_states = list(R_data['State'])\n",
    "\n",
    "D_data = sen_with_pop[sen_with_pop['Party'] != 'Republican']\n",
    "D_data.head()\n",
    "D_pops = list(D_data['Population']) # includes independents\n",
    "D_sen_list = list(D_data['Senator'])\n",
    "D_states = list(D_data['State'])\n",
    "\n",
    "I_data = sen_with_pop[sen_with_pop['Party'] == 'Independent[a]']\n",
    "I_pops = list(I_data['Population'])"
   ]
  },
  {
   "cell_type": "code",
   "execution_count": null,
   "metadata": {},
   "outputs": [],
   "source": [
    "# this builds the coordinates for a senate chamber setup\n",
    "# @TODO: Republicans are currently on the LEFT\n",
    "\n",
    "R_coords = []\n",
    "for i in range(10):\n",
    "    for j in range(5):\n",
    "        R_coords.append([i, j])\n",
    "\n",
    "D_coords = []\n",
    "for i in range(10, 20):\n",
    "    for j in range(5):\n",
    "        D_coords.append([i, j])"
   ]
  },
  {
   "cell_type": "code",
   "execution_count": null,
   "metadata": {},
   "outputs": [],
   "source": [
    "# one-to-one list of coloring for any list going [republicans, democrats]\n",
    "colors = ['red'] * 50 + ['blue'] * 50\n",
    "\n",
    "# see this is just silly\n",
    "full_sen_list = R_sen_list + D_sen_list\n",
    "state_list = R_states + D_states"
   ]
  },
  {
   "cell_type": "code",
   "execution_count": null,
   "metadata": {},
   "outputs": [],
   "source": [
    "# bubble plot of population of each state, with mouseover labels for each senator\n",
    "x_vals = [a[0] for a in (R_coords + D_coords)]\n",
    "y_vals = [a[1] for a in (R_coords + D_coords)]\n",
    "pops = [a for a in (R_pops + D_pops)]\n",
    "\n",
    "bubble(x_vals, y_vals, colors, pops, full_sen_list)"
   ]
  },
  {
   "cell_type": "code",
   "execution_count": null,
   "metadata": {},
   "outputs": [],
   "source": [
    "# summary stats for each party\n",
    "all_Rs = sum(R_pops)\n",
    "all_Ds = sum(D_pops)\n",
    "just_Is = sum(I_pops)"
   ]
  },
  {
   "cell_type": "code",
   "execution_count": null,
   "metadata": {},
   "outputs": [],
   "source": [
    "# SEE THIS IS THE WAY TO DO IT\n",
    "# admittedly sorting it and relying on that sort might be a little weak? but GOOD\n",
    "\n",
    "# anyway this is the data sorted by state population, lowest to highest\n",
    "pop_sorted_data = sen_with_pop.sort_values(by='Population').reset_index(drop=True)\n",
    "pop_sorted_data.head()"
   ]
  },
  {
   "cell_type": "code",
   "execution_count": null,
   "metadata": {},
   "outputs": [],
   "source": [
    "# Should this not be with the barstack function\n",
    "\n",
    "\n",
    "# Stacked bar chart (for 2 senators per state)\n",
    "\n",
    "# since data is sorted by population, senators from the same state must be adjacent\n",
    "# so taking every other one gives one from each state\n",
    "stack_1 = sen_with_pop[sen_with_pop.index % 2 == 0]\n",
    "stack_2 = sen_with_pop[sen_with_pop.index % 2 == 1]\n",
    "\n",
    "# colors stuff, as above\n",
    "colors1 = [colordict[k] for k in list(stack_1['Party'])]\n",
    "colors2 = [colordict[k] for k in list(stack_2['Party'])]\n",
    "\n",
    "\n",
    "# bottom half of bar chart\n",
    "trace1 = go.Bar(\n",
    "    x=list(stack_1['State']),\n",
    "    y=list(stack_1['Population']/2), # divide state pop in two so two senators makes the right pop come out\n",
    "    # But don't want hovering to SHOW this\n",
    "    marker_color = colors1,\n",
    "    text=list(stack_1['State'])) # hovering shows state\n",
    "\n",
    "# top half, same thing\n",
    "trace2 = go.Bar(\n",
    "    x=list(stack_1['State']),\n",
    "    y=list(stack_2['Population']/2),\n",
    "    marker_color=colors2,\n",
    "    hovertext=list(stack_2['State'])) # maybe do abbreviations? \n",
    "\n",
    "# make chart!\n",
    "fig = go.Figure([trace1])\n",
    "fig.add_trace(trace2)\n",
    "\n",
    "# add a line between 9 and 10 to show the halfway point\n",
    "# @TODO: make robust against different distributions of population\n",
    "fig.add_vline(x=9.5, line_dash='dot')\n",
    "\n",
    "fig.update_layout(barmode='stack', xaxis={'categoryorder':'total descending'})\n",
    "fig.show()    \n"
   ]
  },
  {
   "cell_type": "code",
   "execution_count": null,
   "metadata": {},
   "outputs": [],
   "source": [
    "# very simple graph showing how many people democrats vs republicans represent\n",
    "mylabels = ['Republican', 'Democrat']\n",
    "\n",
    "bar(mylabels, [all_Rs/2, all_Ds/2], ['red', 'blue']) #dividing by 2 because 2 senators"
   ]
  },
  {
   "cell_type": "code",
   "execution_count": null,
   "metadata": {},
   "outputs": [],
   "source": [
    "sort_new = sen_with_pop.sort_values(by='Population')\n",
    "sort_new.head()\n",
    "\n",
    "Rns = sort_new[sort_new['Party'] == 'Republican']\n",
    "Dns = sort_new[sort_new['Party'] != 'Republican']"
   ]
  },
  {
   "cell_type": "code",
   "execution_count": null,
   "metadata": {},
   "outputs": [],
   "source": [
    "# JUST MAKE A POLAR CHART FFS\n",
    "\n",
    "\n",
    "\n",
    "fig = make_subplots(rows=1, cols=2, specs=[[{'type': 'polar'}]*2]*1, horizontal_spacing=0)\n",
    "\n",
    "rep_coords = [(r, a*90 / (r+2)) for a in range(12) for r in range(max(5, a-2),10)]\n",
    "dem_coords = [(r, 180 - a*90 / (r+2)) for a in range(12) for r in range(max(5, a-2),10)]\n",
    "\n",
    "r_vals = [a[0] for a in dem_coords] + [a[0] for a in rep_coords]\n",
    "theta_vals = [a[1] for a in dem_coords] + [a[1] for a in rep_coords]\n",
    "\n",
    "\n",
    "\n",
    "fig.add_trace(go.Scatterpolar(\n",
    "        r = [a[0] for a in dem_coords],\n",
    "        theta = [a[1] for a in dem_coords],\n",
    "        text=list(Dns['Senator']),\n",
    "        mode = 'markers',\n",
    "        marker = dict(\n",
    "            color='blue',\n",
    "            size=list(Dns['Population']),\n",
    "            sizemode='area',\n",
    "            sizeref=2.*40000000/(50.**2),\n",
    "            sizemin=4)\n",
    "\n",
    "    ), 1, 1)\n",
    "\n",
    "fig.add_trace(go.Scatterpolar(\n",
    "        r = [a[0] for a in rep_coords],\n",
    "        theta = [a[1] for a in rep_coords],\n",
    "        text = list(Rns['Senator']),\n",
    "        mode = 'markers',\n",
    "        marker = dict(\n",
    "            color='red',\n",
    "            size=list(Rns['Population']),\n",
    "            sizemode='area',\n",
    "            sizeref=2.*40000000/(50.**2),\n",
    "            sizemin=4)\n",
    "    ), 1, 2)\n",
    "\n",
    "\n",
    "\n",
    "fig.update_layout(\n",
    "    title = \"US Senate\",\n",
    "    font_size = 15,\n",
    "    showlegend = False,\n",
    "    polar = dict(\n",
    "        sector = [90,180],\n",
    "        bgcolor = \"white\",\n",
    "        angularaxis = dict(showline=False,showticklabels=False, ticks=''),\n",
    "        radialaxis = dict(showline=False, showticklabels=False, ticks='')\n",
    "    ),\n",
    "    polar2 = dict(\n",
    "        sector = [0, 90],\n",
    "        bgcolor = \"white\",\n",
    "        angularaxis = dict(showline=False,showticklabels=False, ticks=''),\n",
    "        radialaxis = dict(showline = False,showticklabels=False, ticks='')\n",
    "    ),\n",
    "    paper_bgcolor = \"white\"\n",
    ")\n",
    "\n",
    "\n",
    "\n",
    "fig.show()"
   ]
  },
  {
   "cell_type": "code",
   "execution_count": null,
   "metadata": {},
   "outputs": [],
   "source": []
  },
  {
   "cell_type": "code",
   "execution_count": null,
   "metadata": {},
   "outputs": [],
   "source": []
  },
  {
   "cell_type": "code",
   "execution_count": null,
   "metadata": {},
   "outputs": [],
   "source": []
  },
  {
   "cell_type": "code",
   "execution_count": null,
   "metadata": {},
   "outputs": [],
   "source": []
  },
  {
   "cell_type": "code",
   "execution_count": null,
   "metadata": {},
   "outputs": [],
   "source": []
  },
  {
   "cell_type": "code",
   "execution_count": null,
   "metadata": {},
   "outputs": [],
   "source": []
  }
 ],
 "metadata": {
  "kernelspec": {
   "display_name": "Python 3",
   "language": "python",
   "name": "python3"
  },
  "language_info": {
   "codemirror_mode": {
    "name": "ipython",
    "version": 3
   },
   "file_extension": ".py",
   "mimetype": "text/x-python",
   "name": "python",
   "nbconvert_exporter": "python",
   "pygments_lexer": "ipython3",
   "version": "3.8.3"
  }
 },
 "nbformat": 4,
 "nbformat_minor": 4
}
