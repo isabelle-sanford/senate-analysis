{
 "cells": [
  {
   "cell_type": "code",
   "execution_count": 5,
   "metadata": {},
   "outputs": [],
   "source": [
    "# import modules + data\n",
    "from plotly.subplots import make_subplots\n",
    "import pandas as pd\n",
    "import plotly.graph_objects as go"
   ]
  },
  {
   "cell_type": "code",
   "execution_count": 6,
   "metadata": {},
   "outputs": [],
   "source": [
    "# graphing functions to make below less difficult\n",
    "def bubble(x, y, color, size, labels):\n",
    "    data = [go.Scatter (\n",
    "        x = x,\n",
    "        y = y,\n",
    "        text=labels,\n",
    "        mode = 'markers',\n",
    "        marker = dict(\n",
    "            color=color,\n",
    "            size=size,\n",
    "            sizemode='area',\n",
    "            sizeref=2.*max(size)/(45.**2),\n",
    "            sizemin=4))]\n",
    "    fig = go.Figure(data)\n",
    "    fig.show()\n",
    "\n",
    "def bar(x, y, colors):\n",
    "    trace1 = go.Bar(\n",
    "        x=x,\n",
    "        y=y,\n",
    "        marker_color=colors)\n",
    "    fig = go.Figure([trace1])\n",
    "    fig.show()\n",
    "    \n",
    "def barStack(labels, y1, y2):\n",
    "    trace1 = go.Bar(\n",
    "        x=labels,\n",
    "        y=y1)\n",
    "    trace2 = go.Bar(\n",
    "        x=labels,\n",
    "        y=y2)\n",
    "    fig = go.Figure([trace1, trace2])\n",
    "    fig.update_layout(barmode='stack')\n",
    "    fig.show()    \n"
   ]
  },
  {
   "cell_type": "code",
   "execution_count": 7,
   "metadata": {},
   "outputs": [
    {
     "data": {
      "text/plain": [
       "array(['Republican', 'Democratic', 'Independent'], dtype=object)"
      ]
     },
     "execution_count": 7,
     "metadata": {},
     "output_type": "execute_result"
    }
   ],
   "source": [
    "data = pd.read_csv('SPopulation.csv')\n",
    "\n",
    "@TODO: merge state abbrevs\n",
    "\n",
    "# check how many parties there are and what they are. and if any new footnotes are up\n",
    "data['Party'].unique()"
   ]
  },
  {
   "cell_type": "code",
   "execution_count": 8,
   "metadata": {},
   "outputs": [],
   "source": [
    "# set up what party gets what colors and transform party column in data into a corresponding list of colors\n",
    "colordict = {'Republican': 'red', 'Democratic':'blue', 'Independent':'gray', 'Vacant':'purple'}\n",
    "colors = [colordict[k] for k in list(data['Party'])]\n",
    "data['color'] = colors"
   ]
  },
  {
   "cell_type": "code",
   "execution_count": 9,
   "metadata": {},
   "outputs": [
    {
     "data": {
      "text/html": [
       "<div>\n",
       "<style scoped>\n",
       "    .dataframe tbody tr th:only-of-type {\n",
       "        vertical-align: middle;\n",
       "    }\n",
       "\n",
       "    .dataframe tbody tr th {\n",
       "        vertical-align: top;\n",
       "    }\n",
       "\n",
       "    .dataframe thead th {\n",
       "        text-align: right;\n",
       "    }\n",
       "</style>\n",
       "<table border=\"1\" class=\"dataframe\">\n",
       "  <thead>\n",
       "    <tr style=\"text-align: right;\">\n",
       "      <th></th>\n",
       "      <th>State</th>\n",
       "      <th>Senator</th>\n",
       "      <th>Party</th>\n",
       "      <th>Born</th>\n",
       "      <th>Assumed office</th>\n",
       "      <th>Term up</th>\n",
       "      <th>Population</th>\n",
       "      <th>color</th>\n",
       "    </tr>\n",
       "  </thead>\n",
       "  <tbody>\n",
       "    <tr>\n",
       "      <th>0</th>\n",
       "      <td>Wyoming</td>\n",
       "      <td>Cynthia Lummis</td>\n",
       "      <td>Republican</td>\n",
       "      <td>(age 66)</td>\n",
       "      <td>January 3, 2021</td>\n",
       "      <td>2026</td>\n",
       "      <td>578759</td>\n",
       "      <td>red</td>\n",
       "    </tr>\n",
       "    <tr>\n",
       "      <th>1</th>\n",
       "      <td>Wyoming</td>\n",
       "      <td>John Barrasso</td>\n",
       "      <td>Republican</td>\n",
       "      <td>(age 68)</td>\n",
       "      <td>June 25, 2007[y]</td>\n",
       "      <td>2024</td>\n",
       "      <td>578759</td>\n",
       "      <td>red</td>\n",
       "    </tr>\n",
       "    <tr>\n",
       "      <th>2</th>\n",
       "      <td>Vermont</td>\n",
       "      <td>Bernie Sanders</td>\n",
       "      <td>Independent</td>\n",
       "      <td>(age 79)</td>\n",
       "      <td>January 3, 2007</td>\n",
       "      <td>2024</td>\n",
       "      <td>623989</td>\n",
       "      <td>gray</td>\n",
       "    </tr>\n",
       "    <tr>\n",
       "      <th>3</th>\n",
       "      <td>Vermont</td>\n",
       "      <td>Patrick Leahy</td>\n",
       "      <td>Democratic</td>\n",
       "      <td>(age 80)</td>\n",
       "      <td>January 3, 1975</td>\n",
       "      <td>2022</td>\n",
       "      <td>623989</td>\n",
       "      <td>blue</td>\n",
       "    </tr>\n",
       "    <tr>\n",
       "      <th>4</th>\n",
       "      <td>Alaska</td>\n",
       "      <td>Lisa Murkowski</td>\n",
       "      <td>Republican</td>\n",
       "      <td>(age 63)</td>\n",
       "      <td>December 20, 2002[d]</td>\n",
       "      <td>2022</td>\n",
       "      <td>731545</td>\n",
       "      <td>red</td>\n",
       "    </tr>\n",
       "  </tbody>\n",
       "</table>\n",
       "</div>"
      ],
      "text/plain": [
       "     State         Senator        Party      Born        Assumed office  \\\n",
       "0  Wyoming  Cynthia Lummis   Republican  (age 66)       January 3, 2021   \n",
       "1  Wyoming   John Barrasso   Republican  (age 68)      June 25, 2007[y]   \n",
       "2  Vermont  Bernie Sanders  Independent  (age 79)       January 3, 2007   \n",
       "3  Vermont   Patrick Leahy   Democratic  (age 80)       January 3, 1975   \n",
       "4   Alaska  Lisa Murkowski   Republican  (age 63)  December 20, 2002[d]   \n",
       "\n",
       "   Term up  Population color  \n",
       "0     2026      578759   red  \n",
       "1     2024      578759   red  \n",
       "2     2024      623989  gray  \n",
       "3     2022      623989  blue  \n",
       "4     2022      731545   red  "
      ]
     },
     "execution_count": 9,
     "metadata": {},
     "output_type": "execute_result"
    }
   ],
   "source": [
    "sorts = data.sort_values(by='Population').reset_index(drop=True)\n",
    "sorts.head()"
   ]
  },
  {
   "cell_type": "code",
   "execution_count": 13,
   "metadata": {},
   "outputs": [
    {
     "data": {
      "application/vnd.plotly.v1+json": {
       "config": {
        "plotlyServerURL": "https://plot.ly"
       },
       "data": [
        {
         "marker": {
          "color": [
           "red",
           "blue"
          ]
         },
         "type": "bar",
         "x": [
          "Republican",
          "Democrat"
         ],
         "y": [
          142991983,
          184541791
         ]
        }
       ],
       "layout": {
        "template": {
         "data": {
          "bar": [
           {
            "error_x": {
             "color": "#2a3f5f"
            },
            "error_y": {
             "color": "#2a3f5f"
            },
            "marker": {
             "line": {
              "color": "#E5ECF6",
              "width": 0.5
             }
            },
            "type": "bar"
           }
          ],
          "barpolar": [
           {
            "marker": {
             "line": {
              "color": "#E5ECF6",
              "width": 0.5
             }
            },
            "type": "barpolar"
           }
          ],
          "carpet": [
           {
            "aaxis": {
             "endlinecolor": "#2a3f5f",
             "gridcolor": "white",
             "linecolor": "white",
             "minorgridcolor": "white",
             "startlinecolor": "#2a3f5f"
            },
            "baxis": {
             "endlinecolor": "#2a3f5f",
             "gridcolor": "white",
             "linecolor": "white",
             "minorgridcolor": "white",
             "startlinecolor": "#2a3f5f"
            },
            "type": "carpet"
           }
          ],
          "choropleth": [
           {
            "colorbar": {
             "outlinewidth": 0,
             "ticks": ""
            },
            "type": "choropleth"
           }
          ],
          "contour": [
           {
            "colorbar": {
             "outlinewidth": 0,
             "ticks": ""
            },
            "colorscale": [
             [
              0,
              "#0d0887"
             ],
             [
              0.1111111111111111,
              "#46039f"
             ],
             [
              0.2222222222222222,
              "#7201a8"
             ],
             [
              0.3333333333333333,
              "#9c179e"
             ],
             [
              0.4444444444444444,
              "#bd3786"
             ],
             [
              0.5555555555555556,
              "#d8576b"
             ],
             [
              0.6666666666666666,
              "#ed7953"
             ],
             [
              0.7777777777777778,
              "#fb9f3a"
             ],
             [
              0.8888888888888888,
              "#fdca26"
             ],
             [
              1,
              "#f0f921"
             ]
            ],
            "type": "contour"
           }
          ],
          "contourcarpet": [
           {
            "colorbar": {
             "outlinewidth": 0,
             "ticks": ""
            },
            "type": "contourcarpet"
           }
          ],
          "heatmap": [
           {
            "colorbar": {
             "outlinewidth": 0,
             "ticks": ""
            },
            "colorscale": [
             [
              0,
              "#0d0887"
             ],
             [
              0.1111111111111111,
              "#46039f"
             ],
             [
              0.2222222222222222,
              "#7201a8"
             ],
             [
              0.3333333333333333,
              "#9c179e"
             ],
             [
              0.4444444444444444,
              "#bd3786"
             ],
             [
              0.5555555555555556,
              "#d8576b"
             ],
             [
              0.6666666666666666,
              "#ed7953"
             ],
             [
              0.7777777777777778,
              "#fb9f3a"
             ],
             [
              0.8888888888888888,
              "#fdca26"
             ],
             [
              1,
              "#f0f921"
             ]
            ],
            "type": "heatmap"
           }
          ],
          "heatmapgl": [
           {
            "colorbar": {
             "outlinewidth": 0,
             "ticks": ""
            },
            "colorscale": [
             [
              0,
              "#0d0887"
             ],
             [
              0.1111111111111111,
              "#46039f"
             ],
             [
              0.2222222222222222,
              "#7201a8"
             ],
             [
              0.3333333333333333,
              "#9c179e"
             ],
             [
              0.4444444444444444,
              "#bd3786"
             ],
             [
              0.5555555555555556,
              "#d8576b"
             ],
             [
              0.6666666666666666,
              "#ed7953"
             ],
             [
              0.7777777777777778,
              "#fb9f3a"
             ],
             [
              0.8888888888888888,
              "#fdca26"
             ],
             [
              1,
              "#f0f921"
             ]
            ],
            "type": "heatmapgl"
           }
          ],
          "histogram": [
           {
            "marker": {
             "colorbar": {
              "outlinewidth": 0,
              "ticks": ""
             }
            },
            "type": "histogram"
           }
          ],
          "histogram2d": [
           {
            "colorbar": {
             "outlinewidth": 0,
             "ticks": ""
            },
            "colorscale": [
             [
              0,
              "#0d0887"
             ],
             [
              0.1111111111111111,
              "#46039f"
             ],
             [
              0.2222222222222222,
              "#7201a8"
             ],
             [
              0.3333333333333333,
              "#9c179e"
             ],
             [
              0.4444444444444444,
              "#bd3786"
             ],
             [
              0.5555555555555556,
              "#d8576b"
             ],
             [
              0.6666666666666666,
              "#ed7953"
             ],
             [
              0.7777777777777778,
              "#fb9f3a"
             ],
             [
              0.8888888888888888,
              "#fdca26"
             ],
             [
              1,
              "#f0f921"
             ]
            ],
            "type": "histogram2d"
           }
          ],
          "histogram2dcontour": [
           {
            "colorbar": {
             "outlinewidth": 0,
             "ticks": ""
            },
            "colorscale": [
             [
              0,
              "#0d0887"
             ],
             [
              0.1111111111111111,
              "#46039f"
             ],
             [
              0.2222222222222222,
              "#7201a8"
             ],
             [
              0.3333333333333333,
              "#9c179e"
             ],
             [
              0.4444444444444444,
              "#bd3786"
             ],
             [
              0.5555555555555556,
              "#d8576b"
             ],
             [
              0.6666666666666666,
              "#ed7953"
             ],
             [
              0.7777777777777778,
              "#fb9f3a"
             ],
             [
              0.8888888888888888,
              "#fdca26"
             ],
             [
              1,
              "#f0f921"
             ]
            ],
            "type": "histogram2dcontour"
           }
          ],
          "mesh3d": [
           {
            "colorbar": {
             "outlinewidth": 0,
             "ticks": ""
            },
            "type": "mesh3d"
           }
          ],
          "parcoords": [
           {
            "line": {
             "colorbar": {
              "outlinewidth": 0,
              "ticks": ""
             }
            },
            "type": "parcoords"
           }
          ],
          "pie": [
           {
            "automargin": true,
            "type": "pie"
           }
          ],
          "scatter": [
           {
            "marker": {
             "colorbar": {
              "outlinewidth": 0,
              "ticks": ""
             }
            },
            "type": "scatter"
           }
          ],
          "scatter3d": [
           {
            "line": {
             "colorbar": {
              "outlinewidth": 0,
              "ticks": ""
             }
            },
            "marker": {
             "colorbar": {
              "outlinewidth": 0,
              "ticks": ""
             }
            },
            "type": "scatter3d"
           }
          ],
          "scattercarpet": [
           {
            "marker": {
             "colorbar": {
              "outlinewidth": 0,
              "ticks": ""
             }
            },
            "type": "scattercarpet"
           }
          ],
          "scattergeo": [
           {
            "marker": {
             "colorbar": {
              "outlinewidth": 0,
              "ticks": ""
             }
            },
            "type": "scattergeo"
           }
          ],
          "scattergl": [
           {
            "marker": {
             "colorbar": {
              "outlinewidth": 0,
              "ticks": ""
             }
            },
            "type": "scattergl"
           }
          ],
          "scattermapbox": [
           {
            "marker": {
             "colorbar": {
              "outlinewidth": 0,
              "ticks": ""
             }
            },
            "type": "scattermapbox"
           }
          ],
          "scatterpolar": [
           {
            "marker": {
             "colorbar": {
              "outlinewidth": 0,
              "ticks": ""
             }
            },
            "type": "scatterpolar"
           }
          ],
          "scatterpolargl": [
           {
            "marker": {
             "colorbar": {
              "outlinewidth": 0,
              "ticks": ""
             }
            },
            "type": "scatterpolargl"
           }
          ],
          "scatterternary": [
           {
            "marker": {
             "colorbar": {
              "outlinewidth": 0,
              "ticks": ""
             }
            },
            "type": "scatterternary"
           }
          ],
          "surface": [
           {
            "colorbar": {
             "outlinewidth": 0,
             "ticks": ""
            },
            "colorscale": [
             [
              0,
              "#0d0887"
             ],
             [
              0.1111111111111111,
              "#46039f"
             ],
             [
              0.2222222222222222,
              "#7201a8"
             ],
             [
              0.3333333333333333,
              "#9c179e"
             ],
             [
              0.4444444444444444,
              "#bd3786"
             ],
             [
              0.5555555555555556,
              "#d8576b"
             ],
             [
              0.6666666666666666,
              "#ed7953"
             ],
             [
              0.7777777777777778,
              "#fb9f3a"
             ],
             [
              0.8888888888888888,
              "#fdca26"
             ],
             [
              1,
              "#f0f921"
             ]
            ],
            "type": "surface"
           }
          ],
          "table": [
           {
            "cells": {
             "fill": {
              "color": "#EBF0F8"
             },
             "line": {
              "color": "white"
             }
            },
            "header": {
             "fill": {
              "color": "#C8D4E3"
             },
             "line": {
              "color": "white"
             }
            },
            "type": "table"
           }
          ]
         },
         "layout": {
          "annotationdefaults": {
           "arrowcolor": "#2a3f5f",
           "arrowhead": 0,
           "arrowwidth": 1
          },
          "autotypenumbers": "strict",
          "coloraxis": {
           "colorbar": {
            "outlinewidth": 0,
            "ticks": ""
           }
          },
          "colorscale": {
           "diverging": [
            [
             0,
             "#8e0152"
            ],
            [
             0.1,
             "#c51b7d"
            ],
            [
             0.2,
             "#de77ae"
            ],
            [
             0.3,
             "#f1b6da"
            ],
            [
             0.4,
             "#fde0ef"
            ],
            [
             0.5,
             "#f7f7f7"
            ],
            [
             0.6,
             "#e6f5d0"
            ],
            [
             0.7,
             "#b8e186"
            ],
            [
             0.8,
             "#7fbc41"
            ],
            [
             0.9,
             "#4d9221"
            ],
            [
             1,
             "#276419"
            ]
           ],
           "sequential": [
            [
             0,
             "#0d0887"
            ],
            [
             0.1111111111111111,
             "#46039f"
            ],
            [
             0.2222222222222222,
             "#7201a8"
            ],
            [
             0.3333333333333333,
             "#9c179e"
            ],
            [
             0.4444444444444444,
             "#bd3786"
            ],
            [
             0.5555555555555556,
             "#d8576b"
            ],
            [
             0.6666666666666666,
             "#ed7953"
            ],
            [
             0.7777777777777778,
             "#fb9f3a"
            ],
            [
             0.8888888888888888,
             "#fdca26"
            ],
            [
             1,
             "#f0f921"
            ]
           ],
           "sequentialminus": [
            [
             0,
             "#0d0887"
            ],
            [
             0.1111111111111111,
             "#46039f"
            ],
            [
             0.2222222222222222,
             "#7201a8"
            ],
            [
             0.3333333333333333,
             "#9c179e"
            ],
            [
             0.4444444444444444,
             "#bd3786"
            ],
            [
             0.5555555555555556,
             "#d8576b"
            ],
            [
             0.6666666666666666,
             "#ed7953"
            ],
            [
             0.7777777777777778,
             "#fb9f3a"
            ],
            [
             0.8888888888888888,
             "#fdca26"
            ],
            [
             1,
             "#f0f921"
            ]
           ]
          },
          "colorway": [
           "#636efa",
           "#EF553B",
           "#00cc96",
           "#ab63fa",
           "#FFA15A",
           "#19d3f3",
           "#FF6692",
           "#B6E880",
           "#FF97FF",
           "#FECB52"
          ],
          "font": {
           "color": "#2a3f5f"
          },
          "geo": {
           "bgcolor": "white",
           "lakecolor": "white",
           "landcolor": "#E5ECF6",
           "showlakes": true,
           "showland": true,
           "subunitcolor": "white"
          },
          "hoverlabel": {
           "align": "left"
          },
          "hovermode": "closest",
          "mapbox": {
           "style": "light"
          },
          "paper_bgcolor": "white",
          "plot_bgcolor": "#E5ECF6",
          "polar": {
           "angularaxis": {
            "gridcolor": "white",
            "linecolor": "white",
            "ticks": ""
           },
           "bgcolor": "#E5ECF6",
           "radialaxis": {
            "gridcolor": "white",
            "linecolor": "white",
            "ticks": ""
           }
          },
          "scene": {
           "xaxis": {
            "backgroundcolor": "#E5ECF6",
            "gridcolor": "white",
            "gridwidth": 2,
            "linecolor": "white",
            "showbackground": true,
            "ticks": "",
            "zerolinecolor": "white"
           },
           "yaxis": {
            "backgroundcolor": "#E5ECF6",
            "gridcolor": "white",
            "gridwidth": 2,
            "linecolor": "white",
            "showbackground": true,
            "ticks": "",
            "zerolinecolor": "white"
           },
           "zaxis": {
            "backgroundcolor": "#E5ECF6",
            "gridcolor": "white",
            "gridwidth": 2,
            "linecolor": "white",
            "showbackground": true,
            "ticks": "",
            "zerolinecolor": "white"
           }
          },
          "shapedefaults": {
           "line": {
            "color": "#2a3f5f"
           }
          },
          "ternary": {
           "aaxis": {
            "gridcolor": "white",
            "linecolor": "white",
            "ticks": ""
           },
           "baxis": {
            "gridcolor": "white",
            "linecolor": "white",
            "ticks": ""
           },
           "bgcolor": "#E5ECF6",
           "caxis": {
            "gridcolor": "white",
            "linecolor": "white",
            "ticks": ""
           }
          },
          "title": {
           "x": 0.05
          },
          "xaxis": {
           "automargin": true,
           "gridcolor": "white",
           "linecolor": "white",
           "ticks": "",
           "title": {
            "standoff": 15
           },
           "zerolinecolor": "white",
           "zerolinewidth": 2
          },
          "yaxis": {
           "automargin": true,
           "gridcolor": "white",
           "linecolor": "white",
           "ticks": "",
           "title": {
            "standoff": 15
           },
           "zerolinecolor": "white",
           "zerolinewidth": 2
          }
         }
        }
       }
      },
      "text/html": [
       "<div>                            <div id=\"3c49f2d2-36af-4cce-b0d8-7b9c4f01d8d7\" class=\"plotly-graph-div\" style=\"height:525px; width:100%;\"></div>            <script type=\"text/javascript\">                require([\"plotly\"], function(Plotly) {                    window.PLOTLYENV=window.PLOTLYENV || {};                                    if (document.getElementById(\"3c49f2d2-36af-4cce-b0d8-7b9c4f01d8d7\")) {                    Plotly.newPlot(                        \"3c49f2d2-36af-4cce-b0d8-7b9c4f01d8d7\",                        [{\"marker\": {\"color\": [\"red\", \"blue\"]}, \"type\": \"bar\", \"x\": [\"Republican\", \"Democrat\"], \"y\": [142991983.0, 184541791.0]}],                        {\"template\": {\"data\": {\"bar\": [{\"error_x\": {\"color\": \"#2a3f5f\"}, \"error_y\": {\"color\": \"#2a3f5f\"}, \"marker\": {\"line\": {\"color\": \"#E5ECF6\", \"width\": 0.5}}, \"type\": \"bar\"}], \"barpolar\": [{\"marker\": {\"line\": {\"color\": \"#E5ECF6\", \"width\": 0.5}}, \"type\": \"barpolar\"}], \"carpet\": [{\"aaxis\": {\"endlinecolor\": \"#2a3f5f\", \"gridcolor\": \"white\", \"linecolor\": \"white\", \"minorgridcolor\": \"white\", \"startlinecolor\": \"#2a3f5f\"}, \"baxis\": {\"endlinecolor\": \"#2a3f5f\", \"gridcolor\": \"white\", \"linecolor\": \"white\", \"minorgridcolor\": \"white\", \"startlinecolor\": \"#2a3f5f\"}, \"type\": \"carpet\"}], \"choropleth\": [{\"colorbar\": {\"outlinewidth\": 0, \"ticks\": \"\"}, \"type\": \"choropleth\"}], \"contour\": [{\"colorbar\": {\"outlinewidth\": 0, \"ticks\": \"\"}, \"colorscale\": [[0.0, \"#0d0887\"], [0.1111111111111111, \"#46039f\"], [0.2222222222222222, \"#7201a8\"], [0.3333333333333333, \"#9c179e\"], [0.4444444444444444, \"#bd3786\"], [0.5555555555555556, \"#d8576b\"], [0.6666666666666666, \"#ed7953\"], [0.7777777777777778, \"#fb9f3a\"], [0.8888888888888888, \"#fdca26\"], [1.0, \"#f0f921\"]], \"type\": \"contour\"}], \"contourcarpet\": [{\"colorbar\": {\"outlinewidth\": 0, \"ticks\": \"\"}, \"type\": \"contourcarpet\"}], \"heatmap\": [{\"colorbar\": {\"outlinewidth\": 0, \"ticks\": \"\"}, \"colorscale\": [[0.0, \"#0d0887\"], [0.1111111111111111, \"#46039f\"], [0.2222222222222222, \"#7201a8\"], [0.3333333333333333, \"#9c179e\"], [0.4444444444444444, \"#bd3786\"], [0.5555555555555556, \"#d8576b\"], [0.6666666666666666, \"#ed7953\"], [0.7777777777777778, \"#fb9f3a\"], [0.8888888888888888, \"#fdca26\"], [1.0, \"#f0f921\"]], \"type\": \"heatmap\"}], \"heatmapgl\": [{\"colorbar\": {\"outlinewidth\": 0, \"ticks\": \"\"}, \"colorscale\": [[0.0, \"#0d0887\"], [0.1111111111111111, \"#46039f\"], [0.2222222222222222, \"#7201a8\"], [0.3333333333333333, \"#9c179e\"], [0.4444444444444444, \"#bd3786\"], [0.5555555555555556, \"#d8576b\"], [0.6666666666666666, \"#ed7953\"], [0.7777777777777778, \"#fb9f3a\"], [0.8888888888888888, \"#fdca26\"], [1.0, \"#f0f921\"]], \"type\": \"heatmapgl\"}], \"histogram\": [{\"marker\": {\"colorbar\": {\"outlinewidth\": 0, \"ticks\": \"\"}}, \"type\": \"histogram\"}], \"histogram2d\": [{\"colorbar\": {\"outlinewidth\": 0, \"ticks\": \"\"}, \"colorscale\": [[0.0, \"#0d0887\"], [0.1111111111111111, \"#46039f\"], [0.2222222222222222, \"#7201a8\"], [0.3333333333333333, \"#9c179e\"], [0.4444444444444444, \"#bd3786\"], [0.5555555555555556, \"#d8576b\"], [0.6666666666666666, \"#ed7953\"], [0.7777777777777778, \"#fb9f3a\"], [0.8888888888888888, \"#fdca26\"], [1.0, \"#f0f921\"]], \"type\": \"histogram2d\"}], \"histogram2dcontour\": [{\"colorbar\": {\"outlinewidth\": 0, \"ticks\": \"\"}, \"colorscale\": [[0.0, \"#0d0887\"], [0.1111111111111111, \"#46039f\"], [0.2222222222222222, \"#7201a8\"], [0.3333333333333333, \"#9c179e\"], [0.4444444444444444, \"#bd3786\"], [0.5555555555555556, \"#d8576b\"], [0.6666666666666666, \"#ed7953\"], [0.7777777777777778, \"#fb9f3a\"], [0.8888888888888888, \"#fdca26\"], [1.0, \"#f0f921\"]], \"type\": \"histogram2dcontour\"}], \"mesh3d\": [{\"colorbar\": {\"outlinewidth\": 0, \"ticks\": \"\"}, \"type\": \"mesh3d\"}], \"parcoords\": [{\"line\": {\"colorbar\": {\"outlinewidth\": 0, \"ticks\": \"\"}}, \"type\": \"parcoords\"}], \"pie\": [{\"automargin\": true, \"type\": \"pie\"}], \"scatter\": [{\"marker\": {\"colorbar\": {\"outlinewidth\": 0, \"ticks\": \"\"}}, \"type\": \"scatter\"}], \"scatter3d\": [{\"line\": {\"colorbar\": {\"outlinewidth\": 0, \"ticks\": \"\"}}, \"marker\": {\"colorbar\": {\"outlinewidth\": 0, \"ticks\": \"\"}}, \"type\": \"scatter3d\"}], \"scattercarpet\": [{\"marker\": {\"colorbar\": {\"outlinewidth\": 0, \"ticks\": \"\"}}, \"type\": \"scattercarpet\"}], \"scattergeo\": [{\"marker\": {\"colorbar\": {\"outlinewidth\": 0, \"ticks\": \"\"}}, \"type\": \"scattergeo\"}], \"scattergl\": [{\"marker\": {\"colorbar\": {\"outlinewidth\": 0, \"ticks\": \"\"}}, \"type\": \"scattergl\"}], \"scattermapbox\": [{\"marker\": {\"colorbar\": {\"outlinewidth\": 0, \"ticks\": \"\"}}, \"type\": \"scattermapbox\"}], \"scatterpolar\": [{\"marker\": {\"colorbar\": {\"outlinewidth\": 0, \"ticks\": \"\"}}, \"type\": \"scatterpolar\"}], \"scatterpolargl\": [{\"marker\": {\"colorbar\": {\"outlinewidth\": 0, \"ticks\": \"\"}}, \"type\": \"scatterpolargl\"}], \"scatterternary\": [{\"marker\": {\"colorbar\": {\"outlinewidth\": 0, \"ticks\": \"\"}}, \"type\": \"scatterternary\"}], \"surface\": [{\"colorbar\": {\"outlinewidth\": 0, \"ticks\": \"\"}, \"colorscale\": [[0.0, \"#0d0887\"], [0.1111111111111111, \"#46039f\"], [0.2222222222222222, \"#7201a8\"], [0.3333333333333333, \"#9c179e\"], [0.4444444444444444, \"#bd3786\"], [0.5555555555555556, \"#d8576b\"], [0.6666666666666666, \"#ed7953\"], [0.7777777777777778, \"#fb9f3a\"], [0.8888888888888888, \"#fdca26\"], [1.0, \"#f0f921\"]], \"type\": \"surface\"}], \"table\": [{\"cells\": {\"fill\": {\"color\": \"#EBF0F8\"}, \"line\": {\"color\": \"white\"}}, \"header\": {\"fill\": {\"color\": \"#C8D4E3\"}, \"line\": {\"color\": \"white\"}}, \"type\": \"table\"}]}, \"layout\": {\"annotationdefaults\": {\"arrowcolor\": \"#2a3f5f\", \"arrowhead\": 0, \"arrowwidth\": 1}, \"autotypenumbers\": \"strict\", \"coloraxis\": {\"colorbar\": {\"outlinewidth\": 0, \"ticks\": \"\"}}, \"colorscale\": {\"diverging\": [[0, \"#8e0152\"], [0.1, \"#c51b7d\"], [0.2, \"#de77ae\"], [0.3, \"#f1b6da\"], [0.4, \"#fde0ef\"], [0.5, \"#f7f7f7\"], [0.6, \"#e6f5d0\"], [0.7, \"#b8e186\"], [0.8, \"#7fbc41\"], [0.9, \"#4d9221\"], [1, \"#276419\"]], \"sequential\": [[0.0, \"#0d0887\"], [0.1111111111111111, \"#46039f\"], [0.2222222222222222, \"#7201a8\"], [0.3333333333333333, \"#9c179e\"], [0.4444444444444444, \"#bd3786\"], [0.5555555555555556, \"#d8576b\"], [0.6666666666666666, \"#ed7953\"], [0.7777777777777778, \"#fb9f3a\"], [0.8888888888888888, \"#fdca26\"], [1.0, \"#f0f921\"]], \"sequentialminus\": [[0.0, \"#0d0887\"], [0.1111111111111111, \"#46039f\"], [0.2222222222222222, \"#7201a8\"], [0.3333333333333333, \"#9c179e\"], [0.4444444444444444, \"#bd3786\"], [0.5555555555555556, \"#d8576b\"], [0.6666666666666666, \"#ed7953\"], [0.7777777777777778, \"#fb9f3a\"], [0.8888888888888888, \"#fdca26\"], [1.0, \"#f0f921\"]]}, \"colorway\": [\"#636efa\", \"#EF553B\", \"#00cc96\", \"#ab63fa\", \"#FFA15A\", \"#19d3f3\", \"#FF6692\", \"#B6E880\", \"#FF97FF\", \"#FECB52\"], \"font\": {\"color\": \"#2a3f5f\"}, \"geo\": {\"bgcolor\": \"white\", \"lakecolor\": \"white\", \"landcolor\": \"#E5ECF6\", \"showlakes\": true, \"showland\": true, \"subunitcolor\": \"white\"}, \"hoverlabel\": {\"align\": \"left\"}, \"hovermode\": \"closest\", \"mapbox\": {\"style\": \"light\"}, \"paper_bgcolor\": \"white\", \"plot_bgcolor\": \"#E5ECF6\", \"polar\": {\"angularaxis\": {\"gridcolor\": \"white\", \"linecolor\": \"white\", \"ticks\": \"\"}, \"bgcolor\": \"#E5ECF6\", \"radialaxis\": {\"gridcolor\": \"white\", \"linecolor\": \"white\", \"ticks\": \"\"}}, \"scene\": {\"xaxis\": {\"backgroundcolor\": \"#E5ECF6\", \"gridcolor\": \"white\", \"gridwidth\": 2, \"linecolor\": \"white\", \"showbackground\": true, \"ticks\": \"\", \"zerolinecolor\": \"white\"}, \"yaxis\": {\"backgroundcolor\": \"#E5ECF6\", \"gridcolor\": \"white\", \"gridwidth\": 2, \"linecolor\": \"white\", \"showbackground\": true, \"ticks\": \"\", \"zerolinecolor\": \"white\"}, \"zaxis\": {\"backgroundcolor\": \"#E5ECF6\", \"gridcolor\": \"white\", \"gridwidth\": 2, \"linecolor\": \"white\", \"showbackground\": true, \"ticks\": \"\", \"zerolinecolor\": \"white\"}}, \"shapedefaults\": {\"line\": {\"color\": \"#2a3f5f\"}}, \"ternary\": {\"aaxis\": {\"gridcolor\": \"white\", \"linecolor\": \"white\", \"ticks\": \"\"}, \"baxis\": {\"gridcolor\": \"white\", \"linecolor\": \"white\", \"ticks\": \"\"}, \"bgcolor\": \"#E5ECF6\", \"caxis\": {\"gridcolor\": \"white\", \"linecolor\": \"white\", \"ticks\": \"\"}}, \"title\": {\"x\": 0.05}, \"xaxis\": {\"automargin\": true, \"gridcolor\": \"white\", \"linecolor\": \"white\", \"ticks\": \"\", \"title\": {\"standoff\": 15}, \"zerolinecolor\": \"white\", \"zerolinewidth\": 2}, \"yaxis\": {\"automargin\": true, \"gridcolor\": \"white\", \"linecolor\": \"white\", \"ticks\": \"\", \"title\": {\"standoff\": 15}, \"zerolinecolor\": \"white\", \"zerolinewidth\": 2}}}},                        {\"responsive\": true}                    ).then(function(){\n",
       "                            \n",
       "var gd = document.getElementById('3c49f2d2-36af-4cce-b0d8-7b9c4f01d8d7');\n",
       "var x = new MutationObserver(function (mutations, observer) {{\n",
       "        var display = window.getComputedStyle(gd).display;\n",
       "        if (!display || display === 'none') {{\n",
       "            console.log([gd, 'removed!']);\n",
       "            Plotly.purge(gd);\n",
       "            observer.disconnect();\n",
       "        }}\n",
       "}});\n",
       "\n",
       "// Listen for the removal of the full notebook cells\n",
       "var notebookContainer = gd.closest('#notebook-container');\n",
       "if (notebookContainer) {{\n",
       "    x.observe(notebookContainer, {childList: true});\n",
       "}}\n",
       "\n",
       "// Listen for the clearing of the current output cell\n",
       "var outputEl = gd.closest('.output');\n",
       "if (outputEl) {{\n",
       "    x.observe(outputEl, {childList: true});\n",
       "}}\n",
       "\n",
       "                        })                };                });            </script>        </div>"
      ]
     },
     "metadata": {},
     "output_type": "display_data"
    }
   ],
   "source": [
    "# very simple graph showing how many people democrats vs republicans represent\n",
    "mylabels = ['Republican', 'Democrat']\n",
    "\n",
    "all_Rs = sorts[sorts['Party'] == 'Republican']['Population'].sum() / 2\n",
    "all_Ds = sorts[sorts['Party'] != 'Republican']['Population'].sum() / 2 # dividing by 2 because 2 senators per state\n",
    "\n",
    "bar(mylabels, [all_Rs, all_Ds], ['red', 'blue']) \n",
    "\n",
    "# @TODO: Include independents on top of democrats in a different color"
   ]
  },
  {
   "cell_type": "code",
   "execution_count": 14,
   "metadata": {},
   "outputs": [
    {
     "data": {
      "text/html": [
       "<div>\n",
       "<style scoped>\n",
       "    .dataframe tbody tr th:only-of-type {\n",
       "        vertical-align: middle;\n",
       "    }\n",
       "\n",
       "    .dataframe tbody tr th {\n",
       "        vertical-align: top;\n",
       "    }\n",
       "\n",
       "    .dataframe thead th {\n",
       "        text-align: right;\n",
       "    }\n",
       "</style>\n",
       "<table border=\"1\" class=\"dataframe\">\n",
       "  <thead>\n",
       "    <tr style=\"text-align: right;\">\n",
       "      <th></th>\n",
       "      <th>State</th>\n",
       "      <th>Senator</th>\n",
       "      <th>Party</th>\n",
       "      <th>Born</th>\n",
       "      <th>Assumed office</th>\n",
       "      <th>Term up</th>\n",
       "      <th>Population</th>\n",
       "      <th>color</th>\n",
       "    </tr>\n",
       "  </thead>\n",
       "  <tbody>\n",
       "    <tr>\n",
       "      <th>0</th>\n",
       "      <td>Wyoming</td>\n",
       "      <td>Cynthia Lummis</td>\n",
       "      <td>Republican</td>\n",
       "      <td>(age 66)</td>\n",
       "      <td>January 3, 2021</td>\n",
       "      <td>2026</td>\n",
       "      <td>578759</td>\n",
       "      <td>red</td>\n",
       "    </tr>\n",
       "    <tr>\n",
       "      <th>1</th>\n",
       "      <td>Wyoming</td>\n",
       "      <td>John Barrasso</td>\n",
       "      <td>Republican</td>\n",
       "      <td>(age 68)</td>\n",
       "      <td>June 25, 2007[y]</td>\n",
       "      <td>2024</td>\n",
       "      <td>578759</td>\n",
       "      <td>red</td>\n",
       "    </tr>\n",
       "    <tr>\n",
       "      <th>2</th>\n",
       "      <td>Vermont</td>\n",
       "      <td>Bernie Sanders</td>\n",
       "      <td>Independent</td>\n",
       "      <td>(age 79)</td>\n",
       "      <td>January 3, 2007</td>\n",
       "      <td>2024</td>\n",
       "      <td>623989</td>\n",
       "      <td>gray</td>\n",
       "    </tr>\n",
       "    <tr>\n",
       "      <th>3</th>\n",
       "      <td>Vermont</td>\n",
       "      <td>Patrick Leahy</td>\n",
       "      <td>Democratic</td>\n",
       "      <td>(age 80)</td>\n",
       "      <td>January 3, 1975</td>\n",
       "      <td>2022</td>\n",
       "      <td>623989</td>\n",
       "      <td>blue</td>\n",
       "    </tr>\n",
       "    <tr>\n",
       "      <th>4</th>\n",
       "      <td>Alaska</td>\n",
       "      <td>Lisa Murkowski</td>\n",
       "      <td>Republican</td>\n",
       "      <td>(age 63)</td>\n",
       "      <td>December 20, 2002[d]</td>\n",
       "      <td>2022</td>\n",
       "      <td>731545</td>\n",
       "      <td>red</td>\n",
       "    </tr>\n",
       "  </tbody>\n",
       "</table>\n",
       "</div>"
      ],
      "text/plain": [
       "     State         Senator        Party      Born        Assumed office  \\\n",
       "0  Wyoming  Cynthia Lummis   Republican  (age 66)       January 3, 2021   \n",
       "1  Wyoming   John Barrasso   Republican  (age 68)      June 25, 2007[y]   \n",
       "2  Vermont  Bernie Sanders  Independent  (age 79)       January 3, 2007   \n",
       "3  Vermont   Patrick Leahy   Democratic  (age 80)       January 3, 1975   \n",
       "4   Alaska  Lisa Murkowski   Republican  (age 63)  December 20, 2002[d]   \n",
       "\n",
       "   Term up  Population color  \n",
       "0     2026      578759   red  \n",
       "1     2024      578759   red  \n",
       "2     2024      623989  gray  \n",
       "3     2022      623989  blue  \n",
       "4     2022      731545   red  "
      ]
     },
     "execution_count": 14,
     "metadata": {},
     "output_type": "execute_result"
    }
   ],
   "source": [
    "sorts.head()"
   ]
  },
  {
   "cell_type": "code",
   "execution_count": null,
   "metadata": {},
   "outputs": [],
   "source": [
    "def barStack(labels, y1, y2):\n",
    "    trace1 = go.Bar(\n",
    "        x=labels,\n",
    "        y=y1)\n",
    "    trace2 = go.Bar(\n",
    "        x=labels,\n",
    "        y=y2)\n",
    "    fig = go.Figure([trace1, trace2])\n",
    "    fig.update_layout(barmode='stack')\n",
    "    fig.show()    "
   ]
  },
  {
   "cell_type": "code",
   "execution_count": 20,
   "metadata": {},
   "outputs": [
    {
     "data": {
      "application/vnd.plotly.v1+json": {
       "config": {
        "plotlyServerURL": "https://plot.ly"
       },
       "data": [
        {
         "marker": {
          "color": [
           "red",
           "gray",
           "red",
           "red",
           "red",
           "blue",
           "blue",
           "blue",
           "gray",
           "blue",
           "blue",
           "red",
           "red",
           "red",
           "blue",
           "red",
           "red",
           "red",
           "blue",
           "red",
           "red",
           "blue",
           "red",
           "blue",
           "red",
           "red",
           "red",
           "red",
           "blue",
           "blue",
           "blue",
           "blue",
           "red",
           "red",
           "red",
           "blue",
           "blue",
           "blue",
           "blue",
           "blue",
           "blue",
           "red",
           "blue",
           "blue",
           "blue",
           "blue",
           "blue",
           "red",
           "red",
           "blue"
          ]
         },
         "text": [
          "Cynthia Lummis",
          "Bernie Sanders",
          "Lisa Murkowski",
          "John Hoeven",
          "Mike Rounds",
          "Chris Coons",
          "Jack Reed",
          "Jon Tester",
          "Angus King",
          "Maggie Hassan",
          "Brian Schatz",
          "Mike Crapo",
          "Shelley Moore Capito",
          "Deb Fischer",
          "Martin Heinrich",
          "Jerry Moran",
          "Cindy Hyde-Smith",
          "John Boozman",
          "Catherine Cortez Masto",
          "Joni Ernst",
          "Mitt Romney",
          "Chris Murphy",
          "James Lankford",
          "Ron Wyden",
          "Mitch McConnell",
          "Bill Cassidy",
          "Richard Shelby",
          "Tim Scott",
          "Tina Smith",
          "Michael Bennet",
          "Tammy Baldwin",
          "Chris Van Hollen",
          "Roy Blunt",
          "Mike Braun",
          "Marsha Blackburn",
          "Ed Markey",
          "Kyrsten Sinema",
          "Maria Cantwell",
          "Tim Kaine",
          "Bob Menendez",
          "Gary Peters",
          "Richard Burr",
          "Jon Ossoff",
          "Sherrod Brown",
          "Tammy Duckworth",
          "Bob Casey Jr.",
          "Chuck Schumer",
          "Rick Scott",
          "Ted Cruz",
          "Dianne Feinstein"
         ],
         "type": "bar",
         "x": [
          "Wyoming",
          "Vermont",
          "Alaska",
          "North Dakota",
          "South Dakota",
          "Delaware",
          "Rhode Island",
          "Montana",
          "Maine",
          "New Hampshire",
          "Hawaii",
          "Idaho",
          "West Virginia",
          "Nebraska",
          "New Mexico",
          "Kansas",
          "Mississippi",
          "Arkansas",
          "Nevada",
          "Iowa",
          "Utah",
          "Connecticut",
          "Oklahoma",
          "Oregon",
          "Kentucky",
          "Louisiana",
          "Alabama",
          "South Carolina",
          "Minnesota",
          "Colorado",
          "Wisconsin",
          "Maryland",
          "Missouri",
          "Indiana",
          "Tennessee",
          "Massachusetts",
          "Arizona",
          "Washington",
          "Virginia",
          "New Jersey",
          "Michigan",
          "North Carolina",
          "Georgia",
          "Ohio",
          "Illinois",
          "Pennsylvania",
          "New York",
          "Florida",
          "Texas",
          "California"
         ],
         "y": [
          289379.5,
          311994.5,
          365772.5,
          381031,
          442329.5,
          486882,
          529680.5,
          534389,
          672106,
          679855.5,
          707936,
          893532.5,
          896073.5,
          967204,
          1048414.5,
          1456657,
          1488074.5,
          1508902,
          1540078,
          1577535,
          1602979,
          1782643.5,
          1978485.5,
          2108868.5,
          2233836.5,
          2324397,
          2451592.5,
          2574357,
          2819816,
          2879368,
          2911217,
          3022840,
          3068714,
          3366109.5,
          3414587,
          3446251.5,
          3639358.5,
          3807446.5,
          4267759.5,
          4441095,
          4993428.5,
          5244042,
          5308711.5,
          5844550,
          6335910.5,
          6400994.5,
          9726780.5,
          10738868.5,
          14497940.5,
          19756111.5
         ]
        },
        {
         "hovertext": [
          "John Barrasso",
          "Patrick Leahy",
          "Dan Sullivan",
          "Kevin Cramer",
          "John Thune",
          "Tom Carper",
          "Sheldon Whitehouse",
          "Steve Daines",
          "Susan Collins",
          "Jeanne Shaheen",
          "Mazie Hirono",
          "Jim Risch",
          "Joe Manchin",
          "Ben Sasse",
          "Ben Ray Luján",
          "Roger Marshall",
          "Roger Wicker",
          "Tom Cotton",
          "Jacky Rosen",
          "Chuck Grassley",
          "Mike Lee",
          "Richard Blumenthal",
          "Jim Inhofe",
          "Jeff Merkley",
          "Rand Paul",
          "John Kennedy",
          "Tommy Tuberville",
          "Lindsey Graham",
          "Amy Klobuchar",
          "John Hickenlooper",
          "Ron Johnson",
          "Ben Cardin",
          "Josh Hawley",
          "Todd Young",
          "Bill Hagerty",
          "Elizabeth Warren",
          "Mark Kelly",
          "Patty Murray",
          "Mark Warner",
          "Cory Booker",
          "Debbie Stabenow",
          "Thom Tillis",
          "Raphael Warnock",
          "Rob Portman",
          "Dick Durbin",
          "Pat Toomey",
          "Kirsten Gillibrand",
          "Marco Rubio",
          "John Cornyn",
          "Alex Padilla"
         ],
         "marker": {
          "color": [
           "red",
           "blue",
           "red",
           "red",
           "red",
           "blue",
           "blue",
           "red",
           "red",
           "blue",
           "blue",
           "red",
           "blue",
           "red",
           "blue",
           "red",
           "red",
           "red",
           "blue",
           "red",
           "red",
           "blue",
           "red",
           "blue",
           "red",
           "red",
           "red",
           "red",
           "blue",
           "blue",
           "red",
           "blue",
           "red",
           "red",
           "red",
           "blue",
           "blue",
           "blue",
           "blue",
           "blue",
           "blue",
           "red",
           "blue",
           "red",
           "blue",
           "red",
           "blue",
           "red",
           "red",
           "blue"
          ]
         },
         "type": "bar",
         "x": [
          "Wyoming",
          "Vermont",
          "Alaska",
          "North Dakota",
          "South Dakota",
          "Delaware",
          "Rhode Island",
          "Montana",
          "Maine",
          "New Hampshire",
          "Hawaii",
          "Idaho",
          "West Virginia",
          "Nebraska",
          "New Mexico",
          "Kansas",
          "Mississippi",
          "Arkansas",
          "Nevada",
          "Iowa",
          "Utah",
          "Connecticut",
          "Oklahoma",
          "Oregon",
          "Kentucky",
          "Louisiana",
          "Alabama",
          "South Carolina",
          "Minnesota",
          "Colorado",
          "Wisconsin",
          "Maryland",
          "Missouri",
          "Indiana",
          "Tennessee",
          "Massachusetts",
          "Arizona",
          "Washington",
          "Virginia",
          "New Jersey",
          "Michigan",
          "North Carolina",
          "Georgia",
          "Ohio",
          "Illinois",
          "Pennsylvania",
          "New York",
          "Florida",
          "Texas",
          "California"
         ],
         "y": [
          289379.5,
          311994.5,
          365772.5,
          381031,
          442329.5,
          486882,
          529680.5,
          534389,
          672106,
          679855.5,
          707936,
          893532.5,
          896073.5,
          967204,
          1048414.5,
          1456657,
          1488074.5,
          1508902,
          1540078,
          1577535,
          1602979,
          1782643.5,
          1978485.5,
          2108868.5,
          2233836.5,
          2324397,
          2451592.5,
          2574357,
          2819816,
          2879368,
          2911217,
          3022840,
          3068714,
          3366109.5,
          3414587,
          3446251.5,
          3639358.5,
          3807446.5,
          4267759.5,
          4441095,
          4993428.5,
          5244042,
          5308711.5,
          5844550,
          6335910.5,
          6400994.5,
          9726780.5,
          10738868.5,
          14497940.5,
          19756111.5
         ]
        }
       ],
       "layout": {
        "barmode": "stack",
        "shapes": [
         {
          "line": {
           "dash": "dot"
          },
          "type": "line",
          "x0": 9.5,
          "x1": 9.5,
          "xref": "x",
          "y0": 0,
          "y1": 1,
          "yref": "y domain"
         }
        ],
        "showlegend": false,
        "template": {
         "data": {
          "bar": [
           {
            "error_x": {
             "color": "#2a3f5f"
            },
            "error_y": {
             "color": "#2a3f5f"
            },
            "marker": {
             "line": {
              "color": "white",
              "width": 0.5
             }
            },
            "type": "bar"
           }
          ],
          "barpolar": [
           {
            "marker": {
             "line": {
              "color": "white",
              "width": 0.5
             }
            },
            "type": "barpolar"
           }
          ],
          "carpet": [
           {
            "aaxis": {
             "endlinecolor": "#2a3f5f",
             "gridcolor": "#C8D4E3",
             "linecolor": "#C8D4E3",
             "minorgridcolor": "#C8D4E3",
             "startlinecolor": "#2a3f5f"
            },
            "baxis": {
             "endlinecolor": "#2a3f5f",
             "gridcolor": "#C8D4E3",
             "linecolor": "#C8D4E3",
             "minorgridcolor": "#C8D4E3",
             "startlinecolor": "#2a3f5f"
            },
            "type": "carpet"
           }
          ],
          "choropleth": [
           {
            "colorbar": {
             "outlinewidth": 0,
             "ticks": ""
            },
            "type": "choropleth"
           }
          ],
          "contour": [
           {
            "colorbar": {
             "outlinewidth": 0,
             "ticks": ""
            },
            "colorscale": [
             [
              0,
              "#0d0887"
             ],
             [
              0.1111111111111111,
              "#46039f"
             ],
             [
              0.2222222222222222,
              "#7201a8"
             ],
             [
              0.3333333333333333,
              "#9c179e"
             ],
             [
              0.4444444444444444,
              "#bd3786"
             ],
             [
              0.5555555555555556,
              "#d8576b"
             ],
             [
              0.6666666666666666,
              "#ed7953"
             ],
             [
              0.7777777777777778,
              "#fb9f3a"
             ],
             [
              0.8888888888888888,
              "#fdca26"
             ],
             [
              1,
              "#f0f921"
             ]
            ],
            "type": "contour"
           }
          ],
          "contourcarpet": [
           {
            "colorbar": {
             "outlinewidth": 0,
             "ticks": ""
            },
            "type": "contourcarpet"
           }
          ],
          "heatmap": [
           {
            "colorbar": {
             "outlinewidth": 0,
             "ticks": ""
            },
            "colorscale": [
             [
              0,
              "#0d0887"
             ],
             [
              0.1111111111111111,
              "#46039f"
             ],
             [
              0.2222222222222222,
              "#7201a8"
             ],
             [
              0.3333333333333333,
              "#9c179e"
             ],
             [
              0.4444444444444444,
              "#bd3786"
             ],
             [
              0.5555555555555556,
              "#d8576b"
             ],
             [
              0.6666666666666666,
              "#ed7953"
             ],
             [
              0.7777777777777778,
              "#fb9f3a"
             ],
             [
              0.8888888888888888,
              "#fdca26"
             ],
             [
              1,
              "#f0f921"
             ]
            ],
            "type": "heatmap"
           }
          ],
          "heatmapgl": [
           {
            "colorbar": {
             "outlinewidth": 0,
             "ticks": ""
            },
            "colorscale": [
             [
              0,
              "#0d0887"
             ],
             [
              0.1111111111111111,
              "#46039f"
             ],
             [
              0.2222222222222222,
              "#7201a8"
             ],
             [
              0.3333333333333333,
              "#9c179e"
             ],
             [
              0.4444444444444444,
              "#bd3786"
             ],
             [
              0.5555555555555556,
              "#d8576b"
             ],
             [
              0.6666666666666666,
              "#ed7953"
             ],
             [
              0.7777777777777778,
              "#fb9f3a"
             ],
             [
              0.8888888888888888,
              "#fdca26"
             ],
             [
              1,
              "#f0f921"
             ]
            ],
            "type": "heatmapgl"
           }
          ],
          "histogram": [
           {
            "marker": {
             "colorbar": {
              "outlinewidth": 0,
              "ticks": ""
             }
            },
            "type": "histogram"
           }
          ],
          "histogram2d": [
           {
            "colorbar": {
             "outlinewidth": 0,
             "ticks": ""
            },
            "colorscale": [
             [
              0,
              "#0d0887"
             ],
             [
              0.1111111111111111,
              "#46039f"
             ],
             [
              0.2222222222222222,
              "#7201a8"
             ],
             [
              0.3333333333333333,
              "#9c179e"
             ],
             [
              0.4444444444444444,
              "#bd3786"
             ],
             [
              0.5555555555555556,
              "#d8576b"
             ],
             [
              0.6666666666666666,
              "#ed7953"
             ],
             [
              0.7777777777777778,
              "#fb9f3a"
             ],
             [
              0.8888888888888888,
              "#fdca26"
             ],
             [
              1,
              "#f0f921"
             ]
            ],
            "type": "histogram2d"
           }
          ],
          "histogram2dcontour": [
           {
            "colorbar": {
             "outlinewidth": 0,
             "ticks": ""
            },
            "colorscale": [
             [
              0,
              "#0d0887"
             ],
             [
              0.1111111111111111,
              "#46039f"
             ],
             [
              0.2222222222222222,
              "#7201a8"
             ],
             [
              0.3333333333333333,
              "#9c179e"
             ],
             [
              0.4444444444444444,
              "#bd3786"
             ],
             [
              0.5555555555555556,
              "#d8576b"
             ],
             [
              0.6666666666666666,
              "#ed7953"
             ],
             [
              0.7777777777777778,
              "#fb9f3a"
             ],
             [
              0.8888888888888888,
              "#fdca26"
             ],
             [
              1,
              "#f0f921"
             ]
            ],
            "type": "histogram2dcontour"
           }
          ],
          "mesh3d": [
           {
            "colorbar": {
             "outlinewidth": 0,
             "ticks": ""
            },
            "type": "mesh3d"
           }
          ],
          "parcoords": [
           {
            "line": {
             "colorbar": {
              "outlinewidth": 0,
              "ticks": ""
             }
            },
            "type": "parcoords"
           }
          ],
          "pie": [
           {
            "automargin": true,
            "type": "pie"
           }
          ],
          "scatter": [
           {
            "marker": {
             "colorbar": {
              "outlinewidth": 0,
              "ticks": ""
             }
            },
            "type": "scatter"
           }
          ],
          "scatter3d": [
           {
            "line": {
             "colorbar": {
              "outlinewidth": 0,
              "ticks": ""
             }
            },
            "marker": {
             "colorbar": {
              "outlinewidth": 0,
              "ticks": ""
             }
            },
            "type": "scatter3d"
           }
          ],
          "scattercarpet": [
           {
            "marker": {
             "colorbar": {
              "outlinewidth": 0,
              "ticks": ""
             }
            },
            "type": "scattercarpet"
           }
          ],
          "scattergeo": [
           {
            "marker": {
             "colorbar": {
              "outlinewidth": 0,
              "ticks": ""
             }
            },
            "type": "scattergeo"
           }
          ],
          "scattergl": [
           {
            "marker": {
             "colorbar": {
              "outlinewidth": 0,
              "ticks": ""
             }
            },
            "type": "scattergl"
           }
          ],
          "scattermapbox": [
           {
            "marker": {
             "colorbar": {
              "outlinewidth": 0,
              "ticks": ""
             }
            },
            "type": "scattermapbox"
           }
          ],
          "scatterpolar": [
           {
            "marker": {
             "colorbar": {
              "outlinewidth": 0,
              "ticks": ""
             }
            },
            "type": "scatterpolar"
           }
          ],
          "scatterpolargl": [
           {
            "marker": {
             "colorbar": {
              "outlinewidth": 0,
              "ticks": ""
             }
            },
            "type": "scatterpolargl"
           }
          ],
          "scatterternary": [
           {
            "marker": {
             "colorbar": {
              "outlinewidth": 0,
              "ticks": ""
             }
            },
            "type": "scatterternary"
           }
          ],
          "surface": [
           {
            "colorbar": {
             "outlinewidth": 0,
             "ticks": ""
            },
            "colorscale": [
             [
              0,
              "#0d0887"
             ],
             [
              0.1111111111111111,
              "#46039f"
             ],
             [
              0.2222222222222222,
              "#7201a8"
             ],
             [
              0.3333333333333333,
              "#9c179e"
             ],
             [
              0.4444444444444444,
              "#bd3786"
             ],
             [
              0.5555555555555556,
              "#d8576b"
             ],
             [
              0.6666666666666666,
              "#ed7953"
             ],
             [
              0.7777777777777778,
              "#fb9f3a"
             ],
             [
              0.8888888888888888,
              "#fdca26"
             ],
             [
              1,
              "#f0f921"
             ]
            ],
            "type": "surface"
           }
          ],
          "table": [
           {
            "cells": {
             "fill": {
              "color": "#EBF0F8"
             },
             "line": {
              "color": "white"
             }
            },
            "header": {
             "fill": {
              "color": "#C8D4E3"
             },
             "line": {
              "color": "white"
             }
            },
            "type": "table"
           }
          ]
         },
         "layout": {
          "annotationdefaults": {
           "arrowcolor": "#2a3f5f",
           "arrowhead": 0,
           "arrowwidth": 1
          },
          "autotypenumbers": "strict",
          "coloraxis": {
           "colorbar": {
            "outlinewidth": 0,
            "ticks": ""
           }
          },
          "colorscale": {
           "diverging": [
            [
             0,
             "#8e0152"
            ],
            [
             0.1,
             "#c51b7d"
            ],
            [
             0.2,
             "#de77ae"
            ],
            [
             0.3,
             "#f1b6da"
            ],
            [
             0.4,
             "#fde0ef"
            ],
            [
             0.5,
             "#f7f7f7"
            ],
            [
             0.6,
             "#e6f5d0"
            ],
            [
             0.7,
             "#b8e186"
            ],
            [
             0.8,
             "#7fbc41"
            ],
            [
             0.9,
             "#4d9221"
            ],
            [
             1,
             "#276419"
            ]
           ],
           "sequential": [
            [
             0,
             "#0d0887"
            ],
            [
             0.1111111111111111,
             "#46039f"
            ],
            [
             0.2222222222222222,
             "#7201a8"
            ],
            [
             0.3333333333333333,
             "#9c179e"
            ],
            [
             0.4444444444444444,
             "#bd3786"
            ],
            [
             0.5555555555555556,
             "#d8576b"
            ],
            [
             0.6666666666666666,
             "#ed7953"
            ],
            [
             0.7777777777777778,
             "#fb9f3a"
            ],
            [
             0.8888888888888888,
             "#fdca26"
            ],
            [
             1,
             "#f0f921"
            ]
           ],
           "sequentialminus": [
            [
             0,
             "#0d0887"
            ],
            [
             0.1111111111111111,
             "#46039f"
            ],
            [
             0.2222222222222222,
             "#7201a8"
            ],
            [
             0.3333333333333333,
             "#9c179e"
            ],
            [
             0.4444444444444444,
             "#bd3786"
            ],
            [
             0.5555555555555556,
             "#d8576b"
            ],
            [
             0.6666666666666666,
             "#ed7953"
            ],
            [
             0.7777777777777778,
             "#fb9f3a"
            ],
            [
             0.8888888888888888,
             "#fdca26"
            ],
            [
             1,
             "#f0f921"
            ]
           ]
          },
          "colorway": [
           "#636efa",
           "#EF553B",
           "#00cc96",
           "#ab63fa",
           "#FFA15A",
           "#19d3f3",
           "#FF6692",
           "#B6E880",
           "#FF97FF",
           "#FECB52"
          ],
          "font": {
           "color": "#2a3f5f"
          },
          "geo": {
           "bgcolor": "white",
           "lakecolor": "white",
           "landcolor": "white",
           "showlakes": true,
           "showland": true,
           "subunitcolor": "#C8D4E3"
          },
          "hoverlabel": {
           "align": "left"
          },
          "hovermode": "closest",
          "mapbox": {
           "style": "light"
          },
          "paper_bgcolor": "white",
          "plot_bgcolor": "white",
          "polar": {
           "angularaxis": {
            "gridcolor": "#EBF0F8",
            "linecolor": "#EBF0F8",
            "ticks": ""
           },
           "bgcolor": "white",
           "radialaxis": {
            "gridcolor": "#EBF0F8",
            "linecolor": "#EBF0F8",
            "ticks": ""
           }
          },
          "scene": {
           "xaxis": {
            "backgroundcolor": "white",
            "gridcolor": "#DFE8F3",
            "gridwidth": 2,
            "linecolor": "#EBF0F8",
            "showbackground": true,
            "ticks": "",
            "zerolinecolor": "#EBF0F8"
           },
           "yaxis": {
            "backgroundcolor": "white",
            "gridcolor": "#DFE8F3",
            "gridwidth": 2,
            "linecolor": "#EBF0F8",
            "showbackground": true,
            "ticks": "",
            "zerolinecolor": "#EBF0F8"
           },
           "zaxis": {
            "backgroundcolor": "white",
            "gridcolor": "#DFE8F3",
            "gridwidth": 2,
            "linecolor": "#EBF0F8",
            "showbackground": true,
            "ticks": "",
            "zerolinecolor": "#EBF0F8"
           }
          },
          "shapedefaults": {
           "line": {
            "color": "#2a3f5f"
           }
          },
          "ternary": {
           "aaxis": {
            "gridcolor": "#DFE8F3",
            "linecolor": "#A2B1C6",
            "ticks": ""
           },
           "baxis": {
            "gridcolor": "#DFE8F3",
            "linecolor": "#A2B1C6",
            "ticks": ""
           },
           "bgcolor": "white",
           "caxis": {
            "gridcolor": "#DFE8F3",
            "linecolor": "#A2B1C6",
            "ticks": ""
           }
          },
          "title": {
           "x": 0.05
          },
          "xaxis": {
           "automargin": true,
           "gridcolor": "#EBF0F8",
           "linecolor": "#EBF0F8",
           "ticks": "",
           "title": {
            "standoff": 15
           },
           "zerolinecolor": "#EBF0F8",
           "zerolinewidth": 2
          },
          "yaxis": {
           "automargin": true,
           "gridcolor": "#EBF0F8",
           "linecolor": "#EBF0F8",
           "ticks": "",
           "title": {
            "standoff": 15
           },
           "zerolinecolor": "#EBF0F8",
           "zerolinewidth": 2
          }
         }
        },
        "title": {
         "text": "# of People each Senator Represents"
        },
        "xaxis": {
         "categoryorder": "total descending"
        }
       }
      },
      "text/html": [
       "<div>                            <div id=\"590f4ba3-5a47-4caf-bda0-38a83f033a6e\" class=\"plotly-graph-div\" style=\"height:525px; width:100%;\"></div>            <script type=\"text/javascript\">                require([\"plotly\"], function(Plotly) {                    window.PLOTLYENV=window.PLOTLYENV || {};                                    if (document.getElementById(\"590f4ba3-5a47-4caf-bda0-38a83f033a6e\")) {                    Plotly.newPlot(                        \"590f4ba3-5a47-4caf-bda0-38a83f033a6e\",                        [{\"marker\": {\"color\": [\"red\", \"gray\", \"red\", \"red\", \"red\", \"blue\", \"blue\", \"blue\", \"gray\", \"blue\", \"blue\", \"red\", \"red\", \"red\", \"blue\", \"red\", \"red\", \"red\", \"blue\", \"red\", \"red\", \"blue\", \"red\", \"blue\", \"red\", \"red\", \"red\", \"red\", \"blue\", \"blue\", \"blue\", \"blue\", \"red\", \"red\", \"red\", \"blue\", \"blue\", \"blue\", \"blue\", \"blue\", \"blue\", \"red\", \"blue\", \"blue\", \"blue\", \"blue\", \"blue\", \"red\", \"red\", \"blue\"]}, \"text\": [\"Cynthia Lummis\", \"Bernie Sanders\", \"Lisa Murkowski\", \"John Hoeven\", \"Mike Rounds\", \"Chris Coons\", \"Jack Reed\", \"Jon Tester\", \"Angus King\", \"Maggie Hassan\", \"Brian Schatz\", \"Mike Crapo\", \"Shelley Moore Capito\", \"Deb Fischer\", \"Martin Heinrich\", \"Jerry Moran\", \"Cindy Hyde-Smith\", \"John Boozman\", \"Catherine Cortez Masto\", \"Joni Ernst\", \"Mitt Romney\", \"Chris Murphy\", \"James Lankford\", \"Ron Wyden\", \"Mitch McConnell\", \"Bill Cassidy\", \"Richard Shelby\", \"Tim Scott\", \"Tina Smith\", \"Michael Bennet\", \"Tammy Baldwin\", \"Chris Van Hollen\", \"Roy Blunt\", \"Mike Braun\", \"Marsha Blackburn\", \"Ed Markey\", \"Kyrsten Sinema\", \"Maria Cantwell\", \"Tim Kaine\", \"Bob Menendez\", \"Gary Peters\", \"Richard Burr\", \"Jon Ossoff\", \"Sherrod Brown\", \"Tammy Duckworth\", \"Bob Casey Jr.\", \"Chuck Schumer\", \"Rick Scott\", \"Ted Cruz\", \"Dianne Feinstein\"], \"type\": \"bar\", \"x\": [\"Wyoming\", \"Vermont\", \"Alaska\", \"North Dakota\", \"South Dakota\", \"Delaware\", \"Rhode Island\", \"Montana\", \"Maine\", \"New Hampshire\", \"Hawaii\", \"Idaho\", \"West Virginia\", \"Nebraska\", \"New Mexico\", \"Kansas\", \"Mississippi\", \"Arkansas\", \"Nevada\", \"Iowa\", \"Utah\", \"Connecticut\", \"Oklahoma\", \"Oregon\", \"Kentucky\", \"Louisiana\", \"Alabama\", \"South Carolina\", \"Minnesota\", \"Colorado\", \"Wisconsin\", \"Maryland\", \"Missouri\", \"Indiana\", \"Tennessee\", \"Massachusetts\", \"Arizona\", \"Washington\", \"Virginia\", \"New Jersey\", \"Michigan\", \"North Carolina\", \"Georgia\", \"Ohio\", \"Illinois\", \"Pennsylvania\", \"New York\", \"Florida\", \"Texas\", \"California\"], \"y\": [289379.5, 311994.5, 365772.5, 381031.0, 442329.5, 486882.0, 529680.5, 534389.0, 672106.0, 679855.5, 707936.0, 893532.5, 896073.5, 967204.0, 1048414.5, 1456657.0, 1488074.5, 1508902.0, 1540078.0, 1577535.0, 1602979.0, 1782643.5, 1978485.5, 2108868.5, 2233836.5, 2324397.0, 2451592.5, 2574357.0, 2819816.0, 2879368.0, 2911217.0, 3022840.0, 3068714.0, 3366109.5, 3414587.0, 3446251.5, 3639358.5, 3807446.5, 4267759.5, 4441095.0, 4993428.5, 5244042.0, 5308711.5, 5844550.0, 6335910.5, 6400994.5, 9726780.5, 10738868.5, 14497940.5, 19756111.5]}, {\"hovertext\": [\"John Barrasso\", \"Patrick Leahy\", \"Dan Sullivan\", \"Kevin Cramer\", \"John Thune\", \"Tom Carper\", \"Sheldon Whitehouse\", \"Steve Daines\", \"Susan Collins\", \"Jeanne Shaheen\", \"Mazie Hirono\", \"Jim Risch\", \"Joe Manchin\", \"Ben Sasse\", \"Ben Ray Luj\\u00e1n\", \"Roger Marshall\", \"Roger Wicker\", \"Tom Cotton\", \"Jacky Rosen\", \"Chuck Grassley\", \"Mike Lee\", \"Richard Blumenthal\", \"Jim Inhofe\", \"Jeff Merkley\", \"Rand Paul\", \"John Kennedy\", \"Tommy Tuberville\", \"Lindsey Graham\", \"Amy Klobuchar\", \"John Hickenlooper\", \"Ron Johnson\", \"Ben Cardin\", \"Josh Hawley\", \"Todd Young\", \"Bill Hagerty\", \"Elizabeth Warren\", \"Mark Kelly\", \"Patty Murray\", \"Mark Warner\", \"Cory Booker\", \"Debbie Stabenow\", \"Thom Tillis\", \"Raphael Warnock\", \"Rob Portman\", \"Dick Durbin\", \"Pat Toomey\", \"Kirsten Gillibrand\", \"Marco Rubio\", \"John Cornyn\", \"Alex Padilla\"], \"marker\": {\"color\": [\"red\", \"blue\", \"red\", \"red\", \"red\", \"blue\", \"blue\", \"red\", \"red\", \"blue\", \"blue\", \"red\", \"blue\", \"red\", \"blue\", \"red\", \"red\", \"red\", \"blue\", \"red\", \"red\", \"blue\", \"red\", \"blue\", \"red\", \"red\", \"red\", \"red\", \"blue\", \"blue\", \"red\", \"blue\", \"red\", \"red\", \"red\", \"blue\", \"blue\", \"blue\", \"blue\", \"blue\", \"blue\", \"red\", \"blue\", \"red\", \"blue\", \"red\", \"blue\", \"red\", \"red\", \"blue\"]}, \"type\": \"bar\", \"x\": [\"Wyoming\", \"Vermont\", \"Alaska\", \"North Dakota\", \"South Dakota\", \"Delaware\", \"Rhode Island\", \"Montana\", \"Maine\", \"New Hampshire\", \"Hawaii\", \"Idaho\", \"West Virginia\", \"Nebraska\", \"New Mexico\", \"Kansas\", \"Mississippi\", \"Arkansas\", \"Nevada\", \"Iowa\", \"Utah\", \"Connecticut\", \"Oklahoma\", \"Oregon\", \"Kentucky\", \"Louisiana\", \"Alabama\", \"South Carolina\", \"Minnesota\", \"Colorado\", \"Wisconsin\", \"Maryland\", \"Missouri\", \"Indiana\", \"Tennessee\", \"Massachusetts\", \"Arizona\", \"Washington\", \"Virginia\", \"New Jersey\", \"Michigan\", \"North Carolina\", \"Georgia\", \"Ohio\", \"Illinois\", \"Pennsylvania\", \"New York\", \"Florida\", \"Texas\", \"California\"], \"y\": [289379.5, 311994.5, 365772.5, 381031.0, 442329.5, 486882.0, 529680.5, 534389.0, 672106.0, 679855.5, 707936.0, 893532.5, 896073.5, 967204.0, 1048414.5, 1456657.0, 1488074.5, 1508902.0, 1540078.0, 1577535.0, 1602979.0, 1782643.5, 1978485.5, 2108868.5, 2233836.5, 2324397.0, 2451592.5, 2574357.0, 2819816.0, 2879368.0, 2911217.0, 3022840.0, 3068714.0, 3366109.5, 3414587.0, 3446251.5, 3639358.5, 3807446.5, 4267759.5, 4441095.0, 4993428.5, 5244042.0, 5308711.5, 5844550.0, 6335910.5, 6400994.5, 9726780.5, 10738868.5, 14497940.5, 19756111.5]}],                        {\"barmode\": \"stack\", \"shapes\": [{\"line\": {\"dash\": \"dot\"}, \"type\": \"line\", \"x0\": 9.5, \"x1\": 9.5, \"xref\": \"x\", \"y0\": 0, \"y1\": 1, \"yref\": \"y domain\"}], \"showlegend\": false, \"template\": {\"data\": {\"bar\": [{\"error_x\": {\"color\": \"#2a3f5f\"}, \"error_y\": {\"color\": \"#2a3f5f\"}, \"marker\": {\"line\": {\"color\": \"white\", \"width\": 0.5}}, \"type\": \"bar\"}], \"barpolar\": [{\"marker\": {\"line\": {\"color\": \"white\", \"width\": 0.5}}, \"type\": \"barpolar\"}], \"carpet\": [{\"aaxis\": {\"endlinecolor\": \"#2a3f5f\", \"gridcolor\": \"#C8D4E3\", \"linecolor\": \"#C8D4E3\", \"minorgridcolor\": \"#C8D4E3\", \"startlinecolor\": \"#2a3f5f\"}, \"baxis\": {\"endlinecolor\": \"#2a3f5f\", \"gridcolor\": \"#C8D4E3\", \"linecolor\": \"#C8D4E3\", \"minorgridcolor\": \"#C8D4E3\", \"startlinecolor\": \"#2a3f5f\"}, \"type\": \"carpet\"}], \"choropleth\": [{\"colorbar\": {\"outlinewidth\": 0, \"ticks\": \"\"}, \"type\": \"choropleth\"}], \"contour\": [{\"colorbar\": {\"outlinewidth\": 0, \"ticks\": \"\"}, \"colorscale\": [[0.0, \"#0d0887\"], [0.1111111111111111, \"#46039f\"], [0.2222222222222222, \"#7201a8\"], [0.3333333333333333, \"#9c179e\"], [0.4444444444444444, \"#bd3786\"], [0.5555555555555556, \"#d8576b\"], [0.6666666666666666, \"#ed7953\"], [0.7777777777777778, \"#fb9f3a\"], [0.8888888888888888, \"#fdca26\"], [1.0, \"#f0f921\"]], \"type\": \"contour\"}], \"contourcarpet\": [{\"colorbar\": {\"outlinewidth\": 0, \"ticks\": \"\"}, \"type\": \"contourcarpet\"}], \"heatmap\": [{\"colorbar\": {\"outlinewidth\": 0, \"ticks\": \"\"}, \"colorscale\": [[0.0, \"#0d0887\"], [0.1111111111111111, \"#46039f\"], [0.2222222222222222, \"#7201a8\"], [0.3333333333333333, \"#9c179e\"], [0.4444444444444444, \"#bd3786\"], [0.5555555555555556, \"#d8576b\"], [0.6666666666666666, \"#ed7953\"], [0.7777777777777778, \"#fb9f3a\"], [0.8888888888888888, \"#fdca26\"], [1.0, \"#f0f921\"]], \"type\": \"heatmap\"}], \"heatmapgl\": [{\"colorbar\": {\"outlinewidth\": 0, \"ticks\": \"\"}, \"colorscale\": [[0.0, \"#0d0887\"], [0.1111111111111111, \"#46039f\"], [0.2222222222222222, \"#7201a8\"], [0.3333333333333333, \"#9c179e\"], [0.4444444444444444, \"#bd3786\"], [0.5555555555555556, \"#d8576b\"], [0.6666666666666666, \"#ed7953\"], [0.7777777777777778, \"#fb9f3a\"], [0.8888888888888888, \"#fdca26\"], [1.0, \"#f0f921\"]], \"type\": \"heatmapgl\"}], \"histogram\": [{\"marker\": {\"colorbar\": {\"outlinewidth\": 0, \"ticks\": \"\"}}, \"type\": \"histogram\"}], \"histogram2d\": [{\"colorbar\": {\"outlinewidth\": 0, \"ticks\": \"\"}, \"colorscale\": [[0.0, \"#0d0887\"], [0.1111111111111111, \"#46039f\"], [0.2222222222222222, \"#7201a8\"], [0.3333333333333333, \"#9c179e\"], [0.4444444444444444, \"#bd3786\"], [0.5555555555555556, \"#d8576b\"], [0.6666666666666666, \"#ed7953\"], [0.7777777777777778, \"#fb9f3a\"], [0.8888888888888888, \"#fdca26\"], [1.0, \"#f0f921\"]], \"type\": \"histogram2d\"}], \"histogram2dcontour\": [{\"colorbar\": {\"outlinewidth\": 0, \"ticks\": \"\"}, \"colorscale\": [[0.0, \"#0d0887\"], [0.1111111111111111, \"#46039f\"], [0.2222222222222222, \"#7201a8\"], [0.3333333333333333, \"#9c179e\"], [0.4444444444444444, \"#bd3786\"], [0.5555555555555556, \"#d8576b\"], [0.6666666666666666, \"#ed7953\"], [0.7777777777777778, \"#fb9f3a\"], [0.8888888888888888, \"#fdca26\"], [1.0, \"#f0f921\"]], \"type\": \"histogram2dcontour\"}], \"mesh3d\": [{\"colorbar\": {\"outlinewidth\": 0, \"ticks\": \"\"}, \"type\": \"mesh3d\"}], \"parcoords\": [{\"line\": {\"colorbar\": {\"outlinewidth\": 0, \"ticks\": \"\"}}, \"type\": \"parcoords\"}], \"pie\": [{\"automargin\": true, \"type\": \"pie\"}], \"scatter\": [{\"marker\": {\"colorbar\": {\"outlinewidth\": 0, \"ticks\": \"\"}}, \"type\": \"scatter\"}], \"scatter3d\": [{\"line\": {\"colorbar\": {\"outlinewidth\": 0, \"ticks\": \"\"}}, \"marker\": {\"colorbar\": {\"outlinewidth\": 0, \"ticks\": \"\"}}, \"type\": \"scatter3d\"}], \"scattercarpet\": [{\"marker\": {\"colorbar\": {\"outlinewidth\": 0, \"ticks\": \"\"}}, \"type\": \"scattercarpet\"}], \"scattergeo\": [{\"marker\": {\"colorbar\": {\"outlinewidth\": 0, \"ticks\": \"\"}}, \"type\": \"scattergeo\"}], \"scattergl\": [{\"marker\": {\"colorbar\": {\"outlinewidth\": 0, \"ticks\": \"\"}}, \"type\": \"scattergl\"}], \"scattermapbox\": [{\"marker\": {\"colorbar\": {\"outlinewidth\": 0, \"ticks\": \"\"}}, \"type\": \"scattermapbox\"}], \"scatterpolar\": [{\"marker\": {\"colorbar\": {\"outlinewidth\": 0, \"ticks\": \"\"}}, \"type\": \"scatterpolar\"}], \"scatterpolargl\": [{\"marker\": {\"colorbar\": {\"outlinewidth\": 0, \"ticks\": \"\"}}, \"type\": \"scatterpolargl\"}], \"scatterternary\": [{\"marker\": {\"colorbar\": {\"outlinewidth\": 0, \"ticks\": \"\"}}, \"type\": \"scatterternary\"}], \"surface\": [{\"colorbar\": {\"outlinewidth\": 0, \"ticks\": \"\"}, \"colorscale\": [[0.0, \"#0d0887\"], [0.1111111111111111, \"#46039f\"], [0.2222222222222222, \"#7201a8\"], [0.3333333333333333, \"#9c179e\"], [0.4444444444444444, \"#bd3786\"], [0.5555555555555556, \"#d8576b\"], [0.6666666666666666, \"#ed7953\"], [0.7777777777777778, \"#fb9f3a\"], [0.8888888888888888, \"#fdca26\"], [1.0, \"#f0f921\"]], \"type\": \"surface\"}], \"table\": [{\"cells\": {\"fill\": {\"color\": \"#EBF0F8\"}, \"line\": {\"color\": \"white\"}}, \"header\": {\"fill\": {\"color\": \"#C8D4E3\"}, \"line\": {\"color\": \"white\"}}, \"type\": \"table\"}]}, \"layout\": {\"annotationdefaults\": {\"arrowcolor\": \"#2a3f5f\", \"arrowhead\": 0, \"arrowwidth\": 1}, \"autotypenumbers\": \"strict\", \"coloraxis\": {\"colorbar\": {\"outlinewidth\": 0, \"ticks\": \"\"}}, \"colorscale\": {\"diverging\": [[0, \"#8e0152\"], [0.1, \"#c51b7d\"], [0.2, \"#de77ae\"], [0.3, \"#f1b6da\"], [0.4, \"#fde0ef\"], [0.5, \"#f7f7f7\"], [0.6, \"#e6f5d0\"], [0.7, \"#b8e186\"], [0.8, \"#7fbc41\"], [0.9, \"#4d9221\"], [1, \"#276419\"]], \"sequential\": [[0.0, \"#0d0887\"], [0.1111111111111111, \"#46039f\"], [0.2222222222222222, \"#7201a8\"], [0.3333333333333333, \"#9c179e\"], [0.4444444444444444, \"#bd3786\"], [0.5555555555555556, \"#d8576b\"], [0.6666666666666666, \"#ed7953\"], [0.7777777777777778, \"#fb9f3a\"], [0.8888888888888888, \"#fdca26\"], [1.0, \"#f0f921\"]], \"sequentialminus\": [[0.0, \"#0d0887\"], [0.1111111111111111, \"#46039f\"], [0.2222222222222222, \"#7201a8\"], [0.3333333333333333, \"#9c179e\"], [0.4444444444444444, \"#bd3786\"], [0.5555555555555556, \"#d8576b\"], [0.6666666666666666, \"#ed7953\"], [0.7777777777777778, \"#fb9f3a\"], [0.8888888888888888, \"#fdca26\"], [1.0, \"#f0f921\"]]}, \"colorway\": [\"#636efa\", \"#EF553B\", \"#00cc96\", \"#ab63fa\", \"#FFA15A\", \"#19d3f3\", \"#FF6692\", \"#B6E880\", \"#FF97FF\", \"#FECB52\"], \"font\": {\"color\": \"#2a3f5f\"}, \"geo\": {\"bgcolor\": \"white\", \"lakecolor\": \"white\", \"landcolor\": \"white\", \"showlakes\": true, \"showland\": true, \"subunitcolor\": \"#C8D4E3\"}, \"hoverlabel\": {\"align\": \"left\"}, \"hovermode\": \"closest\", \"mapbox\": {\"style\": \"light\"}, \"paper_bgcolor\": \"white\", \"plot_bgcolor\": \"white\", \"polar\": {\"angularaxis\": {\"gridcolor\": \"#EBF0F8\", \"linecolor\": \"#EBF0F8\", \"ticks\": \"\"}, \"bgcolor\": \"white\", \"radialaxis\": {\"gridcolor\": \"#EBF0F8\", \"linecolor\": \"#EBF0F8\", \"ticks\": \"\"}}, \"scene\": {\"xaxis\": {\"backgroundcolor\": \"white\", \"gridcolor\": \"#DFE8F3\", \"gridwidth\": 2, \"linecolor\": \"#EBF0F8\", \"showbackground\": true, \"ticks\": \"\", \"zerolinecolor\": \"#EBF0F8\"}, \"yaxis\": {\"backgroundcolor\": \"white\", \"gridcolor\": \"#DFE8F3\", \"gridwidth\": 2, \"linecolor\": \"#EBF0F8\", \"showbackground\": true, \"ticks\": \"\", \"zerolinecolor\": \"#EBF0F8\"}, \"zaxis\": {\"backgroundcolor\": \"white\", \"gridcolor\": \"#DFE8F3\", \"gridwidth\": 2, \"linecolor\": \"#EBF0F8\", \"showbackground\": true, \"ticks\": \"\", \"zerolinecolor\": \"#EBF0F8\"}}, \"shapedefaults\": {\"line\": {\"color\": \"#2a3f5f\"}}, \"ternary\": {\"aaxis\": {\"gridcolor\": \"#DFE8F3\", \"linecolor\": \"#A2B1C6\", \"ticks\": \"\"}, \"baxis\": {\"gridcolor\": \"#DFE8F3\", \"linecolor\": \"#A2B1C6\", \"ticks\": \"\"}, \"bgcolor\": \"white\", \"caxis\": {\"gridcolor\": \"#DFE8F3\", \"linecolor\": \"#A2B1C6\", \"ticks\": \"\"}}, \"title\": {\"x\": 0.05}, \"xaxis\": {\"automargin\": true, \"gridcolor\": \"#EBF0F8\", \"linecolor\": \"#EBF0F8\", \"ticks\": \"\", \"title\": {\"standoff\": 15}, \"zerolinecolor\": \"#EBF0F8\", \"zerolinewidth\": 2}, \"yaxis\": {\"automargin\": true, \"gridcolor\": \"#EBF0F8\", \"linecolor\": \"#EBF0F8\", \"ticks\": \"\", \"title\": {\"standoff\": 15}, \"zerolinecolor\": \"#EBF0F8\", \"zerolinewidth\": 2}}}, \"title\": {\"text\": \"# of People each Senator Represents\"}, \"xaxis\": {\"categoryorder\": \"total descending\"}},                        {\"responsive\": true}                    ).then(function(){\n",
       "                            \n",
       "var gd = document.getElementById('590f4ba3-5a47-4caf-bda0-38a83f033a6e');\n",
       "var x = new MutationObserver(function (mutations, observer) {{\n",
       "        var display = window.getComputedStyle(gd).display;\n",
       "        if (!display || display === 'none') {{\n",
       "            console.log([gd, 'removed!']);\n",
       "            Plotly.purge(gd);\n",
       "            observer.disconnect();\n",
       "        }}\n",
       "}});\n",
       "\n",
       "// Listen for the removal of the full notebook cells\n",
       "var notebookContainer = gd.closest('#notebook-container');\n",
       "if (notebookContainer) {{\n",
       "    x.observe(notebookContainer, {childList: true});\n",
       "}}\n",
       "\n",
       "// Listen for the clearing of the current output cell\n",
       "var outputEl = gd.closest('.output');\n",
       "if (outputEl) {{\n",
       "    x.observe(outputEl, {childList: true});\n",
       "}}\n",
       "\n",
       "                        })                };                });            </script>        </div>"
      ]
     },
     "metadata": {},
     "output_type": "display_data"
    }
   ],
   "source": [
    "# Should this not be with the barstack function\n",
    "\n",
    "\n",
    "# Stacked bar chart (for 2 senators per state)\n",
    "\n",
    "# since data is sorted by population, senators from the same state must be adjacent\n",
    "# so taking every other one gives one from each state\n",
    "stack_1 = sorts[sorts.index % 2 == 0]\n",
    "stack_2 = sorts[sorts.index % 2 == 1]\n",
    "\n",
    "# colors stuff, as above\n",
    "# colors1 = [colordict[k] for k in list(stack_1['Party'])]\n",
    "# colors2 = [colordict[k] for k in list(stack_2['Party'])]\n",
    "\n",
    "\n",
    "# bottom half of bar chart\n",
    "trace1 = go.Bar(\n",
    "    x=list(stack_1['State']),\n",
    "    y=list(stack_1['Population']/2), # divide state pop in two so two senators makes the right pop come out\n",
    "    # But don't want hovering to SHOW this\n",
    "    marker_color = stack_1['color'],\n",
    "    text=list(stack_1['Senator'])) # hovering shows state\n",
    "\n",
    "# top half, same thing\n",
    "trace2 = go.Bar(\n",
    "    x=list(stack_1['State']), # maybe do abbreviations? \n",
    "    y=list(stack_2['Population']/2),\n",
    "    marker_color = stack_2['color'],\n",
    "    hovertext=list(stack_2['Senator'])) \n",
    "\n",
    "# make chart!\n",
    "fig = go.Figure([trace1])\n",
    "fig.add_trace(trace2)\n",
    "\n",
    "# add a line between 9 and 10 to show the halfway point\n",
    "# @TODO: make robust against different distributions of population\n",
    "fig.add_vline(x=9.5, line_dash='dot')\n",
    "\n",
    "fig.update_layout(barmode='stack', \n",
    "                  xaxis={'categoryorder':'total descending'}, \n",
    "                  showlegend = False,\n",
    "                 title = \"# of People each Senator Represents\",\n",
    "                 template = 'plotly_white')\n",
    "fig.show()    "
   ]
  },
  {
   "cell_type": "code",
   "execution_count": 21,
   "metadata": {},
   "outputs": [
    {
     "data": {
      "text/html": [
       "<div>\n",
       "<style scoped>\n",
       "    .dataframe tbody tr th:only-of-type {\n",
       "        vertical-align: middle;\n",
       "    }\n",
       "\n",
       "    .dataframe tbody tr th {\n",
       "        vertical-align: top;\n",
       "    }\n",
       "\n",
       "    .dataframe thead th {\n",
       "        text-align: right;\n",
       "    }\n",
       "</style>\n",
       "<table border=\"1\" class=\"dataframe\">\n",
       "  <thead>\n",
       "    <tr style=\"text-align: right;\">\n",
       "      <th></th>\n",
       "      <th>State</th>\n",
       "      <th>Senator</th>\n",
       "      <th>Party</th>\n",
       "      <th>Born</th>\n",
       "      <th>Assumed office</th>\n",
       "      <th>Term up</th>\n",
       "      <th>Population</th>\n",
       "      <th>color</th>\n",
       "    </tr>\n",
       "  </thead>\n",
       "  <tbody>\n",
       "    <tr>\n",
       "      <th>2</th>\n",
       "      <td>Vermont</td>\n",
       "      <td>Bernie Sanders</td>\n",
       "      <td>Independent</td>\n",
       "      <td>(age 79)</td>\n",
       "      <td>January 3, 2007</td>\n",
       "      <td>2024</td>\n",
       "      <td>623989</td>\n",
       "      <td>gray</td>\n",
       "    </tr>\n",
       "    <tr>\n",
       "      <th>3</th>\n",
       "      <td>Vermont</td>\n",
       "      <td>Patrick Leahy</td>\n",
       "      <td>Democratic</td>\n",
       "      <td>(age 80)</td>\n",
       "      <td>January 3, 1975</td>\n",
       "      <td>2022</td>\n",
       "      <td>623989</td>\n",
       "      <td>blue</td>\n",
       "    </tr>\n",
       "    <tr>\n",
       "      <th>10</th>\n",
       "      <td>Delaware</td>\n",
       "      <td>Chris Coons</td>\n",
       "      <td>Democratic</td>\n",
       "      <td>(age 57)</td>\n",
       "      <td>November 15, 2010[i]</td>\n",
       "      <td>2026</td>\n",
       "      <td>973764</td>\n",
       "      <td>blue</td>\n",
       "    </tr>\n",
       "    <tr>\n",
       "      <th>11</th>\n",
       "      <td>Delaware</td>\n",
       "      <td>Tom Carper</td>\n",
       "      <td>Democratic</td>\n",
       "      <td>(age 74)</td>\n",
       "      <td>January 3, 2001</td>\n",
       "      <td>2024</td>\n",
       "      <td>973764</td>\n",
       "      <td>blue</td>\n",
       "    </tr>\n",
       "    <tr>\n",
       "      <th>12</th>\n",
       "      <td>Rhode Island</td>\n",
       "      <td>Jack Reed</td>\n",
       "      <td>Democratic</td>\n",
       "      <td>(age 71)</td>\n",
       "      <td>January 3, 1997</td>\n",
       "      <td>2026</td>\n",
       "      <td>1059361</td>\n",
       "      <td>blue</td>\n",
       "    </tr>\n",
       "  </tbody>\n",
       "</table>\n",
       "</div>"
      ],
      "text/plain": [
       "           State         Senator        Party      Born        Assumed office  \\\n",
       "2        Vermont  Bernie Sanders  Independent  (age 79)       January 3, 2007   \n",
       "3        Vermont   Patrick Leahy   Democratic  (age 80)       January 3, 1975   \n",
       "10      Delaware     Chris Coons   Democratic  (age 57)  November 15, 2010[i]   \n",
       "11      Delaware      Tom Carper   Democratic  (age 74)       January 3, 2001   \n",
       "12  Rhode Island       Jack Reed   Democratic  (age 71)       January 3, 1997   \n",
       "\n",
       "    Term up  Population color  \n",
       "2      2024      623989  gray  \n",
       "3      2022      623989  blue  \n",
       "10     2026      973764  blue  \n",
       "11     2024      973764  blue  \n",
       "12     2026     1059361  blue  "
      ]
     },
     "execution_count": 21,
     "metadata": {},
     "output_type": "execute_result"
    }
   ],
   "source": [
    "# Polar chart - Senate chamber style\n",
    "# SETUP\n",
    "\n",
    "# specifies two side-by-side subplots\n",
    "fig = make_subplots(rows=1, cols=2, specs=[[{'type': 'polar'}]*2]*1, horizontal_spacing=0)\n",
    "\n",
    "# put coords in table?\n",
    "rep_coords = [(r, a*90 / (r+2)) for a in range(12) for r in range(max(5, a-2),10)]\n",
    "dem_coords = [(r, 180 - a*90 / (r+2)) for a in range(12) for r in range(max(5, a-2),10)]\n",
    "\n",
    "\n",
    "Ds = sorts[sorts['Party'] != 'Republican']\n",
    "Rs = sorts[sorts['Party'] == 'Republican']\n",
    "\n",
    "Ds.head()"
   ]
  },
  {
   "cell_type": "code",
   "execution_count": 23,
   "metadata": {},
   "outputs": [
    {
     "data": {
      "application/vnd.plotly.v1+json": {
       "config": {
        "plotlyServerURL": "https://plot.ly"
       },
       "data": [
        {
         "marker": {
          "color": [
           "gray",
           "blue",
           "blue",
           "blue",
           "blue",
           "blue",
           "blue",
           "gray",
           "blue",
           "blue",
           "blue",
           "blue",
           "blue",
           "blue",
           "blue",
           "blue",
           "blue",
           "blue",
           "blue",
           "blue",
           "blue",
           "blue",
           "blue",
           "blue",
           "blue",
           "blue",
           "blue",
           "blue",
           "blue",
           "blue",
           "blue",
           "blue",
           "blue",
           "blue",
           "blue",
           "blue",
           "blue",
           "blue",
           "blue",
           "blue",
           "blue",
           "blue",
           "blue",
           "blue",
           "blue",
           "blue",
           "blue",
           "blue",
           "blue",
           "blue"
          ],
          "size": [
           623989,
           623989,
           973764,
           973764,
           1059361,
           1059361,
           1068778,
           1344212,
           1359711,
           1359711,
           1415872,
           1415872,
           1792147,
           2096829,
           2096829,
           3080156,
           3080156,
           3565287,
           3565287,
           4217737,
           4217737,
           5639632,
           5639632,
           5758736,
           5758736,
           5822434,
           6045680,
           6045680,
           6892503,
           6892503,
           7278717,
           7278717,
           7614893,
           7614893,
           8535519,
           8535519,
           8882190,
           8882190,
           9986857,
           9986857,
           10617423,
           10617423,
           11689100,
           12671821,
           12671821,
           12801989,
           19453561,
           19453561,
           39512223,
           39512223
          ],
          "sizemin": 4,
          "sizemode": "area",
          "sizeref": 32000
         },
         "mode": "markers",
         "r": [
          5,
          6,
          7,
          8,
          9,
          5,
          6,
          7,
          8,
          9,
          5,
          6,
          7,
          8,
          9,
          5,
          6,
          7,
          8,
          9,
          5,
          6,
          7,
          8,
          9,
          5,
          6,
          7,
          8,
          9,
          5,
          6,
          7,
          8,
          9,
          5,
          6,
          7,
          8,
          9,
          6,
          7,
          8,
          9,
          7,
          8,
          9,
          8,
          9,
          9
         ],
         "subplot": "polar",
         "text": [
          "Bernie Sanders",
          "Patrick Leahy",
          "Chris Coons",
          "Tom Carper",
          "Jack Reed",
          "Sheldon Whitehouse",
          "Jon Tester",
          "Angus King",
          "Maggie Hassan",
          "Jeanne Shaheen",
          "Brian Schatz",
          "Mazie Hirono",
          "Joe Manchin",
          "Martin Heinrich",
          "Ben Ray Luján",
          "Catherine Cortez Masto",
          "Jacky Rosen",
          "Chris Murphy",
          "Richard Blumenthal",
          "Ron Wyden",
          "Jeff Merkley",
          "Tina Smith",
          "Amy Klobuchar",
          "Michael Bennet",
          "John Hickenlooper",
          "Tammy Baldwin",
          "Chris Van Hollen",
          "Ben Cardin",
          "Ed Markey",
          "Elizabeth Warren",
          "Kyrsten Sinema",
          "Mark Kelly",
          "Maria Cantwell",
          "Patty Murray",
          "Tim Kaine",
          "Mark Warner",
          "Bob Menendez",
          "Cory Booker",
          "Gary Peters",
          "Debbie Stabenow",
          "Jon Ossoff",
          "Raphael Warnock",
          "Sherrod Brown",
          "Tammy Duckworth",
          "Dick Durbin",
          "Bob Casey Jr.",
          "Chuck Schumer",
          "Kirsten Gillibrand",
          "Dianne Feinstein",
          "Alex Padilla"
         ],
         "theta": [
          180,
          180,
          180,
          180,
          180,
          167.14285714285714,
          168.75,
          170,
          171,
          171.8181818181818,
          154.28571428571428,
          157.5,
          160,
          162,
          163.63636363636363,
          141.42857142857144,
          146.25,
          150,
          153,
          155.45454545454544,
          128.57142857142856,
          135,
          140,
          144,
          147.27272727272728,
          115.71428571428571,
          123.75,
          130,
          135,
          139.0909090909091,
          102.85714285714286,
          112.5,
          120,
          126,
          130.9090909090909,
          90,
          101.25,
          110,
          117,
          122.72727272727272,
          90,
          100,
          108,
          114.54545454545455,
          90,
          99,
          106.36363636363636,
          90,
          98.18181818181819,
          90
         ],
         "type": "scatterpolar"
        },
        {
         "marker": {
          "color": [
           "red",
           "red",
           "red",
           "red",
           "red",
           "red",
           "red",
           "red",
           "red",
           "red",
           "red",
           "red",
           "red",
           "red",
           "red",
           "red",
           "red",
           "red",
           "red",
           "red",
           "red",
           "red",
           "red",
           "red",
           "red",
           "red",
           "red",
           "red",
           "red",
           "red",
           "red",
           "red",
           "red",
           "red",
           "red",
           "red",
           "red",
           "red",
           "red",
           "red",
           "red",
           "red",
           "red",
           "red",
           "red",
           "red",
           "red",
           "red",
           "red",
           "red"
          ],
          "size": [
           578759,
           578759,
           731545,
           731545,
           762062,
           762062,
           884659,
           884659,
           1068778,
           1344212,
           1787065,
           1787065,
           1792147,
           1934408,
           1934408,
           2913314,
           2913314,
           2976149,
           2976149,
           3017804,
           3017804,
           3155070,
           3155070,
           3205958,
           3205958,
           3956971,
           3956971,
           4467673,
           4467673,
           4648794,
           4648794,
           4903185,
           4903185,
           5148714,
           5148714,
           5822434,
           6137428,
           6137428,
           6732219,
           6732219,
           6829174,
           6829174,
           10488084,
           10488084,
           11689100,
           12801989,
           21477737,
           21477737,
           28995881,
           28995881
          ],
          "sizemin": 4,
          "sizemode": "area",
          "sizeref": 32000
         },
         "mode": "markers",
         "r": [
          5,
          6,
          7,
          8,
          9,
          5,
          6,
          7,
          8,
          9,
          5,
          6,
          7,
          8,
          9,
          5,
          6,
          7,
          8,
          9,
          5,
          6,
          7,
          8,
          9,
          5,
          6,
          7,
          8,
          9,
          5,
          6,
          7,
          8,
          9,
          5,
          6,
          7,
          8,
          9,
          6,
          7,
          8,
          9,
          7,
          8,
          9,
          8,
          9,
          9
         ],
         "subplot": "polar2",
         "text": [
          "Cynthia Lummis",
          "John Barrasso",
          "Lisa Murkowski",
          "Dan Sullivan",
          "John Hoeven",
          "Kevin Cramer",
          "Mike Rounds",
          "John Thune",
          "Steve Daines",
          "Susan Collins",
          "Mike Crapo",
          "Jim Risch",
          "Shelley Moore Capito",
          "Deb Fischer",
          "Ben Sasse",
          "Jerry Moran",
          "Roger Marshall",
          "Cindy Hyde-Smith",
          "Roger Wicker",
          "John Boozman",
          "Tom Cotton",
          "Joni Ernst",
          "Chuck Grassley",
          "Mitt Romney",
          "Mike Lee",
          "James Lankford",
          "Jim Inhofe",
          "Mitch McConnell",
          "Rand Paul",
          "Bill Cassidy",
          "John Kennedy",
          "Richard Shelby",
          "Tommy Tuberville",
          "Tim Scott",
          "Lindsey Graham",
          "Ron Johnson",
          "Roy Blunt",
          "Josh Hawley",
          "Mike Braun",
          "Todd Young",
          "Marsha Blackburn",
          "Bill Hagerty",
          "Richard Burr",
          "Thom Tillis",
          "Rob Portman",
          "Pat Toomey",
          "Rick Scott",
          "Marco Rubio",
          "Ted Cruz",
          "John Cornyn"
         ],
         "theta": [
          0,
          0,
          0,
          0,
          0,
          12.857142857142858,
          11.25,
          10,
          9,
          8.181818181818182,
          25.714285714285715,
          22.5,
          20,
          18,
          16.363636363636363,
          38.57142857142857,
          33.75,
          30,
          27,
          24.545454545454547,
          51.42857142857143,
          45,
          40,
          36,
          32.72727272727273,
          64.28571428571429,
          56.25,
          50,
          45,
          40.90909090909091,
          77.14285714285714,
          67.5,
          60,
          54,
          49.09090909090909,
          90,
          78.75,
          70,
          63,
          57.27272727272727,
          90,
          80,
          72,
          65.45454545454545,
          90,
          81,
          73.63636363636364,
          90,
          81.81818181818181,
          90
         ],
         "type": "scatterpolar"
        },
        {
         "marker": {
          "color": [
           "gray",
           "blue",
           "blue",
           "blue",
           "blue",
           "blue",
           "blue",
           "gray",
           "blue",
           "blue",
           "blue",
           "blue",
           "blue",
           "blue",
           "blue",
           "blue",
           "blue",
           "blue",
           "blue",
           "blue",
           "blue",
           "blue",
           "blue",
           "blue",
           "blue",
           "blue",
           "blue",
           "blue",
           "blue",
           "blue",
           "blue",
           "blue",
           "blue",
           "blue",
           "blue",
           "blue",
           "blue",
           "blue",
           "blue",
           "blue",
           "blue",
           "blue",
           "blue",
           "blue",
           "blue",
           "blue",
           "blue",
           "blue",
           "blue",
           "blue"
          ],
          "size": [
           623989,
           623989,
           973764,
           973764,
           1059361,
           1059361,
           1068778,
           1344212,
           1359711,
           1359711,
           1415872,
           1415872,
           1792147,
           2096829,
           2096829,
           3080156,
           3080156,
           3565287,
           3565287,
           4217737,
           4217737,
           5639632,
           5639632,
           5758736,
           5758736,
           5822434,
           6045680,
           6045680,
           6892503,
           6892503,
           7278717,
           7278717,
           7614893,
           7614893,
           8535519,
           8535519,
           8882190,
           8882190,
           9986857,
           9986857,
           10617423,
           10617423,
           11689100,
           12671821,
           12671821,
           12801989,
           19453561,
           19453561,
           39512223,
           39512223
          ],
          "sizemin": 4,
          "sizemode": "area",
          "sizeref": 32000
         },
         "mode": "markers",
         "r": [
          5,
          6,
          7,
          8,
          9,
          5,
          6,
          7,
          8,
          9,
          5,
          6,
          7,
          8,
          9,
          5,
          6,
          7,
          8,
          9,
          5,
          6,
          7,
          8,
          9,
          5,
          6,
          7,
          8,
          9,
          5,
          6,
          7,
          8,
          9,
          5,
          6,
          7,
          8,
          9,
          6,
          7,
          8,
          9,
          7,
          8,
          9,
          8,
          9,
          9
         ],
         "subplot": "polar",
         "text": [
          "Bernie Sanders",
          "Patrick Leahy",
          "Chris Coons",
          "Tom Carper",
          "Jack Reed",
          "Sheldon Whitehouse",
          "Jon Tester",
          "Angus King",
          "Maggie Hassan",
          "Jeanne Shaheen",
          "Brian Schatz",
          "Mazie Hirono",
          "Joe Manchin",
          "Martin Heinrich",
          "Ben Ray Luján",
          "Catherine Cortez Masto",
          "Jacky Rosen",
          "Chris Murphy",
          "Richard Blumenthal",
          "Ron Wyden",
          "Jeff Merkley",
          "Tina Smith",
          "Amy Klobuchar",
          "Michael Bennet",
          "John Hickenlooper",
          "Tammy Baldwin",
          "Chris Van Hollen",
          "Ben Cardin",
          "Ed Markey",
          "Elizabeth Warren",
          "Kyrsten Sinema",
          "Mark Kelly",
          "Maria Cantwell",
          "Patty Murray",
          "Tim Kaine",
          "Mark Warner",
          "Bob Menendez",
          "Cory Booker",
          "Gary Peters",
          "Debbie Stabenow",
          "Jon Ossoff",
          "Raphael Warnock",
          "Sherrod Brown",
          "Tammy Duckworth",
          "Dick Durbin",
          "Bob Casey Jr.",
          "Chuck Schumer",
          "Kirsten Gillibrand",
          "Dianne Feinstein",
          "Alex Padilla"
         ],
         "theta": [
          180,
          180,
          180,
          180,
          180,
          167.14285714285714,
          168.75,
          170,
          171,
          171.8181818181818,
          154.28571428571428,
          157.5,
          160,
          162,
          163.63636363636363,
          141.42857142857144,
          146.25,
          150,
          153,
          155.45454545454544,
          128.57142857142856,
          135,
          140,
          144,
          147.27272727272728,
          115.71428571428571,
          123.75,
          130,
          135,
          139.0909090909091,
          102.85714285714286,
          112.5,
          120,
          126,
          130.9090909090909,
          90,
          101.25,
          110,
          117,
          122.72727272727272,
          90,
          100,
          108,
          114.54545454545455,
          90,
          99,
          106.36363636363636,
          90,
          98.18181818181819,
          90
         ],
         "type": "scatterpolar"
        },
        {
         "marker": {
          "color": [
           "red",
           "red",
           "red",
           "red",
           "red",
           "red",
           "red",
           "red",
           "red",
           "red",
           "red",
           "red",
           "red",
           "red",
           "red",
           "red",
           "red",
           "red",
           "red",
           "red",
           "red",
           "red",
           "red",
           "red",
           "red",
           "red",
           "red",
           "red",
           "red",
           "red",
           "red",
           "red",
           "red",
           "red",
           "red",
           "red",
           "red",
           "red",
           "red",
           "red",
           "red",
           "red",
           "red",
           "red",
           "red",
           "red",
           "red",
           "red",
           "red",
           "red"
          ],
          "size": [
           578759,
           578759,
           731545,
           731545,
           762062,
           762062,
           884659,
           884659,
           1068778,
           1344212,
           1787065,
           1787065,
           1792147,
           1934408,
           1934408,
           2913314,
           2913314,
           2976149,
           2976149,
           3017804,
           3017804,
           3155070,
           3155070,
           3205958,
           3205958,
           3956971,
           3956971,
           4467673,
           4467673,
           4648794,
           4648794,
           4903185,
           4903185,
           5148714,
           5148714,
           5822434,
           6137428,
           6137428,
           6732219,
           6732219,
           6829174,
           6829174,
           10488084,
           10488084,
           11689100,
           12801989,
           21477737,
           21477737,
           28995881,
           28995881
          ],
          "sizemin": 4,
          "sizemode": "area",
          "sizeref": 32000
         },
         "mode": "markers",
         "r": [
          5,
          6,
          7,
          8,
          9,
          5,
          6,
          7,
          8,
          9,
          5,
          6,
          7,
          8,
          9,
          5,
          6,
          7,
          8,
          9,
          5,
          6,
          7,
          8,
          9,
          5,
          6,
          7,
          8,
          9,
          5,
          6,
          7,
          8,
          9,
          5,
          6,
          7,
          8,
          9,
          6,
          7,
          8,
          9,
          7,
          8,
          9,
          8,
          9,
          9
         ],
         "subplot": "polar2",
         "text": [
          "Cynthia Lummis",
          "John Barrasso",
          "Lisa Murkowski",
          "Dan Sullivan",
          "John Hoeven",
          "Kevin Cramer",
          "Mike Rounds",
          "John Thune",
          "Steve Daines",
          "Susan Collins",
          "Mike Crapo",
          "Jim Risch",
          "Shelley Moore Capito",
          "Deb Fischer",
          "Ben Sasse",
          "Jerry Moran",
          "Roger Marshall",
          "Cindy Hyde-Smith",
          "Roger Wicker",
          "John Boozman",
          "Tom Cotton",
          "Joni Ernst",
          "Chuck Grassley",
          "Mitt Romney",
          "Mike Lee",
          "James Lankford",
          "Jim Inhofe",
          "Mitch McConnell",
          "Rand Paul",
          "Bill Cassidy",
          "John Kennedy",
          "Richard Shelby",
          "Tommy Tuberville",
          "Tim Scott",
          "Lindsey Graham",
          "Ron Johnson",
          "Roy Blunt",
          "Josh Hawley",
          "Mike Braun",
          "Todd Young",
          "Marsha Blackburn",
          "Bill Hagerty",
          "Richard Burr",
          "Thom Tillis",
          "Rob Portman",
          "Pat Toomey",
          "Rick Scott",
          "Marco Rubio",
          "Ted Cruz",
          "John Cornyn"
         ],
         "theta": [
          0,
          0,
          0,
          0,
          0,
          12.857142857142858,
          11.25,
          10,
          9,
          8.181818181818182,
          25.714285714285715,
          22.5,
          20,
          18,
          16.363636363636363,
          38.57142857142857,
          33.75,
          30,
          27,
          24.545454545454547,
          51.42857142857143,
          45,
          40,
          36,
          32.72727272727273,
          64.28571428571429,
          56.25,
          50,
          45,
          40.90909090909091,
          77.14285714285714,
          67.5,
          60,
          54,
          49.09090909090909,
          90,
          78.75,
          70,
          63,
          57.27272727272727,
          90,
          80,
          72,
          65.45454545454545,
          90,
          81,
          73.63636363636364,
          90,
          81.81818181818181,
          90
         ],
         "type": "scatterpolar"
        }
       ],
       "layout": {
        "font": {
         "size": 15
        },
        "paper_bgcolor": "white",
        "polar": {
         "angularaxis": {
          "showline": false,
          "showticklabels": false,
          "ticks": ""
         },
         "bgcolor": "white",
         "domain": {
          "x": [
           0,
           0.5
          ],
          "y": [
           0,
           1
          ]
         },
         "radialaxis": {
          "showline": false,
          "showticklabels": false,
          "ticks": ""
         },
         "sector": [
          90,
          180
         ]
        },
        "polar2": {
         "angularaxis": {
          "showline": false,
          "showticklabels": false,
          "ticks": ""
         },
         "bgcolor": "white",
         "domain": {
          "x": [
           0.5,
           1
          ],
          "y": [
           0,
           1
          ]
         },
         "radialaxis": {
          "showline": false,
          "showticklabels": false,
          "ticks": ""
         },
         "sector": [
          0,
          90
         ]
        },
        "showlegend": false,
        "template": {
         "data": {
          "bar": [
           {
            "error_x": {
             "color": "#2a3f5f"
            },
            "error_y": {
             "color": "#2a3f5f"
            },
            "marker": {
             "line": {
              "color": "#E5ECF6",
              "width": 0.5
             }
            },
            "type": "bar"
           }
          ],
          "barpolar": [
           {
            "marker": {
             "line": {
              "color": "#E5ECF6",
              "width": 0.5
             }
            },
            "type": "barpolar"
           }
          ],
          "carpet": [
           {
            "aaxis": {
             "endlinecolor": "#2a3f5f",
             "gridcolor": "white",
             "linecolor": "white",
             "minorgridcolor": "white",
             "startlinecolor": "#2a3f5f"
            },
            "baxis": {
             "endlinecolor": "#2a3f5f",
             "gridcolor": "white",
             "linecolor": "white",
             "minorgridcolor": "white",
             "startlinecolor": "#2a3f5f"
            },
            "type": "carpet"
           }
          ],
          "choropleth": [
           {
            "colorbar": {
             "outlinewidth": 0,
             "ticks": ""
            },
            "type": "choropleth"
           }
          ],
          "contour": [
           {
            "colorbar": {
             "outlinewidth": 0,
             "ticks": ""
            },
            "colorscale": [
             [
              0,
              "#0d0887"
             ],
             [
              0.1111111111111111,
              "#46039f"
             ],
             [
              0.2222222222222222,
              "#7201a8"
             ],
             [
              0.3333333333333333,
              "#9c179e"
             ],
             [
              0.4444444444444444,
              "#bd3786"
             ],
             [
              0.5555555555555556,
              "#d8576b"
             ],
             [
              0.6666666666666666,
              "#ed7953"
             ],
             [
              0.7777777777777778,
              "#fb9f3a"
             ],
             [
              0.8888888888888888,
              "#fdca26"
             ],
             [
              1,
              "#f0f921"
             ]
            ],
            "type": "contour"
           }
          ],
          "contourcarpet": [
           {
            "colorbar": {
             "outlinewidth": 0,
             "ticks": ""
            },
            "type": "contourcarpet"
           }
          ],
          "heatmap": [
           {
            "colorbar": {
             "outlinewidth": 0,
             "ticks": ""
            },
            "colorscale": [
             [
              0,
              "#0d0887"
             ],
             [
              0.1111111111111111,
              "#46039f"
             ],
             [
              0.2222222222222222,
              "#7201a8"
             ],
             [
              0.3333333333333333,
              "#9c179e"
             ],
             [
              0.4444444444444444,
              "#bd3786"
             ],
             [
              0.5555555555555556,
              "#d8576b"
             ],
             [
              0.6666666666666666,
              "#ed7953"
             ],
             [
              0.7777777777777778,
              "#fb9f3a"
             ],
             [
              0.8888888888888888,
              "#fdca26"
             ],
             [
              1,
              "#f0f921"
             ]
            ],
            "type": "heatmap"
           }
          ],
          "heatmapgl": [
           {
            "colorbar": {
             "outlinewidth": 0,
             "ticks": ""
            },
            "colorscale": [
             [
              0,
              "#0d0887"
             ],
             [
              0.1111111111111111,
              "#46039f"
             ],
             [
              0.2222222222222222,
              "#7201a8"
             ],
             [
              0.3333333333333333,
              "#9c179e"
             ],
             [
              0.4444444444444444,
              "#bd3786"
             ],
             [
              0.5555555555555556,
              "#d8576b"
             ],
             [
              0.6666666666666666,
              "#ed7953"
             ],
             [
              0.7777777777777778,
              "#fb9f3a"
             ],
             [
              0.8888888888888888,
              "#fdca26"
             ],
             [
              1,
              "#f0f921"
             ]
            ],
            "type": "heatmapgl"
           }
          ],
          "histogram": [
           {
            "marker": {
             "colorbar": {
              "outlinewidth": 0,
              "ticks": ""
             }
            },
            "type": "histogram"
           }
          ],
          "histogram2d": [
           {
            "colorbar": {
             "outlinewidth": 0,
             "ticks": ""
            },
            "colorscale": [
             [
              0,
              "#0d0887"
             ],
             [
              0.1111111111111111,
              "#46039f"
             ],
             [
              0.2222222222222222,
              "#7201a8"
             ],
             [
              0.3333333333333333,
              "#9c179e"
             ],
             [
              0.4444444444444444,
              "#bd3786"
             ],
             [
              0.5555555555555556,
              "#d8576b"
             ],
             [
              0.6666666666666666,
              "#ed7953"
             ],
             [
              0.7777777777777778,
              "#fb9f3a"
             ],
             [
              0.8888888888888888,
              "#fdca26"
             ],
             [
              1,
              "#f0f921"
             ]
            ],
            "type": "histogram2d"
           }
          ],
          "histogram2dcontour": [
           {
            "colorbar": {
             "outlinewidth": 0,
             "ticks": ""
            },
            "colorscale": [
             [
              0,
              "#0d0887"
             ],
             [
              0.1111111111111111,
              "#46039f"
             ],
             [
              0.2222222222222222,
              "#7201a8"
             ],
             [
              0.3333333333333333,
              "#9c179e"
             ],
             [
              0.4444444444444444,
              "#bd3786"
             ],
             [
              0.5555555555555556,
              "#d8576b"
             ],
             [
              0.6666666666666666,
              "#ed7953"
             ],
             [
              0.7777777777777778,
              "#fb9f3a"
             ],
             [
              0.8888888888888888,
              "#fdca26"
             ],
             [
              1,
              "#f0f921"
             ]
            ],
            "type": "histogram2dcontour"
           }
          ],
          "mesh3d": [
           {
            "colorbar": {
             "outlinewidth": 0,
             "ticks": ""
            },
            "type": "mesh3d"
           }
          ],
          "parcoords": [
           {
            "line": {
             "colorbar": {
              "outlinewidth": 0,
              "ticks": ""
             }
            },
            "type": "parcoords"
           }
          ],
          "pie": [
           {
            "automargin": true,
            "type": "pie"
           }
          ],
          "scatter": [
           {
            "marker": {
             "colorbar": {
              "outlinewidth": 0,
              "ticks": ""
             }
            },
            "type": "scatter"
           }
          ],
          "scatter3d": [
           {
            "line": {
             "colorbar": {
              "outlinewidth": 0,
              "ticks": ""
             }
            },
            "marker": {
             "colorbar": {
              "outlinewidth": 0,
              "ticks": ""
             }
            },
            "type": "scatter3d"
           }
          ],
          "scattercarpet": [
           {
            "marker": {
             "colorbar": {
              "outlinewidth": 0,
              "ticks": ""
             }
            },
            "type": "scattercarpet"
           }
          ],
          "scattergeo": [
           {
            "marker": {
             "colorbar": {
              "outlinewidth": 0,
              "ticks": ""
             }
            },
            "type": "scattergeo"
           }
          ],
          "scattergl": [
           {
            "marker": {
             "colorbar": {
              "outlinewidth": 0,
              "ticks": ""
             }
            },
            "type": "scattergl"
           }
          ],
          "scattermapbox": [
           {
            "marker": {
             "colorbar": {
              "outlinewidth": 0,
              "ticks": ""
             }
            },
            "type": "scattermapbox"
           }
          ],
          "scatterpolar": [
           {
            "marker": {
             "colorbar": {
              "outlinewidth": 0,
              "ticks": ""
             }
            },
            "type": "scatterpolar"
           }
          ],
          "scatterpolargl": [
           {
            "marker": {
             "colorbar": {
              "outlinewidth": 0,
              "ticks": ""
             }
            },
            "type": "scatterpolargl"
           }
          ],
          "scatterternary": [
           {
            "marker": {
             "colorbar": {
              "outlinewidth": 0,
              "ticks": ""
             }
            },
            "type": "scatterternary"
           }
          ],
          "surface": [
           {
            "colorbar": {
             "outlinewidth": 0,
             "ticks": ""
            },
            "colorscale": [
             [
              0,
              "#0d0887"
             ],
             [
              0.1111111111111111,
              "#46039f"
             ],
             [
              0.2222222222222222,
              "#7201a8"
             ],
             [
              0.3333333333333333,
              "#9c179e"
             ],
             [
              0.4444444444444444,
              "#bd3786"
             ],
             [
              0.5555555555555556,
              "#d8576b"
             ],
             [
              0.6666666666666666,
              "#ed7953"
             ],
             [
              0.7777777777777778,
              "#fb9f3a"
             ],
             [
              0.8888888888888888,
              "#fdca26"
             ],
             [
              1,
              "#f0f921"
             ]
            ],
            "type": "surface"
           }
          ],
          "table": [
           {
            "cells": {
             "fill": {
              "color": "#EBF0F8"
             },
             "line": {
              "color": "white"
             }
            },
            "header": {
             "fill": {
              "color": "#C8D4E3"
             },
             "line": {
              "color": "white"
             }
            },
            "type": "table"
           }
          ]
         },
         "layout": {
          "annotationdefaults": {
           "arrowcolor": "#2a3f5f",
           "arrowhead": 0,
           "arrowwidth": 1
          },
          "autotypenumbers": "strict",
          "coloraxis": {
           "colorbar": {
            "outlinewidth": 0,
            "ticks": ""
           }
          },
          "colorscale": {
           "diverging": [
            [
             0,
             "#8e0152"
            ],
            [
             0.1,
             "#c51b7d"
            ],
            [
             0.2,
             "#de77ae"
            ],
            [
             0.3,
             "#f1b6da"
            ],
            [
             0.4,
             "#fde0ef"
            ],
            [
             0.5,
             "#f7f7f7"
            ],
            [
             0.6,
             "#e6f5d0"
            ],
            [
             0.7,
             "#b8e186"
            ],
            [
             0.8,
             "#7fbc41"
            ],
            [
             0.9,
             "#4d9221"
            ],
            [
             1,
             "#276419"
            ]
           ],
           "sequential": [
            [
             0,
             "#0d0887"
            ],
            [
             0.1111111111111111,
             "#46039f"
            ],
            [
             0.2222222222222222,
             "#7201a8"
            ],
            [
             0.3333333333333333,
             "#9c179e"
            ],
            [
             0.4444444444444444,
             "#bd3786"
            ],
            [
             0.5555555555555556,
             "#d8576b"
            ],
            [
             0.6666666666666666,
             "#ed7953"
            ],
            [
             0.7777777777777778,
             "#fb9f3a"
            ],
            [
             0.8888888888888888,
             "#fdca26"
            ],
            [
             1,
             "#f0f921"
            ]
           ],
           "sequentialminus": [
            [
             0,
             "#0d0887"
            ],
            [
             0.1111111111111111,
             "#46039f"
            ],
            [
             0.2222222222222222,
             "#7201a8"
            ],
            [
             0.3333333333333333,
             "#9c179e"
            ],
            [
             0.4444444444444444,
             "#bd3786"
            ],
            [
             0.5555555555555556,
             "#d8576b"
            ],
            [
             0.6666666666666666,
             "#ed7953"
            ],
            [
             0.7777777777777778,
             "#fb9f3a"
            ],
            [
             0.8888888888888888,
             "#fdca26"
            ],
            [
             1,
             "#f0f921"
            ]
           ]
          },
          "colorway": [
           "#636efa",
           "#EF553B",
           "#00cc96",
           "#ab63fa",
           "#FFA15A",
           "#19d3f3",
           "#FF6692",
           "#B6E880",
           "#FF97FF",
           "#FECB52"
          ],
          "font": {
           "color": "#2a3f5f"
          },
          "geo": {
           "bgcolor": "white",
           "lakecolor": "white",
           "landcolor": "#E5ECF6",
           "showlakes": true,
           "showland": true,
           "subunitcolor": "white"
          },
          "hoverlabel": {
           "align": "left"
          },
          "hovermode": "closest",
          "mapbox": {
           "style": "light"
          },
          "paper_bgcolor": "white",
          "plot_bgcolor": "#E5ECF6",
          "polar": {
           "angularaxis": {
            "gridcolor": "white",
            "linecolor": "white",
            "ticks": ""
           },
           "bgcolor": "#E5ECF6",
           "radialaxis": {
            "gridcolor": "white",
            "linecolor": "white",
            "ticks": ""
           }
          },
          "scene": {
           "xaxis": {
            "backgroundcolor": "#E5ECF6",
            "gridcolor": "white",
            "gridwidth": 2,
            "linecolor": "white",
            "showbackground": true,
            "ticks": "",
            "zerolinecolor": "white"
           },
           "yaxis": {
            "backgroundcolor": "#E5ECF6",
            "gridcolor": "white",
            "gridwidth": 2,
            "linecolor": "white",
            "showbackground": true,
            "ticks": "",
            "zerolinecolor": "white"
           },
           "zaxis": {
            "backgroundcolor": "#E5ECF6",
            "gridcolor": "white",
            "gridwidth": 2,
            "linecolor": "white",
            "showbackground": true,
            "ticks": "",
            "zerolinecolor": "white"
           }
          },
          "shapedefaults": {
           "line": {
            "color": "#2a3f5f"
           }
          },
          "ternary": {
           "aaxis": {
            "gridcolor": "white",
            "linecolor": "white",
            "ticks": ""
           },
           "baxis": {
            "gridcolor": "white",
            "linecolor": "white",
            "ticks": ""
           },
           "bgcolor": "#E5ECF6",
           "caxis": {
            "gridcolor": "white",
            "linecolor": "white",
            "ticks": ""
           }
          },
          "title": {
           "x": 0.05
          },
          "xaxis": {
           "automargin": true,
           "gridcolor": "white",
           "linecolor": "white",
           "ticks": "",
           "title": {
            "standoff": 15
           },
           "zerolinecolor": "white",
           "zerolinewidth": 2
          },
          "yaxis": {
           "automargin": true,
           "gridcolor": "white",
           "linecolor": "white",
           "ticks": "",
           "title": {
            "standoff": 15
           },
           "zerolinecolor": "white",
           "zerolinewidth": 2
          }
         }
        },
        "title": {
         "text": "US Senate"
        }
       }
      },
      "text/html": [
       "<div>                            <div id=\"b4e30184-e10f-4988-945f-bb8f32bdec4c\" class=\"plotly-graph-div\" style=\"height:525px; width:100%;\"></div>            <script type=\"text/javascript\">                require([\"plotly\"], function(Plotly) {                    window.PLOTLYENV=window.PLOTLYENV || {};                                    if (document.getElementById(\"b4e30184-e10f-4988-945f-bb8f32bdec4c\")) {                    Plotly.newPlot(                        \"b4e30184-e10f-4988-945f-bb8f32bdec4c\",                        [{\"marker\": {\"color\": [\"gray\", \"blue\", \"blue\", \"blue\", \"blue\", \"blue\", \"blue\", \"gray\", \"blue\", \"blue\", \"blue\", \"blue\", \"blue\", \"blue\", \"blue\", \"blue\", \"blue\", \"blue\", \"blue\", \"blue\", \"blue\", \"blue\", \"blue\", \"blue\", \"blue\", \"blue\", \"blue\", \"blue\", \"blue\", \"blue\", \"blue\", \"blue\", \"blue\", \"blue\", \"blue\", \"blue\", \"blue\", \"blue\", \"blue\", \"blue\", \"blue\", \"blue\", \"blue\", \"blue\", \"blue\", \"blue\", \"blue\", \"blue\", \"blue\", \"blue\"], \"size\": [623989, 623989, 973764, 973764, 1059361, 1059361, 1068778, 1344212, 1359711, 1359711, 1415872, 1415872, 1792147, 2096829, 2096829, 3080156, 3080156, 3565287, 3565287, 4217737, 4217737, 5639632, 5639632, 5758736, 5758736, 5822434, 6045680, 6045680, 6892503, 6892503, 7278717, 7278717, 7614893, 7614893, 8535519, 8535519, 8882190, 8882190, 9986857, 9986857, 10617423, 10617423, 11689100, 12671821, 12671821, 12801989, 19453561, 19453561, 39512223, 39512223], \"sizemin\": 4, \"sizemode\": \"area\", \"sizeref\": 32000.0}, \"mode\": \"markers\", \"r\": [5, 6, 7, 8, 9, 5, 6, 7, 8, 9, 5, 6, 7, 8, 9, 5, 6, 7, 8, 9, 5, 6, 7, 8, 9, 5, 6, 7, 8, 9, 5, 6, 7, 8, 9, 5, 6, 7, 8, 9, 6, 7, 8, 9, 7, 8, 9, 8, 9, 9], \"subplot\": \"polar\", \"text\": [\"Bernie Sanders\", \"Patrick Leahy\", \"Chris Coons\", \"Tom Carper\", \"Jack Reed\", \"Sheldon Whitehouse\", \"Jon Tester\", \"Angus King\", \"Maggie Hassan\", \"Jeanne Shaheen\", \"Brian Schatz\", \"Mazie Hirono\", \"Joe Manchin\", \"Martin Heinrich\", \"Ben Ray Luj\\u00e1n\", \"Catherine Cortez Masto\", \"Jacky Rosen\", \"Chris Murphy\", \"Richard Blumenthal\", \"Ron Wyden\", \"Jeff Merkley\", \"Tina Smith\", \"Amy Klobuchar\", \"Michael Bennet\", \"John Hickenlooper\", \"Tammy Baldwin\", \"Chris Van Hollen\", \"Ben Cardin\", \"Ed Markey\", \"Elizabeth Warren\", \"Kyrsten Sinema\", \"Mark Kelly\", \"Maria Cantwell\", \"Patty Murray\", \"Tim Kaine\", \"Mark Warner\", \"Bob Menendez\", \"Cory Booker\", \"Gary Peters\", \"Debbie Stabenow\", \"Jon Ossoff\", \"Raphael Warnock\", \"Sherrod Brown\", \"Tammy Duckworth\", \"Dick Durbin\", \"Bob Casey Jr.\", \"Chuck Schumer\", \"Kirsten Gillibrand\", \"Dianne Feinstein\", \"Alex Padilla\"], \"theta\": [180.0, 180.0, 180.0, 180.0, 180.0, 167.14285714285714, 168.75, 170.0, 171.0, 171.8181818181818, 154.28571428571428, 157.5, 160.0, 162.0, 163.63636363636363, 141.42857142857144, 146.25, 150.0, 153.0, 155.45454545454544, 128.57142857142856, 135.0, 140.0, 144.0, 147.27272727272728, 115.71428571428571, 123.75, 130.0, 135.0, 139.0909090909091, 102.85714285714286, 112.5, 120.0, 126.0, 130.9090909090909, 90.0, 101.25, 110.0, 117.0, 122.72727272727272, 90.0, 100.0, 108.0, 114.54545454545455, 90.0, 99.0, 106.36363636363636, 90.0, 98.18181818181819, 90.0], \"type\": \"scatterpolar\"}, {\"marker\": {\"color\": [\"red\", \"red\", \"red\", \"red\", \"red\", \"red\", \"red\", \"red\", \"red\", \"red\", \"red\", \"red\", \"red\", \"red\", \"red\", \"red\", \"red\", \"red\", \"red\", \"red\", \"red\", \"red\", \"red\", \"red\", \"red\", \"red\", \"red\", \"red\", \"red\", \"red\", \"red\", \"red\", \"red\", \"red\", \"red\", \"red\", \"red\", \"red\", \"red\", \"red\", \"red\", \"red\", \"red\", \"red\", \"red\", \"red\", \"red\", \"red\", \"red\", \"red\"], \"size\": [578759, 578759, 731545, 731545, 762062, 762062, 884659, 884659, 1068778, 1344212, 1787065, 1787065, 1792147, 1934408, 1934408, 2913314, 2913314, 2976149, 2976149, 3017804, 3017804, 3155070, 3155070, 3205958, 3205958, 3956971, 3956971, 4467673, 4467673, 4648794, 4648794, 4903185, 4903185, 5148714, 5148714, 5822434, 6137428, 6137428, 6732219, 6732219, 6829174, 6829174, 10488084, 10488084, 11689100, 12801989, 21477737, 21477737, 28995881, 28995881], \"sizemin\": 4, \"sizemode\": \"area\", \"sizeref\": 32000.0}, \"mode\": \"markers\", \"r\": [5, 6, 7, 8, 9, 5, 6, 7, 8, 9, 5, 6, 7, 8, 9, 5, 6, 7, 8, 9, 5, 6, 7, 8, 9, 5, 6, 7, 8, 9, 5, 6, 7, 8, 9, 5, 6, 7, 8, 9, 6, 7, 8, 9, 7, 8, 9, 8, 9, 9], \"subplot\": \"polar2\", \"text\": [\"Cynthia Lummis\", \"John Barrasso\", \"Lisa Murkowski\", \"Dan Sullivan\", \"John Hoeven\", \"Kevin Cramer\", \"Mike Rounds\", \"John Thune\", \"Steve Daines\", \"Susan Collins\", \"Mike Crapo\", \"Jim Risch\", \"Shelley Moore Capito\", \"Deb Fischer\", \"Ben Sasse\", \"Jerry Moran\", \"Roger Marshall\", \"Cindy Hyde-Smith\", \"Roger Wicker\", \"John Boozman\", \"Tom Cotton\", \"Joni Ernst\", \"Chuck Grassley\", \"Mitt Romney\", \"Mike Lee\", \"James Lankford\", \"Jim Inhofe\", \"Mitch McConnell\", \"Rand Paul\", \"Bill Cassidy\", \"John Kennedy\", \"Richard Shelby\", \"Tommy Tuberville\", \"Tim Scott\", \"Lindsey Graham\", \"Ron Johnson\", \"Roy Blunt\", \"Josh Hawley\", \"Mike Braun\", \"Todd Young\", \"Marsha Blackburn\", \"Bill Hagerty\", \"Richard Burr\", \"Thom Tillis\", \"Rob Portman\", \"Pat Toomey\", \"Rick Scott\", \"Marco Rubio\", \"Ted Cruz\", \"John Cornyn\"], \"theta\": [0.0, 0.0, 0.0, 0.0, 0.0, 12.857142857142858, 11.25, 10.0, 9.0, 8.181818181818182, 25.714285714285715, 22.5, 20.0, 18.0, 16.363636363636363, 38.57142857142857, 33.75, 30.0, 27.0, 24.545454545454547, 51.42857142857143, 45.0, 40.0, 36.0, 32.72727272727273, 64.28571428571429, 56.25, 50.0, 45.0, 40.90909090909091, 77.14285714285714, 67.5, 60.0, 54.0, 49.09090909090909, 90.0, 78.75, 70.0, 63.0, 57.27272727272727, 90.0, 80.0, 72.0, 65.45454545454545, 90.0, 81.0, 73.63636363636364, 90.0, 81.81818181818181, 90.0], \"type\": \"scatterpolar\"}, {\"marker\": {\"color\": [\"gray\", \"blue\", \"blue\", \"blue\", \"blue\", \"blue\", \"blue\", \"gray\", \"blue\", \"blue\", \"blue\", \"blue\", \"blue\", \"blue\", \"blue\", \"blue\", \"blue\", \"blue\", \"blue\", \"blue\", \"blue\", \"blue\", \"blue\", \"blue\", \"blue\", \"blue\", \"blue\", \"blue\", \"blue\", \"blue\", \"blue\", \"blue\", \"blue\", \"blue\", \"blue\", \"blue\", \"blue\", \"blue\", \"blue\", \"blue\", \"blue\", \"blue\", \"blue\", \"blue\", \"blue\", \"blue\", \"blue\", \"blue\", \"blue\", \"blue\"], \"size\": [623989, 623989, 973764, 973764, 1059361, 1059361, 1068778, 1344212, 1359711, 1359711, 1415872, 1415872, 1792147, 2096829, 2096829, 3080156, 3080156, 3565287, 3565287, 4217737, 4217737, 5639632, 5639632, 5758736, 5758736, 5822434, 6045680, 6045680, 6892503, 6892503, 7278717, 7278717, 7614893, 7614893, 8535519, 8535519, 8882190, 8882190, 9986857, 9986857, 10617423, 10617423, 11689100, 12671821, 12671821, 12801989, 19453561, 19453561, 39512223, 39512223], \"sizemin\": 4, \"sizemode\": \"area\", \"sizeref\": 32000.0}, \"mode\": \"markers\", \"r\": [5, 6, 7, 8, 9, 5, 6, 7, 8, 9, 5, 6, 7, 8, 9, 5, 6, 7, 8, 9, 5, 6, 7, 8, 9, 5, 6, 7, 8, 9, 5, 6, 7, 8, 9, 5, 6, 7, 8, 9, 6, 7, 8, 9, 7, 8, 9, 8, 9, 9], \"subplot\": \"polar\", \"text\": [\"Bernie Sanders\", \"Patrick Leahy\", \"Chris Coons\", \"Tom Carper\", \"Jack Reed\", \"Sheldon Whitehouse\", \"Jon Tester\", \"Angus King\", \"Maggie Hassan\", \"Jeanne Shaheen\", \"Brian Schatz\", \"Mazie Hirono\", \"Joe Manchin\", \"Martin Heinrich\", \"Ben Ray Luj\\u00e1n\", \"Catherine Cortez Masto\", \"Jacky Rosen\", \"Chris Murphy\", \"Richard Blumenthal\", \"Ron Wyden\", \"Jeff Merkley\", \"Tina Smith\", \"Amy Klobuchar\", \"Michael Bennet\", \"John Hickenlooper\", \"Tammy Baldwin\", \"Chris Van Hollen\", \"Ben Cardin\", \"Ed Markey\", \"Elizabeth Warren\", \"Kyrsten Sinema\", \"Mark Kelly\", \"Maria Cantwell\", \"Patty Murray\", \"Tim Kaine\", \"Mark Warner\", \"Bob Menendez\", \"Cory Booker\", \"Gary Peters\", \"Debbie Stabenow\", \"Jon Ossoff\", \"Raphael Warnock\", \"Sherrod Brown\", \"Tammy Duckworth\", \"Dick Durbin\", \"Bob Casey Jr.\", \"Chuck Schumer\", \"Kirsten Gillibrand\", \"Dianne Feinstein\", \"Alex Padilla\"], \"theta\": [180.0, 180.0, 180.0, 180.0, 180.0, 167.14285714285714, 168.75, 170.0, 171.0, 171.8181818181818, 154.28571428571428, 157.5, 160.0, 162.0, 163.63636363636363, 141.42857142857144, 146.25, 150.0, 153.0, 155.45454545454544, 128.57142857142856, 135.0, 140.0, 144.0, 147.27272727272728, 115.71428571428571, 123.75, 130.0, 135.0, 139.0909090909091, 102.85714285714286, 112.5, 120.0, 126.0, 130.9090909090909, 90.0, 101.25, 110.0, 117.0, 122.72727272727272, 90.0, 100.0, 108.0, 114.54545454545455, 90.0, 99.0, 106.36363636363636, 90.0, 98.18181818181819, 90.0], \"type\": \"scatterpolar\"}, {\"marker\": {\"color\": [\"red\", \"red\", \"red\", \"red\", \"red\", \"red\", \"red\", \"red\", \"red\", \"red\", \"red\", \"red\", \"red\", \"red\", \"red\", \"red\", \"red\", \"red\", \"red\", \"red\", \"red\", \"red\", \"red\", \"red\", \"red\", \"red\", \"red\", \"red\", \"red\", \"red\", \"red\", \"red\", \"red\", \"red\", \"red\", \"red\", \"red\", \"red\", \"red\", \"red\", \"red\", \"red\", \"red\", \"red\", \"red\", \"red\", \"red\", \"red\", \"red\", \"red\"], \"size\": [578759, 578759, 731545, 731545, 762062, 762062, 884659, 884659, 1068778, 1344212, 1787065, 1787065, 1792147, 1934408, 1934408, 2913314, 2913314, 2976149, 2976149, 3017804, 3017804, 3155070, 3155070, 3205958, 3205958, 3956971, 3956971, 4467673, 4467673, 4648794, 4648794, 4903185, 4903185, 5148714, 5148714, 5822434, 6137428, 6137428, 6732219, 6732219, 6829174, 6829174, 10488084, 10488084, 11689100, 12801989, 21477737, 21477737, 28995881, 28995881], \"sizemin\": 4, \"sizemode\": \"area\", \"sizeref\": 32000.0}, \"mode\": \"markers\", \"r\": [5, 6, 7, 8, 9, 5, 6, 7, 8, 9, 5, 6, 7, 8, 9, 5, 6, 7, 8, 9, 5, 6, 7, 8, 9, 5, 6, 7, 8, 9, 5, 6, 7, 8, 9, 5, 6, 7, 8, 9, 6, 7, 8, 9, 7, 8, 9, 8, 9, 9], \"subplot\": \"polar2\", \"text\": [\"Cynthia Lummis\", \"John Barrasso\", \"Lisa Murkowski\", \"Dan Sullivan\", \"John Hoeven\", \"Kevin Cramer\", \"Mike Rounds\", \"John Thune\", \"Steve Daines\", \"Susan Collins\", \"Mike Crapo\", \"Jim Risch\", \"Shelley Moore Capito\", \"Deb Fischer\", \"Ben Sasse\", \"Jerry Moran\", \"Roger Marshall\", \"Cindy Hyde-Smith\", \"Roger Wicker\", \"John Boozman\", \"Tom Cotton\", \"Joni Ernst\", \"Chuck Grassley\", \"Mitt Romney\", \"Mike Lee\", \"James Lankford\", \"Jim Inhofe\", \"Mitch McConnell\", \"Rand Paul\", \"Bill Cassidy\", \"John Kennedy\", \"Richard Shelby\", \"Tommy Tuberville\", \"Tim Scott\", \"Lindsey Graham\", \"Ron Johnson\", \"Roy Blunt\", \"Josh Hawley\", \"Mike Braun\", \"Todd Young\", \"Marsha Blackburn\", \"Bill Hagerty\", \"Richard Burr\", \"Thom Tillis\", \"Rob Portman\", \"Pat Toomey\", \"Rick Scott\", \"Marco Rubio\", \"Ted Cruz\", \"John Cornyn\"], \"theta\": [0.0, 0.0, 0.0, 0.0, 0.0, 12.857142857142858, 11.25, 10.0, 9.0, 8.181818181818182, 25.714285714285715, 22.5, 20.0, 18.0, 16.363636363636363, 38.57142857142857, 33.75, 30.0, 27.0, 24.545454545454547, 51.42857142857143, 45.0, 40.0, 36.0, 32.72727272727273, 64.28571428571429, 56.25, 50.0, 45.0, 40.90909090909091, 77.14285714285714, 67.5, 60.0, 54.0, 49.09090909090909, 90.0, 78.75, 70.0, 63.0, 57.27272727272727, 90.0, 80.0, 72.0, 65.45454545454545, 90.0, 81.0, 73.63636363636364, 90.0, 81.81818181818181, 90.0], \"type\": \"scatterpolar\"}],                        {\"font\": {\"size\": 15}, \"paper_bgcolor\": \"white\", \"polar\": {\"angularaxis\": {\"showline\": false, \"showticklabels\": false, \"ticks\": \"\"}, \"bgcolor\": \"white\", \"domain\": {\"x\": [0.0, 0.5], \"y\": [0.0, 1.0]}, \"radialaxis\": {\"showline\": false, \"showticklabels\": false, \"ticks\": \"\"}, \"sector\": [90, 180]}, \"polar2\": {\"angularaxis\": {\"showline\": false, \"showticklabels\": false, \"ticks\": \"\"}, \"bgcolor\": \"white\", \"domain\": {\"x\": [0.5, 1.0], \"y\": [0.0, 1.0]}, \"radialaxis\": {\"showline\": false, \"showticklabels\": false, \"ticks\": \"\"}, \"sector\": [0, 90]}, \"showlegend\": false, \"template\": {\"data\": {\"bar\": [{\"error_x\": {\"color\": \"#2a3f5f\"}, \"error_y\": {\"color\": \"#2a3f5f\"}, \"marker\": {\"line\": {\"color\": \"#E5ECF6\", \"width\": 0.5}}, \"type\": \"bar\"}], \"barpolar\": [{\"marker\": {\"line\": {\"color\": \"#E5ECF6\", \"width\": 0.5}}, \"type\": \"barpolar\"}], \"carpet\": [{\"aaxis\": {\"endlinecolor\": \"#2a3f5f\", \"gridcolor\": \"white\", \"linecolor\": \"white\", \"minorgridcolor\": \"white\", \"startlinecolor\": \"#2a3f5f\"}, \"baxis\": {\"endlinecolor\": \"#2a3f5f\", \"gridcolor\": \"white\", \"linecolor\": \"white\", \"minorgridcolor\": \"white\", \"startlinecolor\": \"#2a3f5f\"}, \"type\": \"carpet\"}], \"choropleth\": [{\"colorbar\": {\"outlinewidth\": 0, \"ticks\": \"\"}, \"type\": \"choropleth\"}], \"contour\": [{\"colorbar\": {\"outlinewidth\": 0, \"ticks\": \"\"}, \"colorscale\": [[0.0, \"#0d0887\"], [0.1111111111111111, \"#46039f\"], [0.2222222222222222, \"#7201a8\"], [0.3333333333333333, \"#9c179e\"], [0.4444444444444444, \"#bd3786\"], [0.5555555555555556, \"#d8576b\"], [0.6666666666666666, \"#ed7953\"], [0.7777777777777778, \"#fb9f3a\"], [0.8888888888888888, \"#fdca26\"], [1.0, \"#f0f921\"]], \"type\": \"contour\"}], \"contourcarpet\": [{\"colorbar\": {\"outlinewidth\": 0, \"ticks\": \"\"}, \"type\": \"contourcarpet\"}], \"heatmap\": [{\"colorbar\": {\"outlinewidth\": 0, \"ticks\": \"\"}, \"colorscale\": [[0.0, \"#0d0887\"], [0.1111111111111111, \"#46039f\"], [0.2222222222222222, \"#7201a8\"], [0.3333333333333333, \"#9c179e\"], [0.4444444444444444, \"#bd3786\"], [0.5555555555555556, \"#d8576b\"], [0.6666666666666666, \"#ed7953\"], [0.7777777777777778, \"#fb9f3a\"], [0.8888888888888888, \"#fdca26\"], [1.0, \"#f0f921\"]], \"type\": \"heatmap\"}], \"heatmapgl\": [{\"colorbar\": {\"outlinewidth\": 0, \"ticks\": \"\"}, \"colorscale\": [[0.0, \"#0d0887\"], [0.1111111111111111, \"#46039f\"], [0.2222222222222222, \"#7201a8\"], [0.3333333333333333, \"#9c179e\"], [0.4444444444444444, \"#bd3786\"], [0.5555555555555556, \"#d8576b\"], [0.6666666666666666, \"#ed7953\"], [0.7777777777777778, \"#fb9f3a\"], [0.8888888888888888, \"#fdca26\"], [1.0, \"#f0f921\"]], \"type\": \"heatmapgl\"}], \"histogram\": [{\"marker\": {\"colorbar\": {\"outlinewidth\": 0, \"ticks\": \"\"}}, \"type\": \"histogram\"}], \"histogram2d\": [{\"colorbar\": {\"outlinewidth\": 0, \"ticks\": \"\"}, \"colorscale\": [[0.0, \"#0d0887\"], [0.1111111111111111, \"#46039f\"], [0.2222222222222222, \"#7201a8\"], [0.3333333333333333, \"#9c179e\"], [0.4444444444444444, \"#bd3786\"], [0.5555555555555556, \"#d8576b\"], [0.6666666666666666, \"#ed7953\"], [0.7777777777777778, \"#fb9f3a\"], [0.8888888888888888, \"#fdca26\"], [1.0, \"#f0f921\"]], \"type\": \"histogram2d\"}], \"histogram2dcontour\": [{\"colorbar\": {\"outlinewidth\": 0, \"ticks\": \"\"}, \"colorscale\": [[0.0, \"#0d0887\"], [0.1111111111111111, \"#46039f\"], [0.2222222222222222, \"#7201a8\"], [0.3333333333333333, \"#9c179e\"], [0.4444444444444444, \"#bd3786\"], [0.5555555555555556, \"#d8576b\"], [0.6666666666666666, \"#ed7953\"], [0.7777777777777778, \"#fb9f3a\"], [0.8888888888888888, \"#fdca26\"], [1.0, \"#f0f921\"]], \"type\": \"histogram2dcontour\"}], \"mesh3d\": [{\"colorbar\": {\"outlinewidth\": 0, \"ticks\": \"\"}, \"type\": \"mesh3d\"}], \"parcoords\": [{\"line\": {\"colorbar\": {\"outlinewidth\": 0, \"ticks\": \"\"}}, \"type\": \"parcoords\"}], \"pie\": [{\"automargin\": true, \"type\": \"pie\"}], \"scatter\": [{\"marker\": {\"colorbar\": {\"outlinewidth\": 0, \"ticks\": \"\"}}, \"type\": \"scatter\"}], \"scatter3d\": [{\"line\": {\"colorbar\": {\"outlinewidth\": 0, \"ticks\": \"\"}}, \"marker\": {\"colorbar\": {\"outlinewidth\": 0, \"ticks\": \"\"}}, \"type\": \"scatter3d\"}], \"scattercarpet\": [{\"marker\": {\"colorbar\": {\"outlinewidth\": 0, \"ticks\": \"\"}}, \"type\": \"scattercarpet\"}], \"scattergeo\": [{\"marker\": {\"colorbar\": {\"outlinewidth\": 0, \"ticks\": \"\"}}, \"type\": \"scattergeo\"}], \"scattergl\": [{\"marker\": {\"colorbar\": {\"outlinewidth\": 0, \"ticks\": \"\"}}, \"type\": \"scattergl\"}], \"scattermapbox\": [{\"marker\": {\"colorbar\": {\"outlinewidth\": 0, \"ticks\": \"\"}}, \"type\": \"scattermapbox\"}], \"scatterpolar\": [{\"marker\": {\"colorbar\": {\"outlinewidth\": 0, \"ticks\": \"\"}}, \"type\": \"scatterpolar\"}], \"scatterpolargl\": [{\"marker\": {\"colorbar\": {\"outlinewidth\": 0, \"ticks\": \"\"}}, \"type\": \"scatterpolargl\"}], \"scatterternary\": [{\"marker\": {\"colorbar\": {\"outlinewidth\": 0, \"ticks\": \"\"}}, \"type\": \"scatterternary\"}], \"surface\": [{\"colorbar\": {\"outlinewidth\": 0, \"ticks\": \"\"}, \"colorscale\": [[0.0, \"#0d0887\"], [0.1111111111111111, \"#46039f\"], [0.2222222222222222, \"#7201a8\"], [0.3333333333333333, \"#9c179e\"], [0.4444444444444444, \"#bd3786\"], [0.5555555555555556, \"#d8576b\"], [0.6666666666666666, \"#ed7953\"], [0.7777777777777778, \"#fb9f3a\"], [0.8888888888888888, \"#fdca26\"], [1.0, \"#f0f921\"]], \"type\": \"surface\"}], \"table\": [{\"cells\": {\"fill\": {\"color\": \"#EBF0F8\"}, \"line\": {\"color\": \"white\"}}, \"header\": {\"fill\": {\"color\": \"#C8D4E3\"}, \"line\": {\"color\": \"white\"}}, \"type\": \"table\"}]}, \"layout\": {\"annotationdefaults\": {\"arrowcolor\": \"#2a3f5f\", \"arrowhead\": 0, \"arrowwidth\": 1}, \"autotypenumbers\": \"strict\", \"coloraxis\": {\"colorbar\": {\"outlinewidth\": 0, \"ticks\": \"\"}}, \"colorscale\": {\"diverging\": [[0, \"#8e0152\"], [0.1, \"#c51b7d\"], [0.2, \"#de77ae\"], [0.3, \"#f1b6da\"], [0.4, \"#fde0ef\"], [0.5, \"#f7f7f7\"], [0.6, \"#e6f5d0\"], [0.7, \"#b8e186\"], [0.8, \"#7fbc41\"], [0.9, \"#4d9221\"], [1, \"#276419\"]], \"sequential\": [[0.0, \"#0d0887\"], [0.1111111111111111, \"#46039f\"], [0.2222222222222222, \"#7201a8\"], [0.3333333333333333, \"#9c179e\"], [0.4444444444444444, \"#bd3786\"], [0.5555555555555556, \"#d8576b\"], [0.6666666666666666, \"#ed7953\"], [0.7777777777777778, \"#fb9f3a\"], [0.8888888888888888, \"#fdca26\"], [1.0, \"#f0f921\"]], \"sequentialminus\": [[0.0, \"#0d0887\"], [0.1111111111111111, \"#46039f\"], [0.2222222222222222, \"#7201a8\"], [0.3333333333333333, \"#9c179e\"], [0.4444444444444444, \"#bd3786\"], [0.5555555555555556, \"#d8576b\"], [0.6666666666666666, \"#ed7953\"], [0.7777777777777778, \"#fb9f3a\"], [0.8888888888888888, \"#fdca26\"], [1.0, \"#f0f921\"]]}, \"colorway\": [\"#636efa\", \"#EF553B\", \"#00cc96\", \"#ab63fa\", \"#FFA15A\", \"#19d3f3\", \"#FF6692\", \"#B6E880\", \"#FF97FF\", \"#FECB52\"], \"font\": {\"color\": \"#2a3f5f\"}, \"geo\": {\"bgcolor\": \"white\", \"lakecolor\": \"white\", \"landcolor\": \"#E5ECF6\", \"showlakes\": true, \"showland\": true, \"subunitcolor\": \"white\"}, \"hoverlabel\": {\"align\": \"left\"}, \"hovermode\": \"closest\", \"mapbox\": {\"style\": \"light\"}, \"paper_bgcolor\": \"white\", \"plot_bgcolor\": \"#E5ECF6\", \"polar\": {\"angularaxis\": {\"gridcolor\": \"white\", \"linecolor\": \"white\", \"ticks\": \"\"}, \"bgcolor\": \"#E5ECF6\", \"radialaxis\": {\"gridcolor\": \"white\", \"linecolor\": \"white\", \"ticks\": \"\"}}, \"scene\": {\"xaxis\": {\"backgroundcolor\": \"#E5ECF6\", \"gridcolor\": \"white\", \"gridwidth\": 2, \"linecolor\": \"white\", \"showbackground\": true, \"ticks\": \"\", \"zerolinecolor\": \"white\"}, \"yaxis\": {\"backgroundcolor\": \"#E5ECF6\", \"gridcolor\": \"white\", \"gridwidth\": 2, \"linecolor\": \"white\", \"showbackground\": true, \"ticks\": \"\", \"zerolinecolor\": \"white\"}, \"zaxis\": {\"backgroundcolor\": \"#E5ECF6\", \"gridcolor\": \"white\", \"gridwidth\": 2, \"linecolor\": \"white\", \"showbackground\": true, \"ticks\": \"\", \"zerolinecolor\": \"white\"}}, \"shapedefaults\": {\"line\": {\"color\": \"#2a3f5f\"}}, \"ternary\": {\"aaxis\": {\"gridcolor\": \"white\", \"linecolor\": \"white\", \"ticks\": \"\"}, \"baxis\": {\"gridcolor\": \"white\", \"linecolor\": \"white\", \"ticks\": \"\"}, \"bgcolor\": \"#E5ECF6\", \"caxis\": {\"gridcolor\": \"white\", \"linecolor\": \"white\", \"ticks\": \"\"}}, \"title\": {\"x\": 0.05}, \"xaxis\": {\"automargin\": true, \"gridcolor\": \"white\", \"linecolor\": \"white\", \"ticks\": \"\", \"title\": {\"standoff\": 15}, \"zerolinecolor\": \"white\", \"zerolinewidth\": 2}, \"yaxis\": {\"automargin\": true, \"gridcolor\": \"white\", \"linecolor\": \"white\", \"ticks\": \"\", \"title\": {\"standoff\": 15}, \"zerolinecolor\": \"white\", \"zerolinewidth\": 2}}}, \"title\": {\"text\": \"US Senate\"}},                        {\"responsive\": true}                    ).then(function(){\n",
       "                            \n",
       "var gd = document.getElementById('b4e30184-e10f-4988-945f-bb8f32bdec4c');\n",
       "var x = new MutationObserver(function (mutations, observer) {{\n",
       "        var display = window.getComputedStyle(gd).display;\n",
       "        if (!display || display === 'none') {{\n",
       "            console.log([gd, 'removed!']);\n",
       "            Plotly.purge(gd);\n",
       "            observer.disconnect();\n",
       "        }}\n",
       "}});\n",
       "\n",
       "// Listen for the removal of the full notebook cells\n",
       "var notebookContainer = gd.closest('#notebook-container');\n",
       "if (notebookContainer) {{\n",
       "    x.observe(notebookContainer, {childList: true});\n",
       "}}\n",
       "\n",
       "// Listen for the clearing of the current output cell\n",
       "var outputEl = gd.closest('.output');\n",
       "if (outputEl) {{\n",
       "    x.observe(outputEl, {childList: true});\n",
       "}}\n",
       "\n",
       "                        })                };                });            </script>        </div>"
      ]
     },
     "metadata": {},
     "output_type": "display_data"
    }
   ],
   "source": [
    "\n",
    "\n",
    "# # ....uhh is this.... used?\n",
    "# r_vals = [a[0] for a in dem_coords] + [a[0] for a in rep_coords]\n",
    "# theta_vals = [a[1] for a in dem_coords] + [a[1] for a in rep_coords]\n",
    "\n",
    "\n",
    "\n",
    "\n",
    "# democrat side\n",
    "fig.add_trace(go.Scatterpolar(\n",
    "        r = [a[0] for a in dem_coords],\n",
    "        theta = [a[1] for a in dem_coords],\n",
    "        text=list(Ds['Senator']),\n",
    "        mode = 'markers',\n",
    "        marker = dict(\n",
    "            color = Ds['color'],\n",
    "            size = list(Ds['Population']),\n",
    "            sizemode = 'area',\n",
    "            sizeref = 2.*40000000/(50.**2),\n",
    "            sizemin = 4)\n",
    "    ), 1, 1)\n",
    "\n",
    "# republican side\n",
    "fig.add_trace(go.Scatterpolar(\n",
    "        r = [a[0] for a in rep_coords],\n",
    "        theta = [a[1] for a in rep_coords],\n",
    "        text = list(Rs['Senator']),\n",
    "        mode = 'markers',\n",
    "        marker = dict(\n",
    "            color = Rs['color'],\n",
    "            size = list(Rs['Population']),\n",
    "            sizemode = 'area',\n",
    "            sizeref = 2.*40000000/(50.**2),\n",
    "            sizemin = 4)\n",
    "    ), 1, 2)\n",
    "\n",
    "# @TODO: Draw line around 18 top senators\n",
    "\n",
    "\n",
    "fig.update_layout(\n",
    "    title = \"US Senate\",\n",
    "    font_size = 15,\n",
    "    showlegend = False,\n",
    "    polar = dict(\n",
    "        sector = [90,180],\n",
    "        bgcolor = \"white\",\n",
    "        angularaxis = dict(showline=False,showticklabels=False, ticks=''),\n",
    "        radialaxis = dict(showline=False, showticklabels=False, ticks='')\n",
    "    ),\n",
    "    polar2 = dict(\n",
    "        sector = [0, 90],\n",
    "        bgcolor = \"white\",\n",
    "        angularaxis = dict(showline=False,showticklabels=False, ticks=''),\n",
    "        radialaxis = dict(showline = False,showticklabels=False, ticks='')\n",
    "    ),\n",
    "    paper_bgcolor = \"white\"\n",
    ")\n",
    "\n",
    "\n",
    "\n",
    "fig.show()"
   ]
  },
  {
   "cell_type": "code",
   "execution_count": null,
   "metadata": {},
   "outputs": [],
   "source": []
  },
  {
   "cell_type": "code",
   "execution_count": null,
   "metadata": {},
   "outputs": [],
   "source": []
  },
  {
   "cell_type": "code",
   "execution_count": null,
   "metadata": {},
   "outputs": [],
   "source": [
    "# OLD\n",
    "R_coords = []\n",
    "for i in range(10):\n",
    "    for j in range(5):\n",
    "        R_coords.append([i, j])\n",
    "\n",
    "D_coords = []\n",
    "for i in range(10, 20):\n",
    "    for j in range(5):\n",
    "        D_coords.append([i, j])\n",
    "        \n",
    "# put coords into table?"
   ]
  },
  {
   "cell_type": "code",
   "execution_count": null,
   "metadata": {},
   "outputs": [],
   "source": []
  },
  {
   "cell_type": "code",
   "execution_count": null,
   "metadata": {},
   "outputs": [],
   "source": []
  },
  {
   "cell_type": "code",
   "execution_count": null,
   "metadata": {},
   "outputs": [],
   "source": [
    "# bubble plot of population of each state, with mouseover labels for each senator\n",
    "x_vals = [a[0] for a in (R_coords + D_coords)]\n",
    "y_vals = [a[1] for a in (R_coords + D_coords)]\n",
    "pops = [a for a in (R_pops + D_pops)]\n",
    "\n",
    "bubble(x_vals, y_vals, colors, pops, full_sen_list)"
   ]
  }
 ],
 "metadata": {
  "kernelspec": {
   "display_name": "Python 3",
   "language": "python",
   "name": "python3"
  },
  "language_info": {
   "codemirror_mode": {
    "name": "ipython",
    "version": 3
   },
   "file_extension": ".py",
   "mimetype": "text/x-python",
   "name": "python",
   "nbconvert_exporter": "python",
   "pygments_lexer": "ipython3",
   "version": "3.8.3"
  }
 },
 "nbformat": 4,
 "nbformat_minor": 4
}
