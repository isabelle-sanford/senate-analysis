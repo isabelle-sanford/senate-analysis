{
 "metadata": {
  "language_info": {
   "codemirror_mode": {
    "name": "ipython",
    "version": 3
   },
   "file_extension": ".py",
   "mimetype": "text/x-python",
   "name": "python",
   "nbconvert_exporter": "python",
   "pygments_lexer": "ipython3",
   "version": "3.8.3-final"
  },
  "orig_nbformat": 2,
  "kernelspec": {
   "name": "python383jvsc74a57bd0009c6260f8c949f949e8d5c80e91b7d11da42068722b763148e110eb4d6efd9c",
   "display_name": "Python 3.8.3 64-bit (conda)"
  }
 },
 "nbformat": 4,
 "nbformat_minor": 2,
 "cells": [
  {
   "cell_type": "code",
   "execution_count": 3,
   "metadata": {},
   "outputs": [],
   "source": [
    "# Dependencies\n",
    "import pymongo\n",
    "# import datetime\n",
    "import pandas as pd\n",
    "from bson.json_util import dumps\n",
    "\n",
    "from religion_cleaning1 import relig_dict\n",
    "\n",
    "# The default port used by MongoDB is 27017\n",
    "# https://docs.mongodb.com/manual/reference/default-mongodb-port/\n",
    "conn = 'mongodb://localhost:27017'\n",
    "client = pymongo.MongoClient(conn)\n",
    "\n",
    "# Declare the database\n",
    "db = client.senate_db\n",
    "\n",
    "# Declare the collections\n",
    "senators = db.senators_db\n",
    "uspop = db.us_db\n",
    "religion = db.religion_db"
   ]
  },
  {
   "cell_type": "code",
   "execution_count": 5,
   "metadata": {},
   "outputs": [],
   "source": [
    "sen_path = '../resources/SPopulation.csv'\n",
    "sen_data = pd.read_csv(sen_path)\n",
    "\n",
    "us_path = '../resources/CensusAttributesData.csv'\n",
    "us_data = pd.read_csv(us_path)\n",
    "\n",
    "religion_path = '../resources/USReligionClean.csv'\n",
    "relig_data = pd.read_csv(religion_path)"
   ]
  },
  {
   "cell_type": "code",
   "execution_count": 7,
   "metadata": {},
   "outputs": [],
   "source": [
    "\n",
    "senators.delete_many({})\n",
    "\n",
    "sen_list = []\n",
    "for p in sen_data.iterrows():\n",
    "    row = p[1] # p[0] is the index of the row\n",
    "        \n",
    "    sen_row = {\n",
    "        'st': row['st'],\n",
    "        'state': row['State'],\n",
    "        'senator': row['Senator'],\n",
    "        'party': row['party'],\n",
    "        'born': row['Born'],\n",
    "        'assumed_office': row['assumed_office'],\n",
    "        'term_up': row['assumed_office'],\n",
    "        'population': row['population'],\n",
    "        'gender': row['gender'],\n",
    "        'race': row['race'],\n",
    "        'religion': row['Religion']\n",
    "    }\n",
    "    \n",
    "    sen_list.append(sen_row)\n",
    "    senators.insert_one(sen_row)"
   ]
  },
  {
   "cell_type": "code",
   "execution_count": 9,
   "metadata": {},
   "outputs": [
    {
     "output_type": "execute_result",
     "data": {
      "text/plain": [
       "Index(['SUMLEV', 'REGION', 'DIVISION', 'STATE', 'NAME', 'SEX', 'ORIGIN',\n",
       "       'RACE', 'AGE', 'CENSUS2010POP', 'ESTIMATESBASE2010', 'POPESTIMATE2010',\n",
       "       'POPESTIMATE2011', 'POPESTIMATE2012', 'POPESTIMATE2013',\n",
       "       'POPESTIMATE2014', 'POPESTIMATE2015', 'POPESTIMATE2016',\n",
       "       'POPESTIMATE2017', 'POPESTIMATE2018', 'POPESTIMATE2019'],\n",
       "      dtype='object')"
      ]
     },
     "metadata": {},
     "execution_count": 9
    }
   ],
   "source": [
    "us_data.columns"
   ]
  },
  {
   "cell_type": "code",
   "execution_count": 11,
   "metadata": {},
   "outputs": [
    {
     "output_type": "execute_result",
     "data": {
      "text/plain": [
       "   STATE     NAME  SEX  ORIGIN  RACE  AGE  POPESTIMATE2019\n",
       "0      1  Alabama    0       0     1    0            35594\n",
       "1      1  Alabama    0       0     1    1            36679\n",
       "2      1  Alabama    0       0     1    2            37904\n",
       "3      1  Alabama    0       0     1    3            38510\n",
       "4      1  Alabama    0       0     1    4            38476"
      ],
      "text/html": "<div>\n<style scoped>\n    .dataframe tbody tr th:only-of-type {\n        vertical-align: middle;\n    }\n\n    .dataframe tbody tr th {\n        vertical-align: top;\n    }\n\n    .dataframe thead th {\n        text-align: right;\n    }\n</style>\n<table border=\"1\" class=\"dataframe\">\n  <thead>\n    <tr style=\"text-align: right;\">\n      <th></th>\n      <th>STATE</th>\n      <th>NAME</th>\n      <th>SEX</th>\n      <th>ORIGIN</th>\n      <th>RACE</th>\n      <th>AGE</th>\n      <th>POPESTIMATE2019</th>\n    </tr>\n  </thead>\n  <tbody>\n    <tr>\n      <th>0</th>\n      <td>1</td>\n      <td>Alabama</td>\n      <td>0</td>\n      <td>0</td>\n      <td>1</td>\n      <td>0</td>\n      <td>35594</td>\n    </tr>\n    <tr>\n      <th>1</th>\n      <td>1</td>\n      <td>Alabama</td>\n      <td>0</td>\n      <td>0</td>\n      <td>1</td>\n      <td>1</td>\n      <td>36679</td>\n    </tr>\n    <tr>\n      <th>2</th>\n      <td>1</td>\n      <td>Alabama</td>\n      <td>0</td>\n      <td>0</td>\n      <td>1</td>\n      <td>2</td>\n      <td>37904</td>\n    </tr>\n    <tr>\n      <th>3</th>\n      <td>1</td>\n      <td>Alabama</td>\n      <td>0</td>\n      <td>0</td>\n      <td>1</td>\n      <td>3</td>\n      <td>38510</td>\n    </tr>\n    <tr>\n      <th>4</th>\n      <td>1</td>\n      <td>Alabama</td>\n      <td>0</td>\n      <td>0</td>\n      <td>1</td>\n      <td>4</td>\n      <td>38476</td>\n    </tr>\n  </tbody>\n</table>\n</div>"
     },
     "metadata": {},
     "execution_count": 11
    }
   ],
   "source": [
    "cleaned_us_data = us_data[['STATE', 'NAME', 'SEX', 'ORIGIN', 'RACE', 'AGE', 'POPESTIMATE2019']]\n",
    "cleaned_us_data.head()"
   ]
  },
  {
   "cell_type": "code",
   "execution_count": 13,
   "metadata": {},
   "outputs": [
    {
     "output_type": "stream",
     "name": "stdout",
     "text": [
      "0.0\n",
      "1.0\n",
      "2.0\n",
      "3.0\n",
      "4.0\n",
      "5.0\n",
      "6.0\n",
      "7.0\n",
      "8.0\n",
      "9.0\n",
      "10.0\n",
      "11.0\n",
      "12.0\n",
      "13.0\n",
      "14.0\n",
      "15.0\n",
      "16.0\n",
      "17.0\n",
      "18.0\n",
      "19.0\n",
      "20.0\n",
      "21.0\n",
      "22.0\n",
      "23.0\n"
     ]
    }
   ],
   "source": [
    "#uspop.delete_many({})\n",
    "\n",
    "\n",
    "us_list = []\n",
    "for p in cleaned_us_data.iterrows():\n",
    "    row = p[1] # p[0] is the index of the row\n",
    "\n",
    "    if p[0] % 10000 == 0:\n",
    "        print(p[0]/10000)\n",
    "        \n",
    "    us_row = {\n",
    "        'NAME': row['NAME'],\n",
    "        'STATE': row['STATE'],\n",
    "        'SEX': row['SEX'],\n",
    "        'ORIGIN': row['ORIGIN'],\n",
    "        'RACE': row['RACE'],\n",
    "        'AGE': row['AGE'],\n",
    "        'POPESTIMATE2019': row['POPESTIMATE2019']\n",
    "    }\n",
    "\n",
    "    \n",
    "    \n",
    "    us_list.append(us_row)\n",
    "    #uspop.insert_one(us_row)\n",
    "\n",
    "# WHY DOES THIS TAKE SO LONG\n",
    "# 46 secs without mongo\n",
    "# 3 minutes with??"
   ]
  },
  {
   "cell_type": "code",
   "execution_count": 15,
   "metadata": {},
   "outputs": [],
   "source": [
    "wyoming = []\n",
    "for b in us_list:\n",
    "    if b['NAME'] == 'Wyoming':\n",
    "        wyoming.append(b)"
   ]
  },
  {
   "cell_type": "code",
   "execution_count": 26,
   "metadata": {},
   "outputs": [],
   "source": [
    "religion.delete_many({})\n",
    "\n",
    "\n",
    "relig_list = []\n",
    "for p in relig_data.iterrows():\n",
    "    #print(p)\n",
    "    row = p[1] # p[0] is the index of the row\n",
    "\n",
    "\n",
    "    #relig_cols = ['index', 'religion', 'percent', 'christian', 'protestant']\n",
    "        \n",
    "    relig_row = {\n",
    "        'Religion': row['Religion'],\n",
    "        'Percent': row['Percent'],\n",
    "        'Christian': row['Christian'],\n",
    "        'Protestant': row['Protestant']\n",
    "    }\n",
    "\n",
    "    \n",
    "    \n",
    "    relig_list.append(p)\n",
    "\n",
    "    religion.insert_one(relig_row)\n",
    "\n",
    "\n",
    "#print(type(relig_list))\n",
    "    # should definitely make this into a function sigh"
   ]
  },
  {
   "cell_type": "code",
   "execution_count": 21,
   "metadata": {},
   "outputs": [],
   "source": [
    "json_sen_data = dumps(list(senators.find()))\n",
    " \n",
    "with open('senators.json', 'w') as file: \n",
    "    file.write(json_sen_data) "
   ]
  },
  {
   "cell_type": "code",
   "execution_count": 22,
   "metadata": {},
   "outputs": [],
   "source": [
    "json_us_data = dumps(list(uspop.find()))\n",
    " \n",
    "with open('uspop.json', 'w') as file: \n",
    "    file.write(json_us_data) "
   ]
  },
  {
   "cell_type": "code",
   "execution_count": 27,
   "metadata": {},
   "outputs": [],
   "source": [
    "json_relig_data = dumps(list(religion.find()))\n",
    " \n",
    "with open('religion.json', 'w') as file: \n",
    "    file.write(json_relig_data) "
   ]
  },
  {
   "cell_type": "code",
   "execution_count": null,
   "metadata": {},
   "outputs": [],
   "source": []
  }
 ]
}