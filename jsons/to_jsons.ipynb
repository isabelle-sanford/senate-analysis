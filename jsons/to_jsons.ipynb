{
 "metadata": {
  "language_info": {
   "codemirror_mode": {
    "name": "ipython",
    "version": 3
   },
   "file_extension": ".py",
   "mimetype": "text/x-python",
   "name": "python",
   "nbconvert_exporter": "python",
   "pygments_lexer": "ipython3",
   "version": "3.8.3"
  },
  "orig_nbformat": 2,
  "kernelspec": {
   "name": "python3",
   "display_name": "Python 3.8.3 64-bit ('base': conda)",
   "metadata": {
    "interpreter": {
     "hash": "009c6260f8c949f949e8d5c80e91b7d11da42068722b763148e110eb4d6efd9c"
    }
   }
  }
 },
 "nbformat": 4,
 "nbformat_minor": 2,
 "cells": [
  {
   "cell_type": "code",
   "execution_count": 28,
   "metadata": {},
   "outputs": [],
   "source": [
    "# Dependencies\n",
    "import pymongo\n",
    "import datetime\n",
    "import pandas as pd\n",
    "from bson.json_util import dumps\n",
    "\n",
    "from religion_cleaning1 import relig_dict\n",
    "\n",
    "# The default port used by MongoDB is 27017\n",
    "# https://docs.mongodb.com/manual/reference/default-mongodb-port/\n",
    "conn = 'mongodb://localhost:27017'\n",
    "client = pymongo.MongoClient(conn)\n",
    "\n",
    "# Declare the database\n",
    "db = client.senate_db\n",
    "\n",
    "# Declare the collections\n",
    "senators = db.senators_db\n",
    "uspop = db.us_db\n",
    "religion = db.religion_db"
   ]
  },
  {
   "cell_type": "code",
   "execution_count": 29,
   "metadata": {},
   "outputs": [],
   "source": [
    "sen_path = '../resources/SPopulation.csv'\n",
    "sen_data = pd.read_csv(sen_path)\n",
    "\n",
    "us_path = '../resources/CensusAttributesData.csv'\n",
    "us_data = pd.read_csv(us_path)\n",
    "\n",
    "religion_path = '../resources/ReligiousAffiliationByState.csv'\n",
    "relig_data = pd.read_csv(religion_path)"
   ]
  },
  {
   "cell_type": "code",
   "execution_count": 30,
   "metadata": {},
   "outputs": [],
   "source": [
    "\n",
    "senators.delete_many({})\n",
    "\n",
    "#,State,Senator,party,Born,assumed_office,term_up,st,population,Religion,gender,color,race\n",
    "\n",
    "sen_list = []\n",
    "for p in sen_data.iterrows():\n",
    "    row = p[1] # p[0] is the index of the row\n",
    "\n",
    "\n",
    "    # index = Column(Integer, primary_key = True)\n",
    "\n",
    "        \n",
    "    sen_row = {\n",
    "        'st': row['st'],\n",
    "        'state': row['State'],\n",
    "        'senator': row['Senator'],\n",
    "        'party': row['party'],\n",
    "        'born': row['Born'],\n",
    "        'assumed_office': row['assumed_office'],\n",
    "        'term_up': row['assumed_office'],\n",
    "        'population': row['population'],\n",
    "        'gender': row['gender'],\n",
    "        'race': row['race'],\n",
    "        'religion': row['Religion']\n",
    "    }\n",
    "\n",
    "    \n",
    "    \n",
    "    sen_list.append(sen_row)\n",
    "    senators.insert_one(sen_row)"
   ]
  },
  {
   "cell_type": "code",
   "execution_count": 31,
   "metadata": {},
   "outputs": [],
   "source": [
    "uspop.delete_many({})\n",
    "\n",
    "\n",
    "us_list = []\n",
    "for p in us_data.iterrows():\n",
    "    row = p[1] # p[0] is the index of the row\n",
    "\n",
    "        \n",
    "    us_row = {\n",
    "        'NAME': row['NAME'],\n",
    "        'STATE': row['STATE'],\n",
    "        'SEX': row['SEX'],\n",
    "        'ORIGIN': row['ORIGIN'],\n",
    "        'RACE': row['RACE'],\n",
    "        'AGE': row['AGE'],\n",
    "        'POPESTIMATE2019': row['POPESTIMATE2019']\n",
    "    }\n",
    "\n",
    "    \n",
    "    \n",
    "    us_list.append(us_row)\n",
    "    uspop.insert_one(us_row)\n",
    "\n",
    "# WHY DOES THIS TAKE SO LONG"
   ]
  },
  {
   "cell_type": "code",
   "execution_count": 32,
   "metadata": {},
   "outputs": [
    {
     "output_type": "execute_result",
     "data": {
      "text/plain": [
       "<pymongo.results.InsertOneResult at 0x20631ede640>"
      ]
     },
     "metadata": {},
     "execution_count": 32
    }
   ],
   "source": [
    "religion.delete_many({})\n",
    "\n",
    "\n",
    "# relig_list = []\n",
    "# for p in relig_dict:\n",
    "    # print(p)\n",
    "    # row = p[1] # p[0] is the index of the row\n",
    "\n",
    "\n",
    "    # #relig_cols = ['index', 'state', 'catholic', 'jewish', 'muslim', 'buddhist', 'hindu', 'agnostic']\n",
    "        \n",
    "    # relig_row = {\n",
    "    #     'State': row['state'],\n",
    "    #     'Catholic': row['catholic'],\n",
    "    #     'Jewish': row['jewish'],\n",
    "    #     'Muslim': row['muslim'],\n",
    "    #     'Buddhist': row['buddhist'],\n",
    "    #     'Hindu': row['hindu'],\n",
    "    #     'Agnostic': row['agnostic']\n",
    "    # }\n",
    "\n",
    "    \n",
    "    \n",
    "    # relig_list.append(p)\n",
    "religion.insert_one(relig_dict)\n",
    "\n",
    "\n",
    "#print(type(relig_list))\n",
    "    # should definitely make this into a function sigh"
   ]
  },
  {
   "cell_type": "code",
   "execution_count": 33,
   "metadata": {},
   "outputs": [],
   "source": [
    "json_sen_data = dumps(list(senators.find()))\n",
    " \n",
    "with open('senators.json', 'w') as file: \n",
    "    file.write(json_sen_data) "
   ]
  },
  {
   "cell_type": "code",
   "execution_count": 34,
   "metadata": {},
   "outputs": [],
   "source": [
    "json_us_data = dumps(list(uspop.find()))\n",
    " \n",
    "with open('uspop.json', 'w') as file: \n",
    "    file.write(json_us_data) "
   ]
  },
  {
   "cell_type": "code",
   "execution_count": 35,
   "metadata": {},
   "outputs": [],
   "source": [
    "json_relig_data = dumps(list(religion.find()))\n",
    " \n",
    "with open('religion.json', 'w') as file: \n",
    "    file.write(json_relig_data) "
   ]
  },
  {
   "cell_type": "code",
   "execution_count": null,
   "metadata": {},
   "outputs": [],
   "source": []
  }
 ]
}